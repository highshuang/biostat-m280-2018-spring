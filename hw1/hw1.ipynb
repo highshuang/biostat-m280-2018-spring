{
 "cells": [
  {
   "cell_type": "markdown",
   "metadata": {},
   "source": [
    "# Biostats280 Homework 1\n",
    "- Author: Shuang Gao \n",
    "- Date: 2018/04/17"
   ]
  },
  {
   "cell_type": "markdown",
   "metadata": {},
   "source": [
    "## Question 2\n",
    "2.1 Associative rule for addition says (x + y) + z == x + (y + z). Check association rule using x = 0.1, y = 0.1 and z = 1.0 in Julia. Explain what you find."
   ]
  },
  {
   "cell_type": "code",
   "execution_count": 49,
   "metadata": {},
   "outputs": [
    {
     "data": {
      "text/plain": [
       "false"
      ]
     },
     "execution_count": 49,
     "metadata": {},
     "output_type": "execute_result"
    }
   ],
   "source": [
    "x, y, z = 0.1, 0.1, 1.0\n",
    "(x + y) + z == x + (y + z)"
   ]
  },
  {
   "cell_type": "code",
   "execution_count": 9,
   "metadata": {},
   "outputs": [
    {
     "name": "stdout",
     "output_type": "stream",
     "text": [
      "(x + y) + z = 1.2\n",
      "x + (y + z) = 1.2000000000000002\n"
     ]
    },
    {
     "data": {
      "text/plain": [
       "1.2000000000000002"
      ]
     },
     "execution_count": 9,
     "metadata": {},
     "output_type": "execute_result"
    }
   ],
   "source": [
    "@show (x + y) + z\n",
    "@show x + (y + z)"
   ]
  },
  {
   "cell_type": "markdown",
   "metadata": {},
   "source": [
    "- The floating point in the left hand side is rounded to the first decimal place, but the floating point in the right hand side is arounded to 16th decimal place. Such rounding difference results in the violation of the associative rule for floating point addition."
   ]
  },
  {
   "cell_type": "markdown",
   "metadata": {},
   "source": [
    "2.2 Do floating-point numbers obey the associative rule for multiplication: (x * y) * z == x * (y * z)?"
   ]
  },
  {
   "cell_type": "code",
   "execution_count": 18,
   "metadata": {},
   "outputs": [
    {
     "data": {
      "text/plain": [
       "true"
      ]
     },
     "execution_count": 18,
     "metadata": {},
     "output_type": "execute_result"
    }
   ],
   "source": [
    "x, y, z = 0.3, 0.9, 0.4\n",
    "(x * y) * z == x * (y * z)"
   ]
  },
  {
   "cell_type": "code",
   "execution_count": 19,
   "metadata": {},
   "outputs": [
    {
     "name": "stdout",
     "output_type": "stream",
     "text": [
      "(x * y) * z = 0.10800000000000001\n",
      "x * (y * z) = 0.10800000000000001\n"
     ]
    },
    {
     "data": {
      "text/plain": [
       "0.10800000000000001"
      ]
     },
     "execution_count": 19,
     "metadata": {},
     "output_type": "execute_result"
    }
   ],
   "source": [
    "@show (x * y) * z\n",
    "@show x * (y * z)"
   ]
  },
  {
   "cell_type": "code",
   "execution_count": 21,
   "metadata": {},
   "outputs": [
    {
     "data": {
      "text/plain": [
       "false"
      ]
     },
     "execution_count": 21,
     "metadata": {},
     "output_type": "execute_result"
    }
   ],
   "source": [
    "x, y, z = 0.3, 0.1, 0.4\n",
    "(x * y) * z == x * (y * z)"
   ]
  },
  {
   "cell_type": "code",
   "execution_count": 22,
   "metadata": {},
   "outputs": [
    {
     "name": "stdout",
     "output_type": "stream",
     "text": [
      "(x * y) * z = 0.012\n",
      "x * (y * z) = 0.012000000000000002\n"
     ]
    },
    {
     "data": {
      "text/plain": [
       "0.012000000000000002"
      ]
     },
     "execution_count": 22,
     "metadata": {},
     "output_type": "execute_result"
    }
   ],
   "source": [
    "@show (x * y) * z\n",
    "@show x * (y * z)"
   ]
  },
  {
   "cell_type": "markdown",
   "metadata": {},
   "source": [
    "- Same thing happens as in part 2.1. The floating point in the left hand side is rounded to the third decimal place, but the floating point in the right hand side is arounded to 18th decimal place. Such rounding difference results in the violation of the associative rule for floating point multiplication."
   ]
  },
  {
   "cell_type": "markdown",
   "metadata": {},
   "source": [
    "2.3 Do floating-point numbers obey the distributive rule: a * (x + y) == a * x + a * y?"
   ]
  },
  {
   "cell_type": "code",
   "execution_count": 39,
   "metadata": {},
   "outputs": [
    {
     "data": {
      "text/plain": [
       "false"
      ]
     },
     "execution_count": 39,
     "metadata": {},
     "output_type": "execute_result"
    }
   ],
   "source": [
    "a, x, y = 0.4, 0.1, 0.3 \n",
    "a * (x + y) == a * x + a * y "
   ]
  },
  {
   "cell_type": "code",
   "execution_count": 28,
   "metadata": {},
   "outputs": [
    {
     "name": "stdout",
     "output_type": "stream",
     "text": [
      "a * (x + y) = 0.16000000000000003\n",
      "a * x + a * y = 0.16\n"
     ]
    },
    {
     "data": {
      "text/plain": [
       "0.16"
      ]
     },
     "execution_count": 28,
     "metadata": {},
     "output_type": "execute_result"
    }
   ],
   "source": [
    "@show a * (x + y)\n",
    "@show a * x + a * y "
   ]
  },
  {
   "cell_type": "markdown",
   "metadata": {},
   "source": [
    "- The floating point in the left hand side is rounded to the 17th  decimal place, but the floating point in the right hand side is arounded to second decimal place. Such rounding difference results in the violation of the distributive rule for floating point."
   ]
  },
  {
   "cell_type": "markdown",
   "metadata": {},
   "source": [
    "2.4 Is 0 * x == 0 true for all floating-point number x?"
   ]
  },
  {
   "cell_type": "code",
   "execution_count": 41,
   "metadata": {},
   "outputs": [
    {
     "data": {
      "text/plain": [
       "false"
      ]
     },
     "execution_count": 41,
     "metadata": {},
     "output_type": "execute_result"
    }
   ],
   "source": [
    "x = Inf\n",
    "0 * x == 0"
   ]
  },
  {
   "cell_type": "code",
   "execution_count": 43,
   "metadata": {},
   "outputs": [
    {
     "name": "stdout",
     "output_type": "stream",
     "text": [
      "0x = NaN\n"
     ]
    },
    {
     "data": {
      "text/plain": [
       "NaN"
      ]
     },
     "execution_count": 43,
     "metadata": {},
     "output_type": "execute_result"
    }
   ],
   "source": [
    "@show 0 * x"
   ]
  },
  {
   "cell_type": "markdown",
   "metadata": {},
   "source": [
    "- The result of 0 * Inf returns NaN, which means not a number. Thus the comparision between NaN and 0 is not valid, which returns a false boolean result."
   ]
  },
  {
   "cell_type": "markdown",
   "metadata": {},
   "source": [
    "2.5 Is x / a == x * (1 / a) always true? Try with x = 3.0, a = 5.0 and explain what you find."
   ]
  },
  {
   "cell_type": "code",
   "execution_count": 46,
   "metadata": {},
   "outputs": [
    {
     "data": {
      "text/plain": [
       "false"
      ]
     },
     "execution_count": 46,
     "metadata": {},
     "output_type": "execute_result"
    }
   ],
   "source": [
    "x, a = 3.0, 5.0\n",
    "x / a == x * (1 / a)"
   ]
  },
  {
   "cell_type": "code",
   "execution_count": 48,
   "metadata": {},
   "outputs": [
    {
     "name": "stdout",
     "output_type": "stream",
     "text": [
      "x / a = 0.6\n",
      "x * (1 / a) = 0.6000000000000001\n"
     ]
    },
    {
     "data": {
      "text/plain": [
       "0.6000000000000001"
      ]
     },
     "execution_count": 48,
     "metadata": {},
     "output_type": "execute_result"
    }
   ],
   "source": [
    "@show x / a \n",
    "@show x * (1 / a)"
   ]
  },
  {
   "cell_type": "markdown",
   "metadata": {},
   "source": [
    "- The left hand side result is rounded to the first decimal place, but the right hand side result is arounded to 16th decimal place. Thus, the rounding difference of division may result in the inequality of x / a == x * (1 / a)."
   ]
  },
  {
   "cell_type": "markdown",
   "metadata": {},
   "source": [
    "## Quesiton 3\n"
   ]
  },
  {
   "cell_type": "code",
   "execution_count": 99,
   "metadata": {},
   "outputs": [
    {
     "data": {
      "text/plain": [
       "g (generic function with 1 method)"
      ]
     },
     "execution_count": 99,
     "metadata": {},
     "output_type": "execute_result"
    }
   ],
   "source": [
    "function g(k)\n",
    "    for i = 1:10\n",
    "        k = 5k - 1\n",
    "    end\n",
    "    k\n",
    "end\n"
   ]
  },
  {
   "cell_type": "markdown",
   "metadata": {},
   "source": [
    "3.1 Use @code_llvm to find the LLVM bitcode of compiled g with Int64 input."
   ]
  },
  {
   "cell_type": "code",
   "execution_count": 7,
   "metadata": {},
   "outputs": [
    {
     "data": {
      "text/plain": [
       "Int64"
      ]
     },
     "execution_count": 7,
     "metadata": {},
     "output_type": "execute_result"
    }
   ],
   "source": [
    "a = 2\n",
    "typeof(a)"
   ]
  },
  {
   "cell_type": "code",
   "execution_count": 100,
   "metadata": {},
   "outputs": [
    {
     "name": "stdout",
     "output_type": "stream",
     "text": [
      "\n",
      "; Function Attrs: uwtable\n",
      "define i64 @julia_g_64105(i64) #0 !dbg !5 {\n",
      "top:\n",
      "  %1 = mul i64 %0, 9765625\n",
      "  %2 = add i64 %1, -2441406\n",
      "  ret i64 %2\n",
      "}\n"
     ]
    },
    {
     "data": {
      "text/plain": [
       "17089844"
      ]
     },
     "execution_count": 100,
     "metadata": {},
     "output_type": "execute_result"
    }
   ],
   "source": [
    "@code_llvm g(a)\n",
    "g(a)"
   ]
  },
  {
   "cell_type": "markdown",
   "metadata": {},
   "source": [
    "3.2 Use @code_llvm to find the LLVM bitcode of compiled g with Float64 input."
   ]
  },
  {
   "cell_type": "code",
   "execution_count": 8,
   "metadata": {},
   "outputs": [
    {
     "data": {
      "text/plain": [
       "Float64"
      ]
     },
     "execution_count": 8,
     "metadata": {},
     "output_type": "execute_result"
    }
   ],
   "source": [
    "b = 2.0\n",
    "typeof(b)"
   ]
  },
  {
   "cell_type": "code",
   "execution_count": 103,
   "metadata": {},
   "outputs": [
    {
     "name": "stdout",
     "output_type": "stream",
     "text": [
      "\n",
      "; Function Attrs: uwtable\n",
      "define double @julia_g_64108(double) #0 !dbg !5 {\n",
      "top:\n",
      "  %1 = fmul double %0, 5.000000e+00\n",
      "  %2 = fadd double %1, -1.000000e+00\n",
      "  %3 = fmul double %2, 5.000000e+00\n",
      "  %4 = fadd double %3, -1.000000e+00\n",
      "  %5 = fmul double %4, 5.000000e+00\n",
      "  %6 = fadd double %5, -1.000000e+00\n",
      "  %7 = fmul double %6, 5.000000e+00\n",
      "  %8 = fadd double %7, -1.000000e+00\n",
      "  %9 = fmul double %8, 5.000000e+00\n",
      "  %10 = fadd double %9, -1.000000e+00\n",
      "  %11 = fmul double %10, 5.000000e+00\n",
      "  %12 = fadd double %11, -1.000000e+00\n",
      "  %13 = fmul double %12, 5.000000e+00\n",
      "  %14 = fadd double %13, -1.000000e+00\n",
      "  %15 = fmul double %14, 5.000000e+00\n",
      "  %16 = fadd double %15, -1.000000e+00\n",
      "  %17 = fmul double %16, 5.000000e+00\n",
      "  %18 = fadd double %17, -1.000000e+00\n",
      "  %19 = fmul double %18, 5.000000e+00\n",
      "  %20 = fadd double %19, -1.000000e+00\n",
      "  ret double %20\n",
      "}\n"
     ]
    }
   ],
   "source": [
    "@code_llvm g(b)"
   ]
  },
  {
   "cell_type": "markdown",
   "metadata": {},
   "source": [
    "3.3 Compare the bitcode from questions 1 and 2. What do you find?"
   ]
  },
  {
   "cell_type": "markdown",
   "metadata": {},
   "source": [
    "Let's reduce the loop in g function from 10 iterations to 3, and name it f, in order to find the way julia calculate."
   ]
  },
  {
   "cell_type": "code",
   "execution_count": 92,
   "metadata": {},
   "outputs": [
    {
     "data": {
      "text/plain": [
       "f (generic function with 1 method)"
      ]
     },
     "execution_count": 92,
     "metadata": {},
     "output_type": "execute_result"
    }
   ],
   "source": [
    "function f(k)\n",
    "    for i = 1:3\n",
    "        k = 5k - 1\n",
    "    end\n",
    "    k\n",
    "end\n"
   ]
  },
  {
   "cell_type": "markdown",
   "metadata": {},
   "source": [
    "### Int64 input"
   ]
  },
  {
   "cell_type": "code",
   "execution_count": 93,
   "metadata": {},
   "outputs": [
    {
     "name": "stdout",
     "output_type": "stream",
     "text": [
      "\n",
      "; Function Attrs: uwtable\n",
      "define i64 @julia_f_64100(i64) #0 !dbg !5 {\n",
      "top:\n",
      "  %1 = mul i64 %0, 125\n",
      "  %2 = add i64 %1, -31\n",
      "  ret i64 %2\n",
      "}\n"
     ]
    },
    {
     "data": {
      "text/plain": [
       "219"
      ]
     },
     "execution_count": 93,
     "metadata": {},
     "output_type": "execute_result"
    }
   ],
   "source": [
    "# previous int64 input a\n",
    "@code_llvm f(a)\n",
    "f(a)"
   ]
  },
  {
   "cell_type": "markdown",
   "metadata": {},
   "source": [
    "* From the output, julia attempts to calculate the result by modifying the equation $5k-1$ with associative and distributive rules first, and then plug in the unknown variable $k$. \n",
    "* Let's verify this idea with 3 iteration case:\n",
    "$$\n",
    "5(5(5k - 1) - 1) - 1 = 125k + (-25 -5 -1) \\\\\n",
    "= 125k - 31\n",
    "$$\n",
    "125 and -31 are the results shown in `@code_llvm f(a)`. This modification can be done because integers obey associative and distributive rules in julia. \n",
    "* For function g, the calculation with Int64 input is modified to $9765625k-2441406$ with $k=a=2$, which shown in `@code_llvm g(a)`."
   ]
  },
  {
   "cell_type": "markdown",
   "metadata": {},
   "source": [
    "### Float64 input"
   ]
  },
  {
   "cell_type": "code",
   "execution_count": 101,
   "metadata": {},
   "outputs": [
    {
     "name": "stdout",
     "output_type": "stream",
     "text": [
      "\n",
      "; Function Attrs: uwtable\n",
      "define double @julia_f_64103(double) #0 !dbg !5 {\n",
      "top:\n",
      "  %1 = fmul double %0, 5.000000e+00\n",
      "  %2 = fadd double %1, -1.000000e+00\n",
      "  %3 = fmul double %2, 5.000000e+00\n",
      "  %4 = fadd double %3, -1.000000e+00\n",
      "  %5 = fmul double %4, 5.000000e+00\n",
      "  %6 = fadd double %5, -1.000000e+00\n",
      "  ret double %6\n",
      "}\n"
     ]
    },
    {
     "data": {
      "text/plain": [
       "219.0"
      ]
     },
     "execution_count": 101,
     "metadata": {},
     "output_type": "execute_result"
    }
   ],
   "source": [
    "# previous Float64 input b\n",
    "@code_llvm f(b)\n",
    "f(b)"
   ]
  },
  {
   "cell_type": "markdown",
   "metadata": {},
   "source": [
    "* From the output, julia attempts to do the calculation following the iteration. For each iteration, the unknown $k$ is plugged in the equation $5k-1$. \n",
    "* Let's verify the idea with 3 iteration case:\n",
    " - For the first iteration, floating point multiplication is used for evaluatiing $5k-1$ with $k = 2.0$ and new $k=5k-1$ is stored. Thus, the parameters 5 and -1 are shown as floating points in `@code_llvm f(b)`.\n",
    " - For the second iteration, floating point multiplication is used for evaluatiing $5k-1$ with $k = 5*2.0-1$ and new $k=5k-1$ is stored. Thus, the parameters 5 and -1 are shown as floating points in `@code_llvm f(b)`.\n",
    " - For the third iteration, floating point multiplication is used for evaluatiing $5k-1$ with $k = 5*(5*2.0-1)-1$ and new $k=5k-1$ is stored. Thus, the parameters 5 and -1 are shown as floating points in `@code_llvm f(b)`.\n",
    "* For function g, the results in `@code_llvm g(b)` show 10 pairs of parameters 5 and -1, which are shown as floating points. This reflects that for each iteration the variable $k$ is evaluated with floating point multiplication and addtion. Because floating point numbers are not necessary obeying the associative rule and distributive rule. The modified algorithm for integer numbers will not work for floating point case.\n"
   ]
  },
  {
   "cell_type": "markdown",
   "metadata": {},
   "source": [
    "3.4 Read Julia documentation on @fastmath and repeat the questions 1-3 on the function"
   ]
  },
  {
   "cell_type": "markdown",
   "metadata": {},
   "source": [
    "### Julia documentation"
   ]
  },
  {
   "cell_type": "code",
   "execution_count": 2,
   "metadata": {},
   "outputs": [
    {
     "data": {
      "text/plain": [
       "g_fastmath (generic function with 1 method)"
      ]
     },
     "execution_count": 2,
     "metadata": {},
     "output_type": "execute_result"
    }
   ],
   "source": [
    "function g_fastmath(k)  \n",
    "    @fastmath for i = 1:10  \n",
    "        k = 5k - 1\n",
    "    end\n",
    "    k\n",
    "end"
   ]
  },
  {
   "cell_type": "code",
   "execution_count": 3,
   "metadata": {},
   "outputs": [
    {
     "data": {
      "text/markdown": [
       "No documentation found.\n",
       "\n",
       "`Base.FastMath.@fastmath` is a macro.\n",
       "\n",
       "```\n",
       "# 1 method for macro \"@fastmath\":\n",
       "@fastmath(expr::ANY) in Base.FastMath at fastmath.jl:127\n",
       "```\n"
      ],
      "text/plain": [
       "No documentation found.\n",
       "\n",
       "`Base.FastMath.@fastmath` is a macro.\n",
       "\n",
       "```\n",
       "# 1 method for macro \"@fastmath\":\n",
       "@fastmath(expr::ANY) in Base.FastMath at fastmath.jl:127\n",
       "```\n"
      ]
     },
     "execution_count": 3,
     "metadata": {},
     "output_type": "execute_result"
    }
   ],
   "source": [
    "? @fastmath"
   ]
  },
  {
   "cell_type": "markdown",
   "metadata": {},
   "source": [
    "* From the Julia documentation, @fastmath is a macro to allow floating point optimizations that are correct for real numbers, but lead to differences for IEEE numbers. This means, associative rule and distributive rule will work for floating numbers under @fastmath. \n",
    "* If this is the case, the float64 input for function g_fastmath will follow the same optimization as int64 input. This is, using distributive and associative rules to get the final expression with unknown $k$ and then plug in $k$."
   ]
  },
  {
   "cell_type": "markdown",
   "metadata": {},
   "source": [
    "### Int64"
   ]
  },
  {
   "cell_type": "code",
   "execution_count": 11,
   "metadata": {},
   "outputs": [
    {
     "name": "stdout",
     "output_type": "stream",
     "text": [
      "\n",
      "; Function Attrs: uwtable\n",
      "define i64 @julia_g_fastmath_63978(i64) #0 !dbg !5 {\n",
      "top:\n",
      "  %1 = mul i64 %0, 9765625\n",
      "  %2 = add i64 %1, -2441406\n",
      "  ret i64 %2\n",
      "}\n"
     ]
    },
    {
     "data": {
      "text/plain": [
       "17089844"
      ]
     },
     "execution_count": 11,
     "metadata": {},
     "output_type": "execute_result"
    }
   ],
   "source": [
    "# previous int64 input a\n",
    "@code_llvm g_fastmath(a)\n",
    "g_fastmath(a)"
   ]
  },
  {
   "cell_type": "markdown",
   "metadata": {},
   "source": [
    "### Float64"
   ]
  },
  {
   "cell_type": "code",
   "execution_count": 12,
   "metadata": {},
   "outputs": [
    {
     "name": "stdout",
     "output_type": "stream",
     "text": [
      "\n",
      "; Function Attrs: uwtable\n",
      "define double @julia_g_fastmath_64000(double) #0 !dbg !5 {\n",
      "top:\n",
      "  %1 = fmul fast double %0, 9.765625e+06\n",
      "  %2 = fadd fast double %1, -2.441406e+06\n",
      "  ret double %2\n",
      "}\n"
     ]
    },
    {
     "data": {
      "text/plain": [
       "1.7089844e7"
      ]
     },
     "execution_count": 12,
     "metadata": {},
     "output_type": "execute_result"
    }
   ],
   "source": [
    "# previous float64 input b\n",
    "@code_llvm g_fastmath(b)\n",
    "g_fastmath(b)"
   ]
  },
  {
   "cell_type": "markdown",
   "metadata": {},
   "source": [
    "* The LLVM bitcode for Int64 and for Float64 shows the same result, which means both of them optimize the code with distributive and associative rules first. "
   ]
  },
  {
   "cell_type": "markdown",
   "metadata": {},
   "source": [
    "## Question 4"
   ]
  },
  {
   "cell_type": "markdown",
   "metadata": {},
   "source": [
    "Create the vector x = (0.988, 0.989, 0.990, ..., 1.010, 1.011, 1.012)."
   ]
  },
  {
   "cell_type": "code",
   "execution_count": 34,
   "metadata": {},
   "outputs": [
    {
     "data": {
      "text/plain": [
       "25-element Array{Float64,1}:\n",
       " 0.988\n",
       " 0.989\n",
       " 0.99 \n",
       " 0.991\n",
       " 0.992\n",
       " 0.993\n",
       " 0.994\n",
       " 0.995\n",
       " 0.996\n",
       " 0.997\n",
       " 0.998\n",
       " 0.999\n",
       " 1.0  \n",
       " 1.001\n",
       " 1.002\n",
       " 1.003\n",
       " 1.004\n",
       " 1.005\n",
       " 1.006\n",
       " 1.007\n",
       " 1.008\n",
       " 1.009\n",
       " 1.01 \n",
       " 1.011\n",
       " 1.012"
      ]
     },
     "execution_count": 34,
     "metadata": {},
     "output_type": "execute_result"
    }
   ],
   "source": [
    "x = collect(0.988:0.001:1.012)"
   ]
  },
  {
   "cell_type": "markdown",
   "metadata": {},
   "source": [
    "4.1 Plot the polynomial y = x^7 - 7x^6 + 21x^5 - 35x^4 + 35x^3 - 21x^2 + 7x -1 at points x."
   ]
  },
  {
   "cell_type": "code",
   "execution_count": 35,
   "metadata": {},
   "outputs": [
    {
     "name": "stderr",
     "output_type": "stream",
     "text": [
      "\u001b[1m\u001b[36mINFO: \u001b[39m\u001b[22m\u001b[36mPackage Plots is already installed\n",
      "\u001b[39m\u001b[1m\u001b[36mINFO: \u001b[39m\u001b[22m\u001b[36mMETADATA is out-of-date — you may not have the latest version of Plots\n",
      "\u001b[39m\u001b[1m\u001b[36mINFO: \u001b[39m\u001b[22m\u001b[36mUse `Pkg.update()` to get the latest versions of your packages\n",
      "\u001b[39m"
     ]
    }
   ],
   "source": [
    "Pkg.add(\"Plots\")\n",
    "using Plots"
   ]
  },
  {
   "cell_type": "code",
   "execution_count": 40,
   "metadata": {
    "scrolled": true
   },
   "outputs": [
    {
     "data": {
      "text/plain": [
       "25-element Array{Float64,1}:\n",
       " -4.26326e-14\n",
       " -3.01981e-14\n",
       " -1.42109e-14\n",
       " -7.99361e-15\n",
       " -6.21725e-15\n",
       "  2.66454e-15\n",
       " -8.88178e-15\n",
       " -3.55271e-15\n",
       " -1.77636e-15\n",
       " -2.66454e-15\n",
       " -8.88178e-16\n",
       " -1.77636e-15\n",
       "  0.0        \n",
       " -5.32907e-15\n",
       " -2.66454e-15\n",
       "  1.77636e-15\n",
       " -1.77636e-15\n",
       "  6.21725e-15\n",
       " -1.77636e-15\n",
       "  0.0        \n",
       " -4.44089e-15\n",
       " -3.55271e-15\n",
       "  7.10543e-15\n",
       "  1.15463e-14\n",
       "  4.61853e-14"
      ]
     },
     "execution_count": 40,
     "metadata": {},
     "output_type": "execute_result"
    }
   ],
   "source": [
    "y = map(x -> x^7 - 7x^6 + 21x^5 - 35x^4 + 35x^3 \n",
    "    - 21x^2 + 7x - 1, x)"
   ]
  },
  {
   "cell_type": "code",
   "execution_count": 37,
   "metadata": {},
   "outputs": [
    {
     "data": {
      "text/html": [
       "<?xml version=\"1.0\" encoding=\"utf-8\"?>\n",
       "<svg xmlns=\"http://www.w3.org/2000/svg\" xmlns:xlink=\"http://www.w3.org/1999/xlink\" width=\"600\" height=\"400\" viewBox=\"0 0 600 400\">\n",
       "<defs>\n",
       "  <clipPath id=\"clip8800\">\n",
       "    <rect x=\"0\" y=\"0\" width=\"600\" height=\"400\"/>\n",
       "  </clipPath>\n",
       "</defs>\n",
       "<polygon clip-path=\"url(#clip8800)\" points=\"\n",
       "0,400 600,400 600,0 0,0 \n",
       "  \" fill=\"#ffffff\" fill-opacity=\"1\"/>\n",
       "<defs>\n",
       "  <clipPath id=\"clip8801\">\n",
       "    <rect x=\"120\" y=\"0\" width=\"421\" height=\"400\"/>\n",
       "  </clipPath>\n",
       "</defs>\n",
       "<polygon clip-path=\"url(#clip8800)\" points=\"\n",
       "126.48,375.869 580.315,375.869 580.315,31.4961 126.48,31.4961 \n",
       "  \" fill=\"#ffffff\" fill-opacity=\"1\"/>\n",
       "<defs>\n",
       "  <clipPath id=\"clip8802\">\n",
       "    <rect x=\"126\" y=\"31\" width=\"455\" height=\"345\"/>\n",
       "  </clipPath>\n",
       "</defs>\n",
       "<polyline clip-path=\"url(#clip8802)\" style=\"stroke:#000000; stroke-width:0.5; stroke-opacity:0.1; fill:none\" points=\"\n",
       "  175.003,375.869 175.003,31.4961 \n",
       "  \"/>\n",
       "<polyline clip-path=\"url(#clip8802)\" style=\"stroke:#000000; stroke-width:0.5; stroke-opacity:0.1; fill:none\" points=\"\n",
       "  264.2,375.869 264.2,31.4961 \n",
       "  \"/>\n",
       "<polyline clip-path=\"url(#clip8802)\" style=\"stroke:#000000; stroke-width:0.5; stroke-opacity:0.1; fill:none\" points=\"\n",
       "  353.397,375.869 353.397,31.4961 \n",
       "  \"/>\n",
       "<polyline clip-path=\"url(#clip8802)\" style=\"stroke:#000000; stroke-width:0.5; stroke-opacity:0.1; fill:none\" points=\"\n",
       "  442.594,375.869 442.594,31.4961 \n",
       "  \"/>\n",
       "<polyline clip-path=\"url(#clip8802)\" style=\"stroke:#000000; stroke-width:0.5; stroke-opacity:0.1; fill:none\" points=\"\n",
       "  531.792,375.869 531.792,31.4961 \n",
       "  \"/>\n",
       "<polyline clip-path=\"url(#clip8802)\" style=\"stroke:#000000; stroke-width:0.5; stroke-opacity:0.1; fill:none\" points=\"\n",
       "  126.48,356.493 580.315,356.493 \n",
       "  \"/>\n",
       "<polyline clip-path=\"url(#clip8802)\" style=\"stroke:#000000; stroke-width:0.5; stroke-opacity:0.1; fill:none\" points=\"\n",
       "  126.48,283.336 580.315,283.336 \n",
       "  \"/>\n",
       "<polyline clip-path=\"url(#clip8802)\" style=\"stroke:#000000; stroke-width:0.5; stroke-opacity:0.1; fill:none\" points=\"\n",
       "  126.48,210.18 580.315,210.18 \n",
       "  \"/>\n",
       "<polyline clip-path=\"url(#clip8802)\" style=\"stroke:#000000; stroke-width:0.5; stroke-opacity:0.1; fill:none\" points=\"\n",
       "  126.48,137.024 580.315,137.024 \n",
       "  \"/>\n",
       "<polyline clip-path=\"url(#clip8802)\" style=\"stroke:#000000; stroke-width:0.5; stroke-opacity:0.1; fill:none\" points=\"\n",
       "  126.48,63.8671 580.315,63.8671 \n",
       "  \"/>\n",
       "<polyline clip-path=\"url(#clip8800)\" style=\"stroke:#000000; stroke-width:1; stroke-opacity:1; fill:none\" points=\"\n",
       "  126.48,375.869 580.315,375.869 \n",
       "  \"/>\n",
       "<polyline clip-path=\"url(#clip8800)\" style=\"stroke:#000000; stroke-width:1; stroke-opacity:1; fill:none\" points=\"\n",
       "  126.48,375.869 126.48,31.4961 \n",
       "  \"/>\n",
       "<polyline clip-path=\"url(#clip8800)\" style=\"stroke:#000000; stroke-width:1; stroke-opacity:1; fill:none\" points=\"\n",
       "  175.003,375.869 175.003,370.703 \n",
       "  \"/>\n",
       "<polyline clip-path=\"url(#clip8800)\" style=\"stroke:#000000; stroke-width:1; stroke-opacity:1; fill:none\" points=\"\n",
       "  264.2,375.869 264.2,370.703 \n",
       "  \"/>\n",
       "<polyline clip-path=\"url(#clip8800)\" style=\"stroke:#000000; stroke-width:1; stroke-opacity:1; fill:none\" points=\"\n",
       "  353.397,375.869 353.397,370.703 \n",
       "  \"/>\n",
       "<polyline clip-path=\"url(#clip8800)\" style=\"stroke:#000000; stroke-width:1; stroke-opacity:1; fill:none\" points=\"\n",
       "  442.594,375.869 442.594,370.703 \n",
       "  \"/>\n",
       "<polyline clip-path=\"url(#clip8800)\" style=\"stroke:#000000; stroke-width:1; stroke-opacity:1; fill:none\" points=\"\n",
       "  531.792,375.869 531.792,370.703 \n",
       "  \"/>\n",
       "<polyline clip-path=\"url(#clip8800)\" style=\"stroke:#000000; stroke-width:1; stroke-opacity:1; fill:none\" points=\"\n",
       "  126.48,356.493 133.287,356.493 \n",
       "  \"/>\n",
       "<polyline clip-path=\"url(#clip8800)\" style=\"stroke:#000000; stroke-width:1; stroke-opacity:1; fill:none\" points=\"\n",
       "  126.48,283.336 133.287,283.336 \n",
       "  \"/>\n",
       "<polyline clip-path=\"url(#clip8800)\" style=\"stroke:#000000; stroke-width:1; stroke-opacity:1; fill:none\" points=\"\n",
       "  126.48,210.18 133.287,210.18 \n",
       "  \"/>\n",
       "<polyline clip-path=\"url(#clip8800)\" style=\"stroke:#000000; stroke-width:1; stroke-opacity:1; fill:none\" points=\"\n",
       "  126.48,137.024 133.287,137.024 \n",
       "  \"/>\n",
       "<polyline clip-path=\"url(#clip8800)\" style=\"stroke:#000000; stroke-width:1; stroke-opacity:1; fill:none\" points=\"\n",
       "  126.48,63.8671 133.287,63.8671 \n",
       "  \"/>\n",
       "<g clip-path=\"url(#clip8800)\">\n",
       "<text style=\"fill:#000000; fill-opacity:1; font-family:Arial,Helvetica Neue,Helvetica,sans-serif; font-size:12; text-anchor:middle;\" transform=\"rotate(0, 175.003, 389.669)\" x=\"175.003\" y=\"389.669\">0.990</text>\n",
       "</g>\n",
       "<g clip-path=\"url(#clip8800)\">\n",
       "<text style=\"fill:#000000; fill-opacity:1; font-family:Arial,Helvetica Neue,Helvetica,sans-serif; font-size:12; text-anchor:middle;\" transform=\"rotate(0, 264.2, 389.669)\" x=\"264.2\" y=\"389.669\">0.995</text>\n",
       "</g>\n",
       "<g clip-path=\"url(#clip8800)\">\n",
       "<text style=\"fill:#000000; fill-opacity:1; font-family:Arial,Helvetica Neue,Helvetica,sans-serif; font-size:12; text-anchor:middle;\" transform=\"rotate(0, 353.397, 389.669)\" x=\"353.397\" y=\"389.669\">1.000</text>\n",
       "</g>\n",
       "<g clip-path=\"url(#clip8800)\">\n",
       "<text style=\"fill:#000000; fill-opacity:1; font-family:Arial,Helvetica Neue,Helvetica,sans-serif; font-size:12; text-anchor:middle;\" transform=\"rotate(0, 442.594, 389.669)\" x=\"442.594\" y=\"389.669\">1.005</text>\n",
       "</g>\n",
       "<g clip-path=\"url(#clip8800)\">\n",
       "<text style=\"fill:#000000; fill-opacity:1; font-family:Arial,Helvetica Neue,Helvetica,sans-serif; font-size:12; text-anchor:middle;\" transform=\"rotate(0, 531.792, 389.669)\" x=\"531.792\" y=\"389.669\">1.010</text>\n",
       "</g>\n",
       "<g clip-path=\"url(#clip8800)\">\n",
       "<text style=\"fill:#000000; fill-opacity:1; font-family:Arial,Helvetica Neue,Helvetica,sans-serif; font-size:12; text-anchor:end;\" transform=\"rotate(0, 120.48, 360.993)\" x=\"120.48\" y=\"360.993\">-0.00000000000004</text>\n",
       "</g>\n",
       "<g clip-path=\"url(#clip8800)\">\n",
       "<text style=\"fill:#000000; fill-opacity:1; font-family:Arial,Helvetica Neue,Helvetica,sans-serif; font-size:12; text-anchor:end;\" transform=\"rotate(0, 120.48, 287.836)\" x=\"120.48\" y=\"287.836\">-0.00000000000002</text>\n",
       "</g>\n",
       "<g clip-path=\"url(#clip8800)\">\n",
       "<text style=\"fill:#000000; fill-opacity:1; font-family:Arial,Helvetica Neue,Helvetica,sans-serif; font-size:12; text-anchor:end;\" transform=\"rotate(0, 120.48, 214.68)\" x=\"120.48\" y=\"214.68\">0.00000000000000</text>\n",
       "</g>\n",
       "<g clip-path=\"url(#clip8800)\">\n",
       "<text style=\"fill:#000000; fill-opacity:1; font-family:Arial,Helvetica Neue,Helvetica,sans-serif; font-size:12; text-anchor:end;\" transform=\"rotate(0, 120.48, 141.524)\" x=\"120.48\" y=\"141.524\">0.00000000000002</text>\n",
       "</g>\n",
       "<g clip-path=\"url(#clip8800)\">\n",
       "<text style=\"fill:#000000; fill-opacity:1; font-family:Arial,Helvetica Neue,Helvetica,sans-serif; font-size:12; text-anchor:end;\" transform=\"rotate(0, 120.48, 68.3671)\" x=\"120.48\" y=\"68.3671\">0.00000000000004</text>\n",
       "</g>\n",
       "<g clip-path=\"url(#clip8800)\">\n",
       "<text style=\"fill:#000000; fill-opacity:1; font-family:Arial,Helvetica Neue,Helvetica,sans-serif; font-size:21; text-anchor:middle;\" transform=\"rotate(0, 353.397, 18)\" x=\"353.397\" y=\"18\">Plot with expansion formula</text>\n",
       "</g>\n",
       "<polyline clip-path=\"url(#clip8802)\" style=\"stroke:#009af9; stroke-width:1; stroke-opacity:1; fill:none\" points=\"\n",
       "  139.324,366.122 157.163,320.639 175.003,262.161 192.842,239.419 210.682,232.922 228.521,200.434 246.361,242.668 264.2,223.175 282.04,216.678 299.879,219.926 \n",
       "  317.718,213.429 335.558,216.678 353.397,210.18 371.237,229.673 389.076,219.926 406.916,203.682 424.755,216.678 442.594,187.438 460.434,216.678 478.273,210.18 \n",
       "  496.113,226.424 513.952,223.175 531.792,184.19 549.631,167.946 567.471,41.2425 \n",
       "  \"/>\n",
       "<circle clip-path=\"url(#clip8802)\" style=\"fill:#000000; stroke:none; fill-opacity:1\" cx=\"139.324\" cy=\"366.122\" r=\"4\"/>\n",
       "<circle clip-path=\"url(#clip8802)\" style=\"fill:#e26f46; stroke:none; fill-opacity:1\" cx=\"139.324\" cy=\"366.122\" r=\"3\"/>\n",
       "<circle clip-path=\"url(#clip8802)\" style=\"fill:#000000; stroke:none; fill-opacity:1\" cx=\"157.163\" cy=\"320.639\" r=\"4\"/>\n",
       "<circle clip-path=\"url(#clip8802)\" style=\"fill:#e26f46; stroke:none; fill-opacity:1\" cx=\"157.163\" cy=\"320.639\" r=\"3\"/>\n",
       "<circle clip-path=\"url(#clip8802)\" style=\"fill:#000000; stroke:none; fill-opacity:1\" cx=\"175.003\" cy=\"262.161\" r=\"4\"/>\n",
       "<circle clip-path=\"url(#clip8802)\" style=\"fill:#e26f46; stroke:none; fill-opacity:1\" cx=\"175.003\" cy=\"262.161\" r=\"3\"/>\n",
       "<circle clip-path=\"url(#clip8802)\" style=\"fill:#000000; stroke:none; fill-opacity:1\" cx=\"192.842\" cy=\"239.419\" r=\"4\"/>\n",
       "<circle clip-path=\"url(#clip8802)\" style=\"fill:#e26f46; stroke:none; fill-opacity:1\" cx=\"192.842\" cy=\"239.419\" r=\"3\"/>\n",
       "<circle clip-path=\"url(#clip8802)\" style=\"fill:#000000; stroke:none; fill-opacity:1\" cx=\"210.682\" cy=\"232.922\" r=\"4\"/>\n",
       "<circle clip-path=\"url(#clip8802)\" style=\"fill:#e26f46; stroke:none; fill-opacity:1\" cx=\"210.682\" cy=\"232.922\" r=\"3\"/>\n",
       "<circle clip-path=\"url(#clip8802)\" style=\"fill:#000000; stroke:none; fill-opacity:1\" cx=\"228.521\" cy=\"200.434\" r=\"4\"/>\n",
       "<circle clip-path=\"url(#clip8802)\" style=\"fill:#e26f46; stroke:none; fill-opacity:1\" cx=\"228.521\" cy=\"200.434\" r=\"3\"/>\n",
       "<circle clip-path=\"url(#clip8802)\" style=\"fill:#000000; stroke:none; fill-opacity:1\" cx=\"246.361\" cy=\"242.668\" r=\"4\"/>\n",
       "<circle clip-path=\"url(#clip8802)\" style=\"fill:#e26f46; stroke:none; fill-opacity:1\" cx=\"246.361\" cy=\"242.668\" r=\"3\"/>\n",
       "<circle clip-path=\"url(#clip8802)\" style=\"fill:#000000; stroke:none; fill-opacity:1\" cx=\"264.2\" cy=\"223.175\" r=\"4\"/>\n",
       "<circle clip-path=\"url(#clip8802)\" style=\"fill:#e26f46; stroke:none; fill-opacity:1\" cx=\"264.2\" cy=\"223.175\" r=\"3\"/>\n",
       "<circle clip-path=\"url(#clip8802)\" style=\"fill:#000000; stroke:none; fill-opacity:1\" cx=\"282.04\" cy=\"216.678\" r=\"4\"/>\n",
       "<circle clip-path=\"url(#clip8802)\" style=\"fill:#e26f46; stroke:none; fill-opacity:1\" cx=\"282.04\" cy=\"216.678\" r=\"3\"/>\n",
       "<circle clip-path=\"url(#clip8802)\" style=\"fill:#000000; stroke:none; fill-opacity:1\" cx=\"299.879\" cy=\"219.926\" r=\"4\"/>\n",
       "<circle clip-path=\"url(#clip8802)\" style=\"fill:#e26f46; stroke:none; fill-opacity:1\" cx=\"299.879\" cy=\"219.926\" r=\"3\"/>\n",
       "<circle clip-path=\"url(#clip8802)\" style=\"fill:#000000; stroke:none; fill-opacity:1\" cx=\"317.718\" cy=\"213.429\" r=\"4\"/>\n",
       "<circle clip-path=\"url(#clip8802)\" style=\"fill:#e26f46; stroke:none; fill-opacity:1\" cx=\"317.718\" cy=\"213.429\" r=\"3\"/>\n",
       "<circle clip-path=\"url(#clip8802)\" style=\"fill:#000000; stroke:none; fill-opacity:1\" cx=\"335.558\" cy=\"216.678\" r=\"4\"/>\n",
       "<circle clip-path=\"url(#clip8802)\" style=\"fill:#e26f46; stroke:none; fill-opacity:1\" cx=\"335.558\" cy=\"216.678\" r=\"3\"/>\n",
       "<circle clip-path=\"url(#clip8802)\" style=\"fill:#000000; stroke:none; fill-opacity:1\" cx=\"353.397\" cy=\"210.18\" r=\"4\"/>\n",
       "<circle clip-path=\"url(#clip8802)\" style=\"fill:#e26f46; stroke:none; fill-opacity:1\" cx=\"353.397\" cy=\"210.18\" r=\"3\"/>\n",
       "<circle clip-path=\"url(#clip8802)\" style=\"fill:#000000; stroke:none; fill-opacity:1\" cx=\"371.237\" cy=\"229.673\" r=\"4\"/>\n",
       "<circle clip-path=\"url(#clip8802)\" style=\"fill:#e26f46; stroke:none; fill-opacity:1\" cx=\"371.237\" cy=\"229.673\" r=\"3\"/>\n",
       "<circle clip-path=\"url(#clip8802)\" style=\"fill:#000000; stroke:none; fill-opacity:1\" cx=\"389.076\" cy=\"219.926\" r=\"4\"/>\n",
       "<circle clip-path=\"url(#clip8802)\" style=\"fill:#e26f46; stroke:none; fill-opacity:1\" cx=\"389.076\" cy=\"219.926\" r=\"3\"/>\n",
       "<circle clip-path=\"url(#clip8802)\" style=\"fill:#000000; stroke:none; fill-opacity:1\" cx=\"406.916\" cy=\"203.682\" r=\"4\"/>\n",
       "<circle clip-path=\"url(#clip8802)\" style=\"fill:#e26f46; stroke:none; fill-opacity:1\" cx=\"406.916\" cy=\"203.682\" r=\"3\"/>\n",
       "<circle clip-path=\"url(#clip8802)\" style=\"fill:#000000; stroke:none; fill-opacity:1\" cx=\"424.755\" cy=\"216.678\" r=\"4\"/>\n",
       "<circle clip-path=\"url(#clip8802)\" style=\"fill:#e26f46; stroke:none; fill-opacity:1\" cx=\"424.755\" cy=\"216.678\" r=\"3\"/>\n",
       "<circle clip-path=\"url(#clip8802)\" style=\"fill:#000000; stroke:none; fill-opacity:1\" cx=\"442.594\" cy=\"187.438\" r=\"4\"/>\n",
       "<circle clip-path=\"url(#clip8802)\" style=\"fill:#e26f46; stroke:none; fill-opacity:1\" cx=\"442.594\" cy=\"187.438\" r=\"3\"/>\n",
       "<circle clip-path=\"url(#clip8802)\" style=\"fill:#000000; stroke:none; fill-opacity:1\" cx=\"460.434\" cy=\"216.678\" r=\"4\"/>\n",
       "<circle clip-path=\"url(#clip8802)\" style=\"fill:#e26f46; stroke:none; fill-opacity:1\" cx=\"460.434\" cy=\"216.678\" r=\"3\"/>\n",
       "<circle clip-path=\"url(#clip8802)\" style=\"fill:#000000; stroke:none; fill-opacity:1\" cx=\"478.273\" cy=\"210.18\" r=\"4\"/>\n",
       "<circle clip-path=\"url(#clip8802)\" style=\"fill:#e26f46; stroke:none; fill-opacity:1\" cx=\"478.273\" cy=\"210.18\" r=\"3\"/>\n",
       "<circle clip-path=\"url(#clip8802)\" style=\"fill:#000000; stroke:none; fill-opacity:1\" cx=\"496.113\" cy=\"226.424\" r=\"4\"/>\n",
       "<circle clip-path=\"url(#clip8802)\" style=\"fill:#e26f46; stroke:none; fill-opacity:1\" cx=\"496.113\" cy=\"226.424\" r=\"3\"/>\n",
       "<circle clip-path=\"url(#clip8802)\" style=\"fill:#000000; stroke:none; fill-opacity:1\" cx=\"513.952\" cy=\"223.175\" r=\"4\"/>\n",
       "<circle clip-path=\"url(#clip8802)\" style=\"fill:#e26f46; stroke:none; fill-opacity:1\" cx=\"513.952\" cy=\"223.175\" r=\"3\"/>\n",
       "<circle clip-path=\"url(#clip8802)\" style=\"fill:#000000; stroke:none; fill-opacity:1\" cx=\"531.792\" cy=\"184.19\" r=\"4\"/>\n",
       "<circle clip-path=\"url(#clip8802)\" style=\"fill:#e26f46; stroke:none; fill-opacity:1\" cx=\"531.792\" cy=\"184.19\" r=\"3\"/>\n",
       "<circle clip-path=\"url(#clip8802)\" style=\"fill:#000000; stroke:none; fill-opacity:1\" cx=\"549.631\" cy=\"167.946\" r=\"4\"/>\n",
       "<circle clip-path=\"url(#clip8802)\" style=\"fill:#e26f46; stroke:none; fill-opacity:1\" cx=\"549.631\" cy=\"167.946\" r=\"3\"/>\n",
       "<circle clip-path=\"url(#clip8802)\" style=\"fill:#000000; stroke:none; fill-opacity:1\" cx=\"567.471\" cy=\"41.2425\" r=\"4\"/>\n",
       "<circle clip-path=\"url(#clip8802)\" style=\"fill:#e26f46; stroke:none; fill-opacity:1\" cx=\"567.471\" cy=\"41.2425\" r=\"3\"/>\n",
       "<polygon clip-path=\"url(#clip8800)\" points=\"\n",
       "470.21,97.7361 562.315,97.7361 562.315,52.3761 470.21,52.3761 \n",
       "  \" fill=\"#ffffff\" fill-opacity=\"1\"/>\n",
       "<polyline clip-path=\"url(#clip8800)\" style=\"stroke:#000000; stroke-width:1; stroke-opacity:1; fill:none\" points=\"\n",
       "  470.21,97.7361 562.315,97.7361 562.315,52.3761 470.21,52.3761 470.21,97.7361 \n",
       "  \"/>\n",
       "<polyline clip-path=\"url(#clip8800)\" style=\"stroke:#009af9; stroke-width:1; stroke-opacity:1; fill:none\" points=\"\n",
       "  476.21,67.4961 512.21,67.4961 \n",
       "  \"/>\n",
       "<g clip-path=\"url(#clip8800)\">\n",
       "<text style=\"fill:#000000; fill-opacity:1; font-family:Arial,Helvetica Neue,Helvetica,sans-serif; font-size:12; text-anchor:start;\" transform=\"rotate(0, 518.21, 71.9961)\" x=\"518.21\" y=\"71.9961\">line</text>\n",
       "</g>\n",
       "<circle clip-path=\"url(#clip8800)\" style=\"fill:#000000; stroke:none; fill-opacity:1\" cx=\"497.21\" cy=\"82.6161\" r=\"6\"/>\n",
       "<circle clip-path=\"url(#clip8800)\" style=\"fill:#e26f46; stroke:none; fill-opacity:1\" cx=\"497.21\" cy=\"82.6161\" r=\"5\"/>\n",
       "<g clip-path=\"url(#clip8800)\">\n",
       "<text style=\"fill:#000000; fill-opacity:1; font-family:Arial,Helvetica Neue,Helvetica,sans-serif; font-size:12; text-anchor:start;\" transform=\"rotate(0, 518.21, 87.1161)\" x=\"518.21\" y=\"87.1161\">points</text>\n",
       "</g>\n",
       "</svg>\n"
      ]
     },
     "execution_count": 37,
     "metadata": {},
     "output_type": "execute_result"
    }
   ],
   "source": [
    "#Pkg.add(\"GR\")\n",
    "gr()\n",
    "plot(x, y, label = \"line\")\n",
    "scatter!(x, y, label = \"points\")\n",
    "title!(\"Plot with expansion formula\")"
   ]
  },
  {
   "cell_type": "markdown",
   "metadata": {},
   "source": [
    "4.2 Plot the polynomial y = (x - 1)^7 at points x."
   ]
  },
  {
   "cell_type": "code",
   "execution_count": 38,
   "metadata": {},
   "outputs": [
    {
     "data": {
      "text/plain": [
       "25-element Array{Float64,1}:\n",
       " -3.58318e-14\n",
       " -1.94872e-14\n",
       " -1.0e-14    \n",
       " -4.78297e-15\n",
       " -2.09715e-15\n",
       " -8.23543e-16\n",
       " -2.79936e-16\n",
       " -7.8125e-17 \n",
       " -1.6384e-17 \n",
       " -2.187e-18  \n",
       " -1.28e-19   \n",
       " -1.0e-21    \n",
       "  0.0        \n",
       "  1.0e-21    \n",
       "  1.28e-19   \n",
       "  2.187e-18  \n",
       "  1.6384e-17 \n",
       "  7.8125e-17 \n",
       "  2.79936e-16\n",
       "  8.23543e-16\n",
       "  2.09715e-15\n",
       "  4.78297e-15\n",
       "  1.0e-14    \n",
       "  1.94872e-14\n",
       "  3.58318e-14"
      ]
     },
     "execution_count": 38,
     "metadata": {},
     "output_type": "execute_result"
    }
   ],
   "source": [
    "y = map(x -> (x - 1)^7, x)"
   ]
  },
  {
   "cell_type": "code",
   "execution_count": 39,
   "metadata": {},
   "outputs": [
    {
     "data": {
      "text/html": [
       "<?xml version=\"1.0\" encoding=\"utf-8\"?>\n",
       "<svg xmlns=\"http://www.w3.org/2000/svg\" xmlns:xlink=\"http://www.w3.org/1999/xlink\" width=\"600\" height=\"400\" viewBox=\"0 0 600 400\">\n",
       "<defs>\n",
       "  <clipPath id=\"clip9000\">\n",
       "    <rect x=\"0\" y=\"0\" width=\"600\" height=\"400\"/>\n",
       "  </clipPath>\n",
       "</defs>\n",
       "<polygon clip-path=\"url(#clip9000)\" points=\"\n",
       "0,400 600,400 600,0 0,0 \n",
       "  \" fill=\"#ffffff\" fill-opacity=\"1\"/>\n",
       "<defs>\n",
       "  <clipPath id=\"clip9001\">\n",
       "    <rect x=\"120\" y=\"0\" width=\"421\" height=\"400\"/>\n",
       "  </clipPath>\n",
       "</defs>\n",
       "<polygon clip-path=\"url(#clip9000)\" points=\"\n",
       "126.48,375.869 580.315,375.869 580.315,11.811 126.48,11.811 \n",
       "  \" fill=\"#ffffff\" fill-opacity=\"1\"/>\n",
       "<defs>\n",
       "  <clipPath id=\"clip9002\">\n",
       "    <rect x=\"126\" y=\"11\" width=\"455\" height=\"365\"/>\n",
       "  </clipPath>\n",
       "</defs>\n",
       "<polyline clip-path=\"url(#clip9002)\" style=\"stroke:#000000; stroke-width:0.5; stroke-opacity:0.1; fill:none\" points=\"\n",
       "  175.003,375.869 175.003,11.811 \n",
       "  \"/>\n",
       "<polyline clip-path=\"url(#clip9002)\" style=\"stroke:#000000; stroke-width:0.5; stroke-opacity:0.1; fill:none\" points=\"\n",
       "  264.2,375.869 264.2,11.811 \n",
       "  \"/>\n",
       "<polyline clip-path=\"url(#clip9002)\" style=\"stroke:#000000; stroke-width:0.5; stroke-opacity:0.1; fill:none\" points=\"\n",
       "  353.397,375.869 353.397,11.811 \n",
       "  \"/>\n",
       "<polyline clip-path=\"url(#clip9002)\" style=\"stroke:#000000; stroke-width:0.5; stroke-opacity:0.1; fill:none\" points=\"\n",
       "  442.594,375.869 442.594,11.811 \n",
       "  \"/>\n",
       "<polyline clip-path=\"url(#clip9002)\" style=\"stroke:#000000; stroke-width:0.5; stroke-opacity:0.1; fill:none\" points=\"\n",
       "  531.792,375.869 531.792,11.811 \n",
       "  \"/>\n",
       "<polyline clip-path=\"url(#clip9002)\" style=\"stroke:#000000; stroke-width:0.5; stroke-opacity:0.1; fill:none\" points=\"\n",
       "  126.48,337.616 580.315,337.616 \n",
       "  \"/>\n",
       "<polyline clip-path=\"url(#clip9002)\" style=\"stroke:#000000; stroke-width:0.5; stroke-opacity:0.1; fill:none\" points=\"\n",
       "  126.48,289.691 580.315,289.691 \n",
       "  \"/>\n",
       "<polyline clip-path=\"url(#clip9002)\" style=\"stroke:#000000; stroke-width:0.5; stroke-opacity:0.1; fill:none\" points=\"\n",
       "  126.48,241.765 580.315,241.765 \n",
       "  \"/>\n",
       "<polyline clip-path=\"url(#clip9002)\" style=\"stroke:#000000; stroke-width:0.5; stroke-opacity:0.1; fill:none\" points=\"\n",
       "  126.48,193.84 580.315,193.84 \n",
       "  \"/>\n",
       "<polyline clip-path=\"url(#clip9002)\" style=\"stroke:#000000; stroke-width:0.5; stroke-opacity:0.1; fill:none\" points=\"\n",
       "  126.48,145.914 580.315,145.914 \n",
       "  \"/>\n",
       "<polyline clip-path=\"url(#clip9002)\" style=\"stroke:#000000; stroke-width:0.5; stroke-opacity:0.1; fill:none\" points=\"\n",
       "  126.48,97.9891 580.315,97.9891 \n",
       "  \"/>\n",
       "<polyline clip-path=\"url(#clip9002)\" style=\"stroke:#000000; stroke-width:0.5; stroke-opacity:0.1; fill:none\" points=\"\n",
       "  126.48,50.0637 580.315,50.0637 \n",
       "  \"/>\n",
       "<polyline clip-path=\"url(#clip9000)\" style=\"stroke:#000000; stroke-width:1; stroke-opacity:1; fill:none\" points=\"\n",
       "  126.48,375.869 580.315,375.869 \n",
       "  \"/>\n",
       "<polyline clip-path=\"url(#clip9000)\" style=\"stroke:#000000; stroke-width:1; stroke-opacity:1; fill:none\" points=\"\n",
       "  126.48,375.869 126.48,11.811 \n",
       "  \"/>\n",
       "<polyline clip-path=\"url(#clip9000)\" style=\"stroke:#000000; stroke-width:1; stroke-opacity:1; fill:none\" points=\"\n",
       "  175.003,375.869 175.003,370.408 \n",
       "  \"/>\n",
       "<polyline clip-path=\"url(#clip9000)\" style=\"stroke:#000000; stroke-width:1; stroke-opacity:1; fill:none\" points=\"\n",
       "  264.2,375.869 264.2,370.408 \n",
       "  \"/>\n",
       "<polyline clip-path=\"url(#clip9000)\" style=\"stroke:#000000; stroke-width:1; stroke-opacity:1; fill:none\" points=\"\n",
       "  353.397,375.869 353.397,370.408 \n",
       "  \"/>\n",
       "<polyline clip-path=\"url(#clip9000)\" style=\"stroke:#000000; stroke-width:1; stroke-opacity:1; fill:none\" points=\"\n",
       "  442.594,375.869 442.594,370.408 \n",
       "  \"/>\n",
       "<polyline clip-path=\"url(#clip9000)\" style=\"stroke:#000000; stroke-width:1; stroke-opacity:1; fill:none\" points=\"\n",
       "  531.792,375.869 531.792,370.408 \n",
       "  \"/>\n",
       "<polyline clip-path=\"url(#clip9000)\" style=\"stroke:#000000; stroke-width:1; stroke-opacity:1; fill:none\" points=\"\n",
       "  126.48,337.616 133.287,337.616 \n",
       "  \"/>\n",
       "<polyline clip-path=\"url(#clip9000)\" style=\"stroke:#000000; stroke-width:1; stroke-opacity:1; fill:none\" points=\"\n",
       "  126.48,289.691 133.287,289.691 \n",
       "  \"/>\n",
       "<polyline clip-path=\"url(#clip9000)\" style=\"stroke:#000000; stroke-width:1; stroke-opacity:1; fill:none\" points=\"\n",
       "  126.48,241.765 133.287,241.765 \n",
       "  \"/>\n",
       "<polyline clip-path=\"url(#clip9000)\" style=\"stroke:#000000; stroke-width:1; stroke-opacity:1; fill:none\" points=\"\n",
       "  126.48,193.84 133.287,193.84 \n",
       "  \"/>\n",
       "<polyline clip-path=\"url(#clip9000)\" style=\"stroke:#000000; stroke-width:1; stroke-opacity:1; fill:none\" points=\"\n",
       "  126.48,145.914 133.287,145.914 \n",
       "  \"/>\n",
       "<polyline clip-path=\"url(#clip9000)\" style=\"stroke:#000000; stroke-width:1; stroke-opacity:1; fill:none\" points=\"\n",
       "  126.48,97.9891 133.287,97.9891 \n",
       "  \"/>\n",
       "<polyline clip-path=\"url(#clip9000)\" style=\"stroke:#000000; stroke-width:1; stroke-opacity:1; fill:none\" points=\"\n",
       "  126.48,50.0637 133.287,50.0637 \n",
       "  \"/>\n",
       "<g clip-path=\"url(#clip9000)\">\n",
       "<text style=\"fill:#000000; fill-opacity:1; font-family:Arial,Helvetica Neue,Helvetica,sans-serif; font-size:12; text-anchor:middle;\" transform=\"rotate(0, 175.003, 389.669)\" x=\"175.003\" y=\"389.669\">0.990</text>\n",
       "</g>\n",
       "<g clip-path=\"url(#clip9000)\">\n",
       "<text style=\"fill:#000000; fill-opacity:1; font-family:Arial,Helvetica Neue,Helvetica,sans-serif; font-size:12; text-anchor:middle;\" transform=\"rotate(0, 264.2, 389.669)\" x=\"264.2\" y=\"389.669\">0.995</text>\n",
       "</g>\n",
       "<g clip-path=\"url(#clip9000)\">\n",
       "<text style=\"fill:#000000; fill-opacity:1; font-family:Arial,Helvetica Neue,Helvetica,sans-serif; font-size:12; text-anchor:middle;\" transform=\"rotate(0, 353.397, 389.669)\" x=\"353.397\" y=\"389.669\">1.000</text>\n",
       "</g>\n",
       "<g clip-path=\"url(#clip9000)\">\n",
       "<text style=\"fill:#000000; fill-opacity:1; font-family:Arial,Helvetica Neue,Helvetica,sans-serif; font-size:12; text-anchor:middle;\" transform=\"rotate(0, 442.594, 389.669)\" x=\"442.594\" y=\"389.669\">1.005</text>\n",
       "</g>\n",
       "<g clip-path=\"url(#clip9000)\">\n",
       "<text style=\"fill:#000000; fill-opacity:1; font-family:Arial,Helvetica Neue,Helvetica,sans-serif; font-size:12; text-anchor:middle;\" transform=\"rotate(0, 531.792, 389.669)\" x=\"531.792\" y=\"389.669\">1.010</text>\n",
       "</g>\n",
       "<g clip-path=\"url(#clip9000)\">\n",
       "<text style=\"fill:#000000; fill-opacity:1; font-family:Arial,Helvetica Neue,Helvetica,sans-serif; font-size:12; text-anchor:end;\" transform=\"rotate(0, 120.48, 342.116)\" x=\"120.48\" y=\"342.116\">-0.00000000000003</text>\n",
       "</g>\n",
       "<g clip-path=\"url(#clip9000)\">\n",
       "<text style=\"fill:#000000; fill-opacity:1; font-family:Arial,Helvetica Neue,Helvetica,sans-serif; font-size:12; text-anchor:end;\" transform=\"rotate(0, 120.48, 294.191)\" x=\"120.48\" y=\"294.191\">-0.00000000000002</text>\n",
       "</g>\n",
       "<g clip-path=\"url(#clip9000)\">\n",
       "<text style=\"fill:#000000; fill-opacity:1; font-family:Arial,Helvetica Neue,Helvetica,sans-serif; font-size:12; text-anchor:end;\" transform=\"rotate(0, 120.48, 246.265)\" x=\"120.48\" y=\"246.265\">-0.00000000000001</text>\n",
       "</g>\n",
       "<g clip-path=\"url(#clip9000)\">\n",
       "<text style=\"fill:#000000; fill-opacity:1; font-family:Arial,Helvetica Neue,Helvetica,sans-serif; font-size:12; text-anchor:end;\" transform=\"rotate(0, 120.48, 198.34)\" x=\"120.48\" y=\"198.34\">0.00000000000000</text>\n",
       "</g>\n",
       "<g clip-path=\"url(#clip9000)\">\n",
       "<text style=\"fill:#000000; fill-opacity:1; font-family:Arial,Helvetica Neue,Helvetica,sans-serif; font-size:12; text-anchor:end;\" transform=\"rotate(0, 120.48, 150.414)\" x=\"120.48\" y=\"150.414\">0.00000000000001</text>\n",
       "</g>\n",
       "<g clip-path=\"url(#clip9000)\">\n",
       "<text style=\"fill:#000000; fill-opacity:1; font-family:Arial,Helvetica Neue,Helvetica,sans-serif; font-size:12; text-anchor:end;\" transform=\"rotate(0, 120.48, 102.489)\" x=\"120.48\" y=\"102.489\">0.00000000000002</text>\n",
       "</g>\n",
       "<g clip-path=\"url(#clip9000)\">\n",
       "<text style=\"fill:#000000; fill-opacity:1; font-family:Arial,Helvetica Neue,Helvetica,sans-serif; font-size:12; text-anchor:end;\" transform=\"rotate(0, 120.48, 54.5637)\" x=\"120.48\" y=\"54.5637\">0.00000000000003</text>\n",
       "</g>\n",
       "<polyline clip-path=\"url(#clip9002)\" style=\"stroke:#009af9; stroke-width:1; stroke-opacity:1; fill:none\" points=\"\n",
       "  139.324,365.565 157.163,287.233 175.003,241.765 192.842,216.762 210.682,203.891 228.521,197.787 246.361,195.181 264.2,194.214 282.04,193.918 299.879,193.85 \n",
       "  317.718,193.84 335.558,193.84 353.397,193.84 371.237,193.84 389.076,193.839 406.916,193.829 424.755,193.761 442.594,193.465 460.434,192.498 478.273,189.893 \n",
       "  496.113,183.789 513.952,170.917 531.792,145.914 549.631,100.447 567.471,22.1145 \n",
       "  \"/>\n",
       "<circle clip-path=\"url(#clip9002)\" style=\"fill:#000000; stroke:none; fill-opacity:1\" cx=\"139.324\" cy=\"365.565\" r=\"4\"/>\n",
       "<circle clip-path=\"url(#clip9002)\" style=\"fill:#e26f46; stroke:none; fill-opacity:1\" cx=\"139.324\" cy=\"365.565\" r=\"3\"/>\n",
       "<circle clip-path=\"url(#clip9002)\" style=\"fill:#000000; stroke:none; fill-opacity:1\" cx=\"157.163\" cy=\"287.233\" r=\"4\"/>\n",
       "<circle clip-path=\"url(#clip9002)\" style=\"fill:#e26f46; stroke:none; fill-opacity:1\" cx=\"157.163\" cy=\"287.233\" r=\"3\"/>\n",
       "<circle clip-path=\"url(#clip9002)\" style=\"fill:#000000; stroke:none; fill-opacity:1\" cx=\"175.003\" cy=\"241.765\" r=\"4\"/>\n",
       "<circle clip-path=\"url(#clip9002)\" style=\"fill:#e26f46; stroke:none; fill-opacity:1\" cx=\"175.003\" cy=\"241.765\" r=\"3\"/>\n",
       "<circle clip-path=\"url(#clip9002)\" style=\"fill:#000000; stroke:none; fill-opacity:1\" cx=\"192.842\" cy=\"216.762\" r=\"4\"/>\n",
       "<circle clip-path=\"url(#clip9002)\" style=\"fill:#e26f46; stroke:none; fill-opacity:1\" cx=\"192.842\" cy=\"216.762\" r=\"3\"/>\n",
       "<circle clip-path=\"url(#clip9002)\" style=\"fill:#000000; stroke:none; fill-opacity:1\" cx=\"210.682\" cy=\"203.891\" r=\"4\"/>\n",
       "<circle clip-path=\"url(#clip9002)\" style=\"fill:#e26f46; stroke:none; fill-opacity:1\" cx=\"210.682\" cy=\"203.891\" r=\"3\"/>\n",
       "<circle clip-path=\"url(#clip9002)\" style=\"fill:#000000; stroke:none; fill-opacity:1\" cx=\"228.521\" cy=\"197.787\" r=\"4\"/>\n",
       "<circle clip-path=\"url(#clip9002)\" style=\"fill:#e26f46; stroke:none; fill-opacity:1\" cx=\"228.521\" cy=\"197.787\" r=\"3\"/>\n",
       "<circle clip-path=\"url(#clip9002)\" style=\"fill:#000000; stroke:none; fill-opacity:1\" cx=\"246.361\" cy=\"195.181\" r=\"4\"/>\n",
       "<circle clip-path=\"url(#clip9002)\" style=\"fill:#e26f46; stroke:none; fill-opacity:1\" cx=\"246.361\" cy=\"195.181\" r=\"3\"/>\n",
       "<circle clip-path=\"url(#clip9002)\" style=\"fill:#000000; stroke:none; fill-opacity:1\" cx=\"264.2\" cy=\"194.214\" r=\"4\"/>\n",
       "<circle clip-path=\"url(#clip9002)\" style=\"fill:#e26f46; stroke:none; fill-opacity:1\" cx=\"264.2\" cy=\"194.214\" r=\"3\"/>\n",
       "<circle clip-path=\"url(#clip9002)\" style=\"fill:#000000; stroke:none; fill-opacity:1\" cx=\"282.04\" cy=\"193.918\" r=\"4\"/>\n",
       "<circle clip-path=\"url(#clip9002)\" style=\"fill:#e26f46; stroke:none; fill-opacity:1\" cx=\"282.04\" cy=\"193.918\" r=\"3\"/>\n",
       "<circle clip-path=\"url(#clip9002)\" style=\"fill:#000000; stroke:none; fill-opacity:1\" cx=\"299.879\" cy=\"193.85\" r=\"4\"/>\n",
       "<circle clip-path=\"url(#clip9002)\" style=\"fill:#e26f46; stroke:none; fill-opacity:1\" cx=\"299.879\" cy=\"193.85\" r=\"3\"/>\n",
       "<circle clip-path=\"url(#clip9002)\" style=\"fill:#000000; stroke:none; fill-opacity:1\" cx=\"317.718\" cy=\"193.84\" r=\"4\"/>\n",
       "<circle clip-path=\"url(#clip9002)\" style=\"fill:#e26f46; stroke:none; fill-opacity:1\" cx=\"317.718\" cy=\"193.84\" r=\"3\"/>\n",
       "<circle clip-path=\"url(#clip9002)\" style=\"fill:#000000; stroke:none; fill-opacity:1\" cx=\"335.558\" cy=\"193.84\" r=\"4\"/>\n",
       "<circle clip-path=\"url(#clip9002)\" style=\"fill:#e26f46; stroke:none; fill-opacity:1\" cx=\"335.558\" cy=\"193.84\" r=\"3\"/>\n",
       "<circle clip-path=\"url(#clip9002)\" style=\"fill:#000000; stroke:none; fill-opacity:1\" cx=\"353.397\" cy=\"193.84\" r=\"4\"/>\n",
       "<circle clip-path=\"url(#clip9002)\" style=\"fill:#e26f46; stroke:none; fill-opacity:1\" cx=\"353.397\" cy=\"193.84\" r=\"3\"/>\n",
       "<circle clip-path=\"url(#clip9002)\" style=\"fill:#000000; stroke:none; fill-opacity:1\" cx=\"371.237\" cy=\"193.84\" r=\"4\"/>\n",
       "<circle clip-path=\"url(#clip9002)\" style=\"fill:#e26f46; stroke:none; fill-opacity:1\" cx=\"371.237\" cy=\"193.84\" r=\"3\"/>\n",
       "<circle clip-path=\"url(#clip9002)\" style=\"fill:#000000; stroke:none; fill-opacity:1\" cx=\"389.076\" cy=\"193.839\" r=\"4\"/>\n",
       "<circle clip-path=\"url(#clip9002)\" style=\"fill:#e26f46; stroke:none; fill-opacity:1\" cx=\"389.076\" cy=\"193.839\" r=\"3\"/>\n",
       "<circle clip-path=\"url(#clip9002)\" style=\"fill:#000000; stroke:none; fill-opacity:1\" cx=\"406.916\" cy=\"193.829\" r=\"4\"/>\n",
       "<circle clip-path=\"url(#clip9002)\" style=\"fill:#e26f46; stroke:none; fill-opacity:1\" cx=\"406.916\" cy=\"193.829\" r=\"3\"/>\n",
       "<circle clip-path=\"url(#clip9002)\" style=\"fill:#000000; stroke:none; fill-opacity:1\" cx=\"424.755\" cy=\"193.761\" r=\"4\"/>\n",
       "<circle clip-path=\"url(#clip9002)\" style=\"fill:#e26f46; stroke:none; fill-opacity:1\" cx=\"424.755\" cy=\"193.761\" r=\"3\"/>\n",
       "<circle clip-path=\"url(#clip9002)\" style=\"fill:#000000; stroke:none; fill-opacity:1\" cx=\"442.594\" cy=\"193.465\" r=\"4\"/>\n",
       "<circle clip-path=\"url(#clip9002)\" style=\"fill:#e26f46; stroke:none; fill-opacity:1\" cx=\"442.594\" cy=\"193.465\" r=\"3\"/>\n",
       "<circle clip-path=\"url(#clip9002)\" style=\"fill:#000000; stroke:none; fill-opacity:1\" cx=\"460.434\" cy=\"192.498\" r=\"4\"/>\n",
       "<circle clip-path=\"url(#clip9002)\" style=\"fill:#e26f46; stroke:none; fill-opacity:1\" cx=\"460.434\" cy=\"192.498\" r=\"3\"/>\n",
       "<circle clip-path=\"url(#clip9002)\" style=\"fill:#000000; stroke:none; fill-opacity:1\" cx=\"478.273\" cy=\"189.893\" r=\"4\"/>\n",
       "<circle clip-path=\"url(#clip9002)\" style=\"fill:#e26f46; stroke:none; fill-opacity:1\" cx=\"478.273\" cy=\"189.893\" r=\"3\"/>\n",
       "<circle clip-path=\"url(#clip9002)\" style=\"fill:#000000; stroke:none; fill-opacity:1\" cx=\"496.113\" cy=\"183.789\" r=\"4\"/>\n",
       "<circle clip-path=\"url(#clip9002)\" style=\"fill:#e26f46; stroke:none; fill-opacity:1\" cx=\"496.113\" cy=\"183.789\" r=\"3\"/>\n",
       "<circle clip-path=\"url(#clip9002)\" style=\"fill:#000000; stroke:none; fill-opacity:1\" cx=\"513.952\" cy=\"170.917\" r=\"4\"/>\n",
       "<circle clip-path=\"url(#clip9002)\" style=\"fill:#e26f46; stroke:none; fill-opacity:1\" cx=\"513.952\" cy=\"170.917\" r=\"3\"/>\n",
       "<circle clip-path=\"url(#clip9002)\" style=\"fill:#000000; stroke:none; fill-opacity:1\" cx=\"531.792\" cy=\"145.914\" r=\"4\"/>\n",
       "<circle clip-path=\"url(#clip9002)\" style=\"fill:#e26f46; stroke:none; fill-opacity:1\" cx=\"531.792\" cy=\"145.914\" r=\"3\"/>\n",
       "<circle clip-path=\"url(#clip9002)\" style=\"fill:#000000; stroke:none; fill-opacity:1\" cx=\"549.631\" cy=\"100.447\" r=\"4\"/>\n",
       "<circle clip-path=\"url(#clip9002)\" style=\"fill:#e26f46; stroke:none; fill-opacity:1\" cx=\"549.631\" cy=\"100.447\" r=\"3\"/>\n",
       "<circle clip-path=\"url(#clip9002)\" style=\"fill:#000000; stroke:none; fill-opacity:1\" cx=\"567.471\" cy=\"22.1145\" r=\"4\"/>\n",
       "<circle clip-path=\"url(#clip9002)\" style=\"fill:#e26f46; stroke:none; fill-opacity:1\" cx=\"567.471\" cy=\"22.1145\" r=\"3\"/>\n",
       "<polygon clip-path=\"url(#clip9000)\" points=\"\n",
       "470.21,78.051 562.315,78.051 562.315,32.691 470.21,32.691 \n",
       "  \" fill=\"#ffffff\" fill-opacity=\"1\"/>\n",
       "<polyline clip-path=\"url(#clip9000)\" style=\"stroke:#000000; stroke-width:1; stroke-opacity:1; fill:none\" points=\"\n",
       "  470.21,78.051 562.315,78.051 562.315,32.691 470.21,32.691 470.21,78.051 \n",
       "  \"/>\n",
       "<polyline clip-path=\"url(#clip9000)\" style=\"stroke:#009af9; stroke-width:1; stroke-opacity:1; fill:none\" points=\"\n",
       "  476.21,47.811 512.21,47.811 \n",
       "  \"/>\n",
       "<g clip-path=\"url(#clip9000)\">\n",
       "<text style=\"fill:#000000; fill-opacity:1; font-family:Arial,Helvetica Neue,Helvetica,sans-serif; font-size:12; text-anchor:start;\" transform=\"rotate(0, 518.21, 52.311)\" x=\"518.21\" y=\"52.311\">line</text>\n",
       "</g>\n",
       "<circle clip-path=\"url(#clip9000)\" style=\"fill:#000000; stroke:none; fill-opacity:1\" cx=\"497.21\" cy=\"62.931\" r=\"6\"/>\n",
       "<circle clip-path=\"url(#clip9000)\" style=\"fill:#e26f46; stroke:none; fill-opacity:1\" cx=\"497.21\" cy=\"62.931\" r=\"5\"/>\n",
       "<g clip-path=\"url(#clip9000)\">\n",
       "<text style=\"fill:#000000; fill-opacity:1; font-family:Arial,Helvetica Neue,Helvetica,sans-serif; font-size:12; text-anchor:start;\" transform=\"rotate(0, 518.21, 67.431)\" x=\"518.21\" y=\"67.431\">points</text>\n",
       "</g>\n",
       "</svg>\n"
      ]
     },
     "execution_count": 39,
     "metadata": {},
     "output_type": "execute_result"
    }
   ],
   "source": [
    "gr()\n",
    "plot(x, y, label = \"line\")\n",
    "scatter!(x, y, label = \"points\")"
   ]
  },
  {
   "cell_type": "markdown",
   "metadata": {},
   "source": [
    "4.3 Explain what you found."
   ]
  },
  {
   "cell_type": "markdown",
   "metadata": {},
   "source": [
    "Plot in part 2 is more smooth than that in part 1. The noise along the graph in part 1 is caused by the floating number calculation error. From Question 2, it is shown that for floating number calculation will induce some rounding errors. For equation in part 1, more floating number calculations are involved, thus more rounding errors show up and make the plot less smoothing."
   ]
  },
  {
   "cell_type": "markdown",
   "metadata": {},
   "source": [
    "### Question 5"
   ]
  },
  {
   "cell_type": "markdown",
   "metadata": {},
   "source": [
    "Let the  n×n  matrix H have elements H[i, j] = 1 / (i + j - 1)."
   ]
  },
  {
   "cell_type": "markdown",
   "metadata": {},
   "source": [
    "5.1 Write a function h(n) that outputs  n×n  matrix H. Try at least 3 ways, e.g., looping, comprehension, and vectorization. Compute and print H for n = 5."
   ]
  },
  {
   "cell_type": "markdown",
   "metadata": {},
   "source": [
    "### method 1: looping"
   ]
  },
  {
   "cell_type": "code",
   "execution_count": 122,
   "metadata": {},
   "outputs": [
    {
     "data": {
      "text/plain": [
       "5×5 Array{Float64,2}:\n",
       " 1.0       0.5       0.333333  0.25      0.2     \n",
       " 0.5       0.333333  0.25      0.2       0.166667\n",
       " 0.333333  0.25      0.2       0.166667  0.142857\n",
       " 0.25      0.2       0.166667  0.142857  0.125   \n",
       " 0.2       0.166667  0.142857  0.125     0.111111"
      ]
     },
     "execution_count": 122,
     "metadata": {},
     "output_type": "execute_result"
    }
   ],
   "source": [
    "function h1(n)\n",
    "    H = zeros(n, n)\n",
    "    for i in 1:n, j in 1:n\n",
    "        H[i, j] = 1 / (i + j - 1)\n",
    "    end\n",
    "    H\n",
    "end\n",
    "h1(5)"
   ]
  },
  {
   "cell_type": "markdown",
   "metadata": {},
   "source": [
    "### method 2: comprehension"
   ]
  },
  {
   "cell_type": "code",
   "execution_count": 123,
   "metadata": {},
   "outputs": [
    {
     "data": {
      "text/plain": [
       "5×5 Array{Float64,2}:\n",
       " 1.0       0.5       0.333333  0.25      0.2     \n",
       " 0.5       0.333333  0.25      0.2       0.166667\n",
       " 0.333333  0.25      0.2       0.166667  0.142857\n",
       " 0.25      0.2       0.166667  0.142857  0.125   \n",
       " 0.2       0.166667  0.142857  0.125     0.111111"
      ]
     },
     "execution_count": 123,
     "metadata": {},
     "output_type": "execute_result"
    }
   ],
   "source": [
    "function h2(n)\n",
    "    H = [1 / (i + j - 1) for i in 1:n, j in 1:n]\n",
    "end\n",
    "h2(5)"
   ]
  },
  {
   "cell_type": "markdown",
   "metadata": {},
   "source": [
    "### Method 3: vectorization"
   ]
  },
  {
   "cell_type": "code",
   "execution_count": 124,
   "metadata": {
    "scrolled": true
   },
   "outputs": [
    {
     "data": {
      "text/plain": [
       "5×5 Array{Float64,2}:\n",
       " 1.0       0.5       0.333333  0.25      0.2     \n",
       " 0.5       0.333333  0.25      0.2       0.166667\n",
       " 0.333333  0.25      0.2       0.166667  0.142857\n",
       " 0.25      0.2       0.166667  0.142857  0.125   \n",
       " 0.2       0.166667  0.142857  0.125     0.111111"
      ]
     },
     "execution_count": 124,
     "metadata": {},
     "output_type": "execute_result"
    }
   ],
   "source": [
    "function h3(n)\n",
    "    H = 1 ./ (repmat(1:n, 1, n) + repmat((1:n)', n, 1) - 1)  \n",
    "end\n",
    "h3(5)  "
   ]
  },
  {
   "cell_type": "markdown",
   "metadata": {},
   "source": [
    "5.2 Compare their efficiencies at n = 1000."
   ]
  },
  {
   "cell_type": "code",
   "execution_count": 129,
   "metadata": {},
   "outputs": [
    {
     "data": {
      "text/plain": [
       "BenchmarkTools.Trial: \n",
       "  memory estimate:  7.63 MiB\n",
       "  allocs estimate:  2\n",
       "  --------------\n",
       "  minimum time:     4.653 ms (0.00% GC)\n",
       "  median time:      5.708 ms (0.00% GC)\n",
       "  mean time:        6.704 ms (16.64% GC)\n",
       "  maximum time:     36.678 ms (0.00% GC)\n",
       "  --------------\n",
       "  samples:          745\n",
       "  evals/sample:     1"
      ]
     },
     "execution_count": 129,
     "metadata": {},
     "output_type": "execute_result"
    }
   ],
   "source": [
    "Pkg.add(\"BenchmarkTools\")\n",
    "using BenchmarkTools\n",
    "@benchmark h1(1000)"
   ]
  },
  {
   "cell_type": "code",
   "execution_count": 130,
   "metadata": {},
   "outputs": [
    {
     "data": {
      "text/plain": [
       "BenchmarkTools.Trial: \n",
       "  memory estimate:  7.63 MiB\n",
       "  allocs estimate:  2\n",
       "  --------------\n",
       "  minimum time:     4.590 ms (0.00% GC)\n",
       "  median time:      5.439 ms (0.00% GC)\n",
       "  mean time:        6.482 ms (17.07% GC)\n",
       "  maximum time:     36.341 ms (0.00% GC)\n",
       "  --------------\n",
       "  samples:          771\n",
       "  evals/sample:     1"
      ]
     },
     "execution_count": 130,
     "metadata": {},
     "output_type": "execute_result"
    }
   ],
   "source": [
    "@benchmark h2(1000)"
   ]
  },
  {
   "cell_type": "code",
   "execution_count": 132,
   "metadata": {},
   "outputs": [
    {
     "data": {
      "text/plain": [
       "BenchmarkTools.Trial: \n",
       "  memory estimate:  38.33 MiB\n",
       "  allocs estimate:  6010\n",
       "  --------------\n",
       "  minimum time:     18.388 ms (0.00% GC)\n",
       "  median time:      23.668 ms (22.24% GC)\n",
       "  mean time:        25.791 ms (24.82% GC)\n",
       "  maximum time:     143.722 ms (85.12% GC)\n",
       "  --------------\n",
       "  samples:          194\n",
       "  evals/sample:     1"
      ]
     },
     "execution_count": 132,
     "metadata": {},
     "output_type": "execute_result"
    }
   ],
   "source": [
    "@benchmark h3(1000)"
   ]
  },
  {
   "cell_type": "markdown",
   "metadata": {},
   "source": [
    "* Comparing the mean run time and GC for all three methods, looping and comprehension have relatively same run time and GC, around 6.5 ms and 17% GC, which are much more efficient than vectorization method at n = 1000. The allocation times are 2 times for looping and comprehension method, but around 6000 times for vectorization method, which further indicates looping and comprehension methods are much more efficient than vectorization method. "
   ]
  },
  {
   "cell_type": "markdown",
   "metadata": {},
   "source": [
    "5.3 Try different rounding modes (use function setrounding(Float64, RoundingMode)) and report the entry inv(H)[1, 1] for n = 15."
   ]
  },
  {
   "cell_type": "markdown",
   "metadata": {},
   "source": [
    " From [julia documentation](https://docs.julialang.org/en/stable/stdlib/math/#Base.Rounding.RoundingMode), there are 7 rouding modes are curenttly supported. Here, let's try 4 different rounding modes:"
   ]
  },
  {
   "cell_type": "markdown",
   "metadata": {},
   "source": [
    "#### 1. RoundNearest(default)"
   ]
  },
  {
   "cell_type": "code",
   "execution_count": 138,
   "metadata": {},
   "outputs": [
    {
     "data": {
      "text/plain": [
       "155.69640942662954"
      ]
     },
     "execution_count": 138,
     "metadata": {},
     "output_type": "execute_result"
    }
   ],
   "source": [
    "H = h2(15)\n",
    "setrounding(Float64, RoundNearest)\n",
    "inv(H)[1, 1]"
   ]
  },
  {
   "cell_type": "markdown",
   "metadata": {},
   "source": [
    "#### 2. RoundToZero"
   ]
  },
  {
   "cell_type": "code",
   "execution_count": 143,
   "metadata": {},
   "outputs": [
    {
     "data": {
      "text/plain": [
       "152.22685868665576"
      ]
     },
     "execution_count": 143,
     "metadata": {},
     "output_type": "execute_result"
    }
   ],
   "source": [
    "setrounding(Float64, RoundToZero)\n",
    "inv(H)[1, 1]"
   ]
  },
  {
   "cell_type": "markdown",
   "metadata": {},
   "source": [
    "#### 3. RoundUp"
   ]
  },
  {
   "cell_type": "code",
   "execution_count": 144,
   "metadata": {},
   "outputs": [
    {
     "data": {
      "text/plain": [
       "157.2612055838108"
      ]
     },
     "execution_count": 144,
     "metadata": {},
     "output_type": "execute_result"
    }
   ],
   "source": [
    "setrounding(Float64, RoundUp)\n",
    "inv(H)[1, 1]"
   ]
  },
  {
   "cell_type": "markdown",
   "metadata": {},
   "source": [
    "#### 4. RoundDown"
   ]
  },
  {
   "cell_type": "code",
   "execution_count": 146,
   "metadata": {},
   "outputs": [
    {
     "data": {
      "text/plain": [
       "149.15517281927168"
      ]
     },
     "execution_count": 146,
     "metadata": {},
     "output_type": "execute_result"
    }
   ],
   "source": [
    "setrounding(Float64, RoundDown)\n",
    "inv(H)[1, 1]"
   ]
  },
  {
   "cell_type": "markdown",
   "metadata": {},
   "source": [
    "- From the results with different rounding modes, the entry (1, 1) ranges from round 149 to 157. Thus, the rounding error does affect the calculation results."
   ]
  },
  {
   "cell_type": "markdown",
   "metadata": {},
   "source": [
    "### Question 6"
   ]
  },
  {
   "cell_type": "markdown",
   "metadata": {},
   "source": [
    "Let's show proof for part 3 first:\n",
    "\n",
    "6.3 Show the **binomial inversion formula**\n",
    "$$\n",
    "\t(\\mathbf{A} + \\mathbf{U} \\mathbf{B} \\mathbf{V}^T)^{-1} = \\mathbf{A}^{-1} - \\mathbf{A}^{-1} \\mathbf{U} (\\mathbf{B}^{-1} + \\mathbf{V}^T \\mathbf{A}^{-1} \\mathbf{U})^{-1} \\mathbf{V}^T \\mathbf{A}^{-1},\n",
    "$$\n",
    "where $\\mathbf{A}$ and $\\mathbf{B}$ are nonsingular."
   ]
  },
  {
   "cell_type": "markdown",
   "metadata": {},
   "source": [
    "Proof:\n",
    "To show the **binomial inversion formula** is to show \n",
    "$$(\\mathbf{A}+\\mathbf{U} \\mathbf{B} \\mathbf{V}^T) \\big\\{ \\mathbf{A}^{-1} - \\mathbf{A}^{-1} \\mathbf{U} ( \\mathbf{B}^{-1}+ \\mathbf{V}^T \\mathbf{A}^{-1}\\mathbf{U})^{-1} \\mathbf{V}^T \\mathbf{A}^{-1}\\big\\}=\\mathbf{I}\n",
    "$$\n",
    "$$\n",
    "\\begin{align}\n",
    "& (\\mathbf{A}+\\mathbf{U} \\mathbf{B} \\mathbf{V}^T) \\big\\{ \\mathbf{A}^{-1} - \\mathbf{A}^{-1} \\mathbf{U} ( \\mathbf{B}^{-1}+ \\mathbf{V}^T \\mathbf{A}^{-1}\\mathbf{U})^{-1} \\mathbf{V}^T \\mathbf{A}^{-1}\\big\\} \\\\\n",
    "= {}& \\big\\{ \\mathbf{I}-\\mathbf{U}(\\mathbf{B}^{-1}+\\mathbf{V}^T\\mathbf{A}^{-1} \\mathbf{U})^{-1} \\mathbf{V}^T \\mathbf{A}^{-1} \\big\\} +  \\big\\{ \\mathbf{U} \\mathbf{B}\\mathbf{V}^T \\mathbf{A}^{-1} - \\mathbf{U} \\mathbf{B} \\mathbf{V}^T \\mathbf{A}^{-1} \\mathbf{U} (\\mathbf{B}^{-1}+ \\mathbf{V}^T \\mathbf{A}^{-1} \\mathbf{U} )^{-1} \\mathbf{V}^T \\mathbf{A}^{-1}\\big\\} \\\\\n",
    "= {}& \\big\\{  \\mathbf{I} + \\mathbf{U} \\mathbf{B} \\mathbf{V}^T \\mathbf{A}^{-1} \\big\\} - \\big \\{ \\mathbf{U}(\\mathbf{B}^{-1}+\\mathbf{V}^T \\mathbf{A}^{-1} \\mathbf{U})^{-1} \\mathbf{V}^T \\mathbf{A}^{-1} + \\mathbf{U}\\mathbf{B}\\mathbf{V}^T \\mathbf{A}^{-1} \\mathbf{U} (\\mathbf{B}^{-1}+\\mathbf{V}^T \\mathbf{A}^{-1}\\mathbf{U})^{-1} \\mathbf{V}^T \\mathbf{A}^{-1} \\big\\} \\\\\n",
    "= {}& \\mathbf{I} + \\mathbf{U}\\mathbf{B}\\mathbf{V}^T \\mathbf{A}^{-1} - (\\mathbf{U}+\\mathbf{U}\\mathbf{B}\\mathbf{V}^T\\mathbf{A}^{-1}\\mathbf{U}) (\\mathbf{B}^{-1} + \\mathbf{V}^T \\mathbf{A}^{-1}\\mathbf{U})^{-1}\\mathbf{V}^T \\mathbf{A}^{-1} \\\\\n",
    "= {}& \\mathbf{I} + \\mathbf{U}\\mathbf{B}\\mathbf{V}^T \\mathbf{A}^{-1} - \\mathbf{U}\\mathbf{B} (\\mathbf{B}^{-1}+ \\mathbf{V}^T\\mathbf{A}^{-1}\\mathbf{U})(\\mathbf{B}^{-1} + \\mathbf{V}^T\\mathbf{A}^{-1}\\mathbf{U})^{-1}\\mathbf{V}^T\\mathbf{A}^{-1} \\\\\n",
    "= {}& \\mathbf{I} + \\mathbf{U}\\mathbf{B}\\mathbf{V}^T\\mathbf{A}^{-1} - \\mathbf{U}\\mathbf{B}\\mathbf{V}^T\\mathbf{A}^{-1} \\\\\n",
    "= {}& \\mathbf{I}\n",
    "\\end{align}\n",
    "$$\n",
    "Therefore, $\n",
    "\t(\\mathbf{A} + \\mathbf{U} \\mathbf{B} \\mathbf{V}^T)^{-1} = \\mathbf{A}^{-1} - \\mathbf{A}^{-1} \\mathbf{U} (\\mathbf{B}^{-1} + \\mathbf{V}^T \\mathbf{A}^{-1} \\mathbf{U})^{-1} \\mathbf{V}^T \\mathbf{A}^{-1}\n",
    "$"
   ]
  },
  {
   "cell_type": "markdown",
   "metadata": {},
   "source": [
    "6.1 Show the **Sherman-Morrison formula**\n",
    "$$\n",
    "\t(\\mathbf{A} + \\mathbf{u} \\mathbf{u}^T)^{-1} = \\mathbf{A}^{-1} - \\frac{1}{1 + \\mathbf{u}^T \\mathbf{A}^{-1} \\mathbf{u}} \\mathbf{A}^{-1} \\mathbf{u} \\mathbf{u}^T \\mathbf{A}^{-1},\n",
    "$$\n",
    "where $\\mathbf{A} \\in \\mathbb{R}^{n \\times n}$ is nonsingular and $\\mathbf{u} \\in \\mathbb{R}^n$. This formula supplies the inverse of the symmetric, rank-one  perturbation of $\\mathbf{A}$."
   ]
  },
  {
   "cell_type": "markdown",
   "metadata": {},
   "source": [
    "Proof:\n",
    "\n",
    "Let $\\mathbf{B}$ be a 1 by 1 unit matrix, $\\mathbf{V}=\\mathbf{u}$ and $\\mathbf{U}=\\mathbf{u}$, \n",
    "\n",
    "\n",
    "$$\n",
    "\\begin{align}\n",
    "& \\because \\mathbf{A} \\in \\mathbb{R}^{n \\times n} \\space\\space\\space \\mathbf{u} \\in \\mathbb{R}^n \\\\\n",
    "& \\therefore \\mathbf{u}^T\\mathbf{A}^{-1}\\mathbf{u} \\text{ is a 1 by 1 unit matrix} \\\\\n",
    "\\end{align}\n",
    "$$\n",
    "By binomial inversion formula, \n",
    "$$\n",
    "\\begin{align}\n",
    "& (\\mathbf{A}+\\mathbf{u} \\mathbf{u}^T)^{-1} \\\\\n",
    "= & \\mathbf{A}^{-1} - \\mathbf{A}^{-1} \\mathbf{u} ( 1^{-1}+ \\mathbf{u}^T \\mathbf{A}^{-1}\\mathbf{u})^{-1} \\mathbf{u}^T \\mathbf{A}^{-1} \\\\\n",
    "= & \\mathbf{A}^{-1} - \\frac{1}{1 + \\mathbf{u}^T \\mathbf{A}^{-1} \\mathbf{u}} \\mathbf{A}^{-1} \\mathbf{u} \\mathbf{u}^T \\mathbf{A}^{-1}\\\\\n",
    "\\end{align}\n",
    "$$\n",
    "\n",
    "\n",
    "\n"
   ]
  },
  {
   "cell_type": "markdown",
   "metadata": {},
   "source": [
    "6.2 Show the **Woodbury formula**\n",
    "$$\n",
    "\t(\\mathbf{A} + \\mathbf{U} \\mathbf{V}^T)^{-1} = \\mathbf{A}^{-1} - \\mathbf{A}^{-1} \\mathbf{U} (\\mathbf{I}_m + \\mathbf{V}^T \\mathbf{A}^{-1} \\mathbf{U})^{-1} \\mathbf{V}^T \\mathbf{A}^{-1},\n",
    "$$\n",
    "where $\\mathbf{A} \\in \\mathbb{R}^{n \\times n}$ is nonsingular, $\\mathbf{U}, \\mathbf{V} \\in \\mathbb{R}^{n \\times m}$, and $\\mathbf{I}_m$ is the $m \\times m$ identity matrix. In many applications $m$ is much smaller than $n$. Woodbury formula generalizes Sherman-Morrison and is valuable because the smaller matrix $\\mathbf{I}_m + \\mathbf{V}^T \\mathbf{A}^{-1} \\mathbf{U}$ is cheaper to invert than the larger matrix $\\mathbf{A} + \\mathbf{U} \\mathbf{V}^T$."
   ]
  },
  {
   "cell_type": "markdown",
   "metadata": {},
   "source": [
    "Proof:\n",
    "\n",
    "Let $\\mathbf{B}=\\mathbf{I}_m $, \n",
    "\n",
    "By binomial inversion formula,\n",
    "$$\n",
    "\\begin{align}\n",
    "& (\\mathbf{A} + \\mathbf{U} \\mathbf{B} \\mathbf{V}^T)^{-1} \\\\\n",
    "= {}& (\\mathbf{A} + \\mathbf{U} \\mathbf{I}_m \\mathbf{V}^T)^{-1} \\\\\n",
    "= {}& \\mathbf{A}^{-1} - \\mathbf{A}^{-1} \\mathbf{U} (\\mathbf{I}_m^{-1} + \\mathbf{V}^T \\mathbf{A}^{-1} \\mathbf{U})^{-1} \\mathbf{V}^T \\mathbf{A}^{-1}\n",
    "\\end{align}\n",
    "$$\n",
    "\n",
    "$$\n",
    "\\begin{align}\n",
    "\\because {}& (\\mathbf{A} + \\mathbf{U} \\mathbf{V}^T)^{-1} = (\\mathbf{A} + \\mathbf{U} \\mathbf{I}_m \\mathbf{V}^T)^{-1} \\\\\n",
    "\\therefore {}& (\\mathbf{A} + \\mathbf{U} \\mathbf{V}^T)^{-1} = \\mathbf{A}^{-1} - \\mathbf{A}^{-1} \\mathbf{U} (\\mathbf{I}_m + \\mathbf{V}^T \\mathbf{A}^{-1} \\mathbf{U})^{-1} \\mathbf{V}^T \\mathbf{A}^{-1}\n",
    "\\end{align}\n",
    "$$"
   ]
  },
  {
   "cell_type": "markdown",
   "metadata": {},
   "source": [
    "6.4 Show the identity\n",
    "$$\n",
    "\t\\text{det}(\\mathbf{A} + \\mathbf{U} \\mathbf{V}^T) = \\text{det}(\\mathbf{A}) \\text{det}(\\mathbf{I}_m + \\mathbf{V}^T \\mathbf{A}^{-1} \\mathbf{U}).\n",
    "$$\n",
    "This formula is useful for evaluating the density of a multivariate normal with covariance matrix $\\mathbf{A} + \\mathbf{U} \\mathbf{V}^T$."
   ]
  },
  {
   "cell_type": "markdown",
   "metadata": {},
   "source": [
    "proof:\n",
    "\n",
    "$$\n",
    "\\begin{align}\n",
    "\\text{det}(\\mathbf{A} + \\mathbf{U} \\mathbf{V}^T)\n",
    "=  \\text{det}{A} + \\text{det}\n",
    "\\begin{pmatrix}\n",
    "\\mathbf{I_m} & \\mathbf{V}^T \\\\\n",
    "  -\\mathbf{A}^{-1}\\mathbf{U} & \\mathbf{I_n}\n",
    "\\begin{pmatrix} \\\\\n",
    "\\end{align}\n",
    "$$"
   ]
  },
  {
   "cell_type": "markdown",
   "metadata": {},
   "source": [
    "$$\n",
    "\\begin{pmatrix}\n",
    "\\mathbf{I_m} & \\mathbf{V}^T \\\\\n",
    "  -\\mathbf{A}^{-1}\\mathbf{U} & \\mathbf{I_n}\n",
    "\\begin{pmatrix}\n",
    "$$"
   ]
  }
 ],
 "metadata": {
  "kernelspec": {
   "display_name": "Julia 0.6.2",
   "language": "julia",
   "name": "julia-0.6"
  },
  "language_info": {
   "file_extension": ".jl",
   "mimetype": "application/julia",
   "name": "julia",
   "version": "0.6.2"
  }
 },
 "nbformat": 4,
 "nbformat_minor": 2
}
