{
 "cells": [
  {
   "cell_type": "markdown",
   "metadata": {},
   "source": [
    "# Biostats280 Homework 1\n",
    "- Author: Shuang Gao \n",
    "- Date: 2018/04/17"
   ]
  },
  {
   "cell_type": "markdown",
   "metadata": {},
   "source": [
    "## Question 2\n",
    "2.1 Associative rule for addition says (x + y) + z == x + (y + z). Check association rule using x = 0.1, y = 0.1 and z = 1.0 in Julia. Explain what you find."
   ]
  },
  {
   "cell_type": "code",
   "execution_count": 1,
   "metadata": {},
   "outputs": [
    {
     "data": {
      "text/plain": [
       "false"
      ]
     },
     "execution_count": 1,
     "metadata": {},
     "output_type": "execute_result"
    }
   ],
   "source": [
    "x, y, z = 0.1, 0.1, 1.0\n",
    "(x + y) + z == x + (y + z)"
   ]
  },
  {
   "cell_type": "code",
   "execution_count": 2,
   "metadata": {},
   "outputs": [
    {
     "name": "stdout",
     "output_type": "stream",
     "text": [
      "(x + y) + z = 1.2\n",
      "x + (y + z) = 1.2000000000000002\n"
     ]
    },
    {
     "data": {
      "text/plain": [
       "1.2000000000000002"
      ]
     },
     "execution_count": 2,
     "metadata": {},
     "output_type": "execute_result"
    }
   ],
   "source": [
    "@show (x + y) + z\n",
    "@show x + (y + z)"
   ]
  },
  {
   "cell_type": "markdown",
   "metadata": {},
   "source": [
    "- The floating point in the left hand side is rounded to the first decimal place, but the floating point in the right hand side is arounded to 16th decimal place. Such rounding difference results in the violation of the associative rule for floating point addition."
   ]
  },
  {
   "cell_type": "markdown",
   "metadata": {},
   "source": [
    "2.2 Do floating-point numbers obey the associative rule for multiplication: (x * y) * z == x * (y * z)?"
   ]
  },
  {
   "cell_type": "code",
   "execution_count": 3,
   "metadata": {},
   "outputs": [
    {
     "data": {
      "text/plain": [
       "true"
      ]
     },
     "execution_count": 3,
     "metadata": {},
     "output_type": "execute_result"
    }
   ],
   "source": [
    "x, y, z = 0.3, 0.9, 0.4\n",
    "(x * y) * z == x * (y * z)"
   ]
  },
  {
   "cell_type": "code",
   "execution_count": 4,
   "metadata": {},
   "outputs": [
    {
     "name": "stdout",
     "output_type": "stream",
     "text": [
      "(x * y) * z = 0.10800000000000001\n",
      "x * (y * z) = 0.10800000000000001\n"
     ]
    },
    {
     "data": {
      "text/plain": [
       "0.10800000000000001"
      ]
     },
     "execution_count": 4,
     "metadata": {},
     "output_type": "execute_result"
    }
   ],
   "source": [
    "@show (x * y) * z\n",
    "@show x * (y * z)"
   ]
  },
  {
   "cell_type": "code",
   "execution_count": 5,
   "metadata": {},
   "outputs": [
    {
     "data": {
      "text/plain": [
       "false"
      ]
     },
     "execution_count": 5,
     "metadata": {},
     "output_type": "execute_result"
    }
   ],
   "source": [
    "x, y, z = 0.3, 0.1, 0.4\n",
    "(x * y) * z == x * (y * z)"
   ]
  },
  {
   "cell_type": "code",
   "execution_count": 6,
   "metadata": {},
   "outputs": [
    {
     "name": "stdout",
     "output_type": "stream",
     "text": [
      "(x * y) * z = 0.012\n",
      "x * (y * z) = 0.012000000000000002\n"
     ]
    },
    {
     "data": {
      "text/plain": [
       "0.012000000000000002"
      ]
     },
     "execution_count": 6,
     "metadata": {},
     "output_type": "execute_result"
    }
   ],
   "source": [
    "@show (x * y) * z\n",
    "@show x * (y * z)"
   ]
  },
  {
   "cell_type": "markdown",
   "metadata": {},
   "source": [
    "- Same thing happens as in part 2.1. The floating point in the left hand side is rounded to the third decimal place, but the floating point in the right hand side is arounded to 18th decimal place. Such rounding difference results in the violation of the associative rule for floating point multiplication."
   ]
  },
  {
   "cell_type": "markdown",
   "metadata": {},
   "source": [
    "2.3 Do floating-point numbers obey the distributive rule: a * (x + y) == a * x + a * y?"
   ]
  },
  {
   "cell_type": "code",
   "execution_count": 7,
   "metadata": {},
   "outputs": [
    {
     "data": {
      "text/plain": [
       "false"
      ]
     },
     "execution_count": 7,
     "metadata": {},
     "output_type": "execute_result"
    }
   ],
   "source": [
    "a, x, y = 0.4, 0.1, 0.3 \n",
    "a * (x + y) == a * x + a * y "
   ]
  },
  {
   "cell_type": "code",
   "execution_count": 8,
   "metadata": {},
   "outputs": [
    {
     "name": "stdout",
     "output_type": "stream",
     "text": [
      "a * (x + y) = 0.16000000000000003\n",
      "a * x + a * y = 0.16\n"
     ]
    },
    {
     "data": {
      "text/plain": [
       "0.16"
      ]
     },
     "execution_count": 8,
     "metadata": {},
     "output_type": "execute_result"
    }
   ],
   "source": [
    "@show a * (x + y)\n",
    "@show a * x + a * y "
   ]
  },
  {
   "cell_type": "markdown",
   "metadata": {},
   "source": [
    "- The floating point in the left hand side is rounded to the 17th  decimal place, but the floating point in the right hand side is arounded to second decimal place. Such rounding difference results in the violation of the distributive rule for floating point."
   ]
  },
  {
   "cell_type": "markdown",
   "metadata": {},
   "source": [
    "2.4 Is 0 * x == 0 true for all floating-point number x?"
   ]
  },
  {
   "cell_type": "code",
   "execution_count": 9,
   "metadata": {},
   "outputs": [
    {
     "data": {
      "text/plain": [
       "false"
      ]
     },
     "execution_count": 9,
     "metadata": {},
     "output_type": "execute_result"
    }
   ],
   "source": [
    "x = Inf\n",
    "0 * x == 0"
   ]
  },
  {
   "cell_type": "code",
   "execution_count": 10,
   "metadata": {},
   "outputs": [
    {
     "name": "stdout",
     "output_type": "stream",
     "text": [
      "0x = NaN\n"
     ]
    },
    {
     "data": {
      "text/plain": [
       "NaN"
      ]
     },
     "execution_count": 10,
     "metadata": {},
     "output_type": "execute_result"
    }
   ],
   "source": [
    "@show 0 * x"
   ]
  },
  {
   "cell_type": "markdown",
   "metadata": {},
   "source": [
    "- The result of 0 * Inf returns NaN, which means not a number. Thus the comparision between NaN and 0 is not valid, which returns a false boolean result."
   ]
  },
  {
   "cell_type": "markdown",
   "metadata": {},
   "source": [
    "2.5 Is x / a == x * (1 / a) always true? Try with x = 3.0, a = 5.0 and explain what you find."
   ]
  },
  {
   "cell_type": "code",
   "execution_count": 11,
   "metadata": {},
   "outputs": [
    {
     "data": {
      "text/plain": [
       "false"
      ]
     },
     "execution_count": 11,
     "metadata": {},
     "output_type": "execute_result"
    }
   ],
   "source": [
    "x, a = 3.0, 5.0\n",
    "x / a == x * (1 / a)"
   ]
  },
  {
   "cell_type": "code",
   "execution_count": 12,
   "metadata": {},
   "outputs": [
    {
     "name": "stdout",
     "output_type": "stream",
     "text": [
      "x / a = 0.6\n",
      "x * (1 / a) = 0.6000000000000001\n"
     ]
    },
    {
     "data": {
      "text/plain": [
       "0.6000000000000001"
      ]
     },
     "execution_count": 12,
     "metadata": {},
     "output_type": "execute_result"
    }
   ],
   "source": [
    "@show x / a \n",
    "@show x * (1 / a)"
   ]
  },
  {
   "cell_type": "markdown",
   "metadata": {},
   "source": [
    "- The left hand side result is rounded to the first decimal place, but the right hand side result is arounded to 16th decimal place. Thus, the rounding difference of division may result in the inequality of x / a == x * (1 / a)."
   ]
  },
  {
   "cell_type": "markdown",
   "metadata": {},
   "source": [
    "## Quesiton 3\n"
   ]
  },
  {
   "cell_type": "code",
   "execution_count": 13,
   "metadata": {},
   "outputs": [
    {
     "data": {
      "text/plain": [
       "g (generic function with 1 method)"
      ]
     },
     "execution_count": 13,
     "metadata": {},
     "output_type": "execute_result"
    }
   ],
   "source": [
    "function g(k)\n",
    "    for i = 1:10\n",
    "        k = 5k - 1\n",
    "    end\n",
    "    k\n",
    "end\n"
   ]
  },
  {
   "cell_type": "markdown",
   "metadata": {},
   "source": [
    "3.1 Use @code_llvm to find the LLVM bitcode of compiled g with Int64 input."
   ]
  },
  {
   "cell_type": "code",
   "execution_count": 14,
   "metadata": {},
   "outputs": [
    {
     "data": {
      "text/plain": [
       "Int64"
      ]
     },
     "execution_count": 14,
     "metadata": {},
     "output_type": "execute_result"
    }
   ],
   "source": [
    "a = 2\n",
    "typeof(a)"
   ]
  },
  {
   "cell_type": "code",
   "execution_count": 15,
   "metadata": {},
   "outputs": [
    {
     "name": "stdout",
     "output_type": "stream",
     "text": [
      "\n",
      "; Function Attrs: uwtable\n",
      "define i64 @julia_g_63890(i64) #0 !dbg !5 {\n",
      "top:\n",
      "  %1 = mul i64 %0, 9765625\n",
      "  %2 = add i64 %1, -2441406\n",
      "  ret i64 %2\n",
      "}\n"
     ]
    },
    {
     "data": {
      "text/plain": [
       "17089844"
      ]
     },
     "execution_count": 15,
     "metadata": {},
     "output_type": "execute_result"
    }
   ],
   "source": [
    "@code_llvm g(a)\n",
    "g(a)"
   ]
  },
  {
   "cell_type": "markdown",
   "metadata": {},
   "source": [
    "3.2 Use @code_llvm to find the LLVM bitcode of compiled g with Float64 input."
   ]
  },
  {
   "cell_type": "code",
   "execution_count": 16,
   "metadata": {},
   "outputs": [
    {
     "data": {
      "text/plain": [
       "Float64"
      ]
     },
     "execution_count": 16,
     "metadata": {},
     "output_type": "execute_result"
    }
   ],
   "source": [
    "b = 2.0\n",
    "typeof(b)"
   ]
  },
  {
   "cell_type": "code",
   "execution_count": 17,
   "metadata": {},
   "outputs": [
    {
     "name": "stdout",
     "output_type": "stream",
     "text": [
      "\n",
      "; Function Attrs: uwtable\n",
      "define double @julia_g_63911(double) #0 !dbg !5 {\n",
      "top:\n",
      "  %1 = fmul double %0, 5.000000e+00\n",
      "  %2 = fadd double %1, -1.000000e+00\n",
      "  %3 = fmul double %2, 5.000000e+00\n",
      "  %4 = fadd double %3, -1.000000e+00\n",
      "  %5 = fmul double %4, 5.000000e+00\n",
      "  %6 = fadd double %5, -1.000000e+00\n",
      "  %7 = fmul double %6, 5.000000e+00\n",
      "  %8 = fadd double %7, -1.000000e+00\n",
      "  %9 = fmul double %8, 5.000000e+00\n",
      "  %10 = fadd double %9, -1.000000e+00\n",
      "  %11 = fmul double %10, 5.000000e+00\n",
      "  %12 = fadd double %11, -1.000000e+00\n",
      "  %13 = fmul double %12, 5.000000e+00\n",
      "  %14 = fadd double %13, -1.000000e+00\n",
      "  %15 = fmul double %14, 5.000000e+00\n",
      "  %16 = fadd double %15, -1.000000e+00\n",
      "  %17 = fmul double %16, 5.000000e+00\n",
      "  %18 = fadd double %17, -1.000000e+00\n",
      "  %19 = fmul double %18, 5.000000e+00\n",
      "  %20 = fadd double %19, -1.000000e+00\n",
      "  ret double %20\n",
      "}\n"
     ]
    }
   ],
   "source": [
    "@code_llvm g(b)"
   ]
  },
  {
   "cell_type": "markdown",
   "metadata": {},
   "source": [
    "3.3 Compare the bitcode from questions 1 and 2. What do you find?"
   ]
  },
  {
   "cell_type": "markdown",
   "metadata": {},
   "source": [
    "Let's reduce the loop in g function from 10 iterations to 3, and name it f, in order to find the way julia calculate."
   ]
  },
  {
   "cell_type": "code",
   "execution_count": 18,
   "metadata": {},
   "outputs": [
    {
     "data": {
      "text/plain": [
       "f (generic function with 1 method)"
      ]
     },
     "execution_count": 18,
     "metadata": {},
     "output_type": "execute_result"
    }
   ],
   "source": [
    "function f(k)\n",
    "    for i = 1:3\n",
    "        k = 5k - 1\n",
    "    end\n",
    "    k\n",
    "end\n"
   ]
  },
  {
   "cell_type": "markdown",
   "metadata": {},
   "source": [
    "### Int64 input"
   ]
  },
  {
   "cell_type": "code",
   "execution_count": 19,
   "metadata": {},
   "outputs": [
    {
     "name": "stdout",
     "output_type": "stream",
     "text": [
      "\n",
      "; Function Attrs: uwtable\n",
      "define i64 @julia_f_63923(i64) #0 !dbg !5 {\n",
      "top:\n",
      "  %1 = mul i64 %0, 125\n",
      "  %2 = add i64 %1, -31\n",
      "  ret i64 %2\n",
      "}\n"
     ]
    },
    {
     "data": {
      "text/plain": [
       "219"
      ]
     },
     "execution_count": 19,
     "metadata": {},
     "output_type": "execute_result"
    }
   ],
   "source": [
    "# previous int64 input a\n",
    "@code_llvm f(a)\n",
    "f(a)"
   ]
  },
  {
   "cell_type": "markdown",
   "metadata": {},
   "source": [
    "* From the output, julia attempts to calculate the result by modifying the equation $5k-1$ with associative and distributive rules first, and then plug in the unknown variable $k$. \n",
    "* Let's verify this idea with 3 iteration case:\n",
    "$$\n",
    "5(5(5k - 1) - 1) - 1 = 125k + (-25 -5 -1) \\\\\n",
    "= 125k - 31\n",
    "$$\n",
    "125 and -31 are the results shown in `@code_llvm f(a)`. This modification can be done because integers obey associative and distributive rules in julia. \n",
    "* For function g, the calculation with Int64 input is modified to $9765625k-2441406$ with $k=a=2$, which shown in `@code_llvm g(a)`."
   ]
  },
  {
   "cell_type": "markdown",
   "metadata": {},
   "source": [
    "### Float64 input"
   ]
  },
  {
   "cell_type": "code",
   "execution_count": 20,
   "metadata": {},
   "outputs": [
    {
     "name": "stdout",
     "output_type": "stream",
     "text": [
      "\n",
      "; Function Attrs: uwtable\n",
      "define double @julia_f_63925(double) #0 !dbg !5 {\n",
      "top:\n",
      "  %1 = fmul double %0, 5.000000e+00\n",
      "  %2 = fadd double %1, -1.000000e+00\n",
      "  %3 = fmul double %2, 5.000000e+00\n",
      "  %4 = fadd double %3, -1.000000e+00\n",
      "  %5 = fmul double %4, 5.000000e+00\n",
      "  %6 = fadd double %5, -1.000000e+00\n",
      "  ret double %6\n",
      "}\n"
     ]
    },
    {
     "data": {
      "text/plain": [
       "219.0"
      ]
     },
     "execution_count": 20,
     "metadata": {},
     "output_type": "execute_result"
    }
   ],
   "source": [
    "# previous Float64 input b\n",
    "@code_llvm f(b)\n",
    "f(b)"
   ]
  },
  {
   "cell_type": "markdown",
   "metadata": {},
   "source": [
    "* From the output, julia attempts to do the calculation following the iteration. For each iteration, the unknown $k$ is plugged in the equation $5k-1$. \n",
    "* Let's verify the idea with 3 iteration case:\n",
    " - For the first iteration, floating point multiplication is used for evaluatiing $5k-1$ with $k = 2.0$ and new $k=5k-1$ is stored. Thus, the parameters 5 and -1 are shown as floating points in `@code_llvm f(b)`.\n",
    " - For the second iteration, floating point multiplication is used for evaluatiing $5k-1$ with $k = 5*2.0-1$ and new $k=5k-1$ is stored. Thus, the parameters 5 and -1 are shown as floating points in `@code_llvm f(b)`.\n",
    " - For the third iteration, floating point multiplication is used for evaluatiing $5k-1$ with $k = 5*(5*2.0-1)-1$ and new $k=5k-1$ is stored. Thus, the parameters 5 and -1 are shown as floating points in `@code_llvm f(b)`.\n",
    "* For function g, the results in `@code_llvm g(b)` show 10 pairs of parameters 5 and -1, which are shown as floating points. This reflects that for each iteration the variable $k$ is evaluated with floating point multiplication and addtion. Because floating point numbers are not necessary obeying the associative rule and distributive rule. The modified algorithm for integer numbers will not work for floating point case.\n"
   ]
  },
  {
   "cell_type": "markdown",
   "metadata": {},
   "source": [
    "3.4 Read Julia documentation on @fastmath and repeat the questions 1-3 on the function"
   ]
  },
  {
   "cell_type": "markdown",
   "metadata": {},
   "source": [
    "### Julia documentation"
   ]
  },
  {
   "cell_type": "code",
   "execution_count": 21,
   "metadata": {},
   "outputs": [
    {
     "data": {
      "text/plain": [
       "g_fastmath (generic function with 1 method)"
      ]
     },
     "execution_count": 21,
     "metadata": {},
     "output_type": "execute_result"
    }
   ],
   "source": [
    "function g_fastmath(k)  \n",
    "    @fastmath for i = 1:10  \n",
    "        k = 5k - 1\n",
    "    end\n",
    "    k\n",
    "end"
   ]
  },
  {
   "cell_type": "code",
   "execution_count": 22,
   "metadata": {},
   "outputs": [
    {
     "data": {
      "text/markdown": [
       "No documentation found.\n",
       "\n",
       "`Base.FastMath.@fastmath` is a macro.\n",
       "\n",
       "```\n",
       "# 1 method for macro \"@fastmath\":\n",
       "@fastmath(expr::ANY) in Base.FastMath at fastmath.jl:127\n",
       "```\n"
      ],
      "text/plain": [
       "No documentation found.\n",
       "\n",
       "`Base.FastMath.@fastmath` is a macro.\n",
       "\n",
       "```\n",
       "# 1 method for macro \"@fastmath\":\n",
       "@fastmath(expr::ANY) in Base.FastMath at fastmath.jl:127\n",
       "```\n"
      ]
     },
     "execution_count": 22,
     "metadata": {},
     "output_type": "execute_result"
    }
   ],
   "source": [
    "? @fastmath"
   ]
  },
  {
   "cell_type": "markdown",
   "metadata": {},
   "source": [
    "* From the Julia documentation, @fastmath is a macro to allow floating point optimizations that are correct for real numbers, but lead to differences for IEEE numbers. This means, associative rule and distributive rule will work for floating numbers under @fastmath. \n",
    "* If this is the case, the float64 input for function g_fastmath will follow the same optimization as int64 input. This is, using distributive and associative rules to get the final expression with unknown $k$ and then plug in $k$."
   ]
  },
  {
   "cell_type": "markdown",
   "metadata": {},
   "source": [
    "### Int64"
   ]
  },
  {
   "cell_type": "code",
   "execution_count": 23,
   "metadata": {},
   "outputs": [
    {
     "name": "stdout",
     "output_type": "stream",
     "text": [
      "\n",
      "; Function Attrs: uwtable\n",
      "define i64 @julia_g_fastmath_64031(i64) #0 !dbg !5 {\n",
      "top:\n",
      "  %1 = mul i64 %0, 9765625\n",
      "  %2 = add i64 %1, -2441406\n",
      "  ret i64 %2\n",
      "}\n"
     ]
    },
    {
     "data": {
      "text/plain": [
       "17089844"
      ]
     },
     "execution_count": 23,
     "metadata": {},
     "output_type": "execute_result"
    }
   ],
   "source": [
    "# previous int64 input a\n",
    "@code_llvm g_fastmath(a)\n",
    "g_fastmath(a)"
   ]
  },
  {
   "cell_type": "markdown",
   "metadata": {},
   "source": [
    "### Float64"
   ]
  },
  {
   "cell_type": "code",
   "execution_count": 24,
   "metadata": {},
   "outputs": [
    {
     "name": "stdout",
     "output_type": "stream",
     "text": [
      "\n",
      "; Function Attrs: uwtable\n",
      "define double @julia_g_fastmath_64033(double) #0 !dbg !5 {\n",
      "top:\n",
      "  %1 = fmul fast double %0, 9.765625e+06\n",
      "  %2 = fadd fast double %1, -2.441406e+06\n",
      "  ret double %2\n",
      "}\n"
     ]
    },
    {
     "data": {
      "text/plain": [
       "1.7089844e7"
      ]
     },
     "execution_count": 24,
     "metadata": {},
     "output_type": "execute_result"
    }
   ],
   "source": [
    "# previous float64 input b\n",
    "@code_llvm g_fastmath(b)\n",
    "g_fastmath(b)"
   ]
  },
  {
   "cell_type": "markdown",
   "metadata": {},
   "source": [
    "* The LLVM bitcode for Int64 and for Float64 shows the same result, which means both of them optimize the code with distributive and associative rules first. "
   ]
  },
  {
   "cell_type": "markdown",
   "metadata": {},
   "source": [
    "## Question 4"
   ]
  },
  {
   "cell_type": "markdown",
   "metadata": {},
   "source": [
    "Create the vector x = (0.988, 0.989, 0.990, ..., 1.010, 1.011, 1.012)."
   ]
  },
  {
   "cell_type": "code",
   "execution_count": 25,
   "metadata": {},
   "outputs": [
    {
     "data": {
      "text/plain": [
       "25-element Array{Float64,1}:\n",
       " 0.988\n",
       " 0.989\n",
       " 0.99 \n",
       " 0.991\n",
       " 0.992\n",
       " 0.993\n",
       " 0.994\n",
       " 0.995\n",
       " 0.996\n",
       " 0.997\n",
       " 0.998\n",
       " 0.999\n",
       " 1.0  \n",
       " 1.001\n",
       " 1.002\n",
       " 1.003\n",
       " 1.004\n",
       " 1.005\n",
       " 1.006\n",
       " 1.007\n",
       " 1.008\n",
       " 1.009\n",
       " 1.01 \n",
       " 1.011\n",
       " 1.012"
      ]
     },
     "execution_count": 25,
     "metadata": {},
     "output_type": "execute_result"
    }
   ],
   "source": [
    "x = collect(0.988:0.001:1.012)"
   ]
  },
  {
   "cell_type": "markdown",
   "metadata": {},
   "source": [
    "4.1 Plot the polynomial y = x^7 - 7x^6 + 21x^5 - 35x^4 + 35x^3 - 21x^2 + 7x -1 at points x."
   ]
  },
  {
   "cell_type": "code",
   "execution_count": null,
   "metadata": {},
   "outputs": [],
   "source": [
    "Pkg.add(\"Plots\")\n",
    "using Plots"
   ]
  },
  {
   "cell_type": "code",
   "execution_count": null,
   "metadata": {
    "scrolled": true
   },
   "outputs": [],
   "source": [
    "y = map(x -> x^7 - 7x^6 + 21x^5 - 35x^4 + 35x^3 \n",
    "    - 21x^2 + 7x - 1, x)"
   ]
  },
  {
   "cell_type": "code",
   "execution_count": null,
   "metadata": {},
   "outputs": [],
   "source": [
    "#Pkg.add(\"GR\")\n",
    "gr()\n",
    "plot(x, y, label = \"line\")\n",
    "scatter!(x, y, label = \"points\")\n",
    "title!(\"Plot with expansion formula\")"
   ]
  },
  {
   "cell_type": "markdown",
   "metadata": {},
   "source": [
    "4.2 Plot the polynomial y = (x - 1)^7 at points x."
   ]
  },
  {
   "cell_type": "code",
   "execution_count": null,
   "metadata": {},
   "outputs": [],
   "source": [
    "y = map(x -> (x - 1)^7, x)"
   ]
  },
  {
   "cell_type": "code",
   "execution_count": null,
   "metadata": {},
   "outputs": [],
   "source": [
    "gr()\n",
    "plot(x, y, label = \"line\")\n",
    "scatter!(x, y, label = \"points\")"
   ]
  },
  {
   "cell_type": "markdown",
   "metadata": {},
   "source": [
    "4.3 Explain what you found."
   ]
  },
  {
   "cell_type": "markdown",
   "metadata": {},
   "source": [
    "Plot in part 2 is more smooth than that in part 1. The noise along the graph in part 1 is caused by the floating number calculation error. From Question 2, it is shown that for floating number calculation will induce some rounding errors. For equation in part 1, more floating number calculations are involved, thus more rounding errors show up and make the plot less smoothing."
   ]
  },
  {
   "cell_type": "markdown",
   "metadata": {},
   "source": [
    "### Question 5"
   ]
  },
  {
   "cell_type": "markdown",
   "metadata": {},
   "source": [
    "Let the  n×n  matrix H have elements H[i, j] = 1 / (i + j - 1)."
   ]
  },
  {
   "cell_type": "markdown",
   "metadata": {},
   "source": [
    "5.1 Write a function h(n) that outputs  n×n  matrix H. Try at least 3 ways, e.g., looping, comprehension, and vectorization. Compute and print H for n = 5."
   ]
  },
  {
   "cell_type": "markdown",
   "metadata": {},
   "source": [
    "### method 1: looping"
   ]
  },
  {
   "cell_type": "code",
   "execution_count": null,
   "metadata": {},
   "outputs": [],
   "source": [
    "function h1(n)\n",
    "    H = zeros(n, n)\n",
    "    for i in 1:n, j in 1:n\n",
    "        H[i, j] = 1 / (i + j - 1)\n",
    "    end\n",
    "    H\n",
    "end\n",
    "h1(5)"
   ]
  },
  {
   "cell_type": "markdown",
   "metadata": {},
   "source": [
    "### method 2: comprehension"
   ]
  },
  {
   "cell_type": "code",
   "execution_count": null,
   "metadata": {},
   "outputs": [],
   "source": [
    "function h2(n)\n",
    "    H = [1 / (i + j - 1) for i in 1:n, j in 1:n]\n",
    "end\n",
    "h2(5)"
   ]
  },
  {
   "cell_type": "markdown",
   "metadata": {},
   "source": [
    "### Method 3: vectorization"
   ]
  },
  {
   "cell_type": "code",
   "execution_count": null,
   "metadata": {
    "scrolled": true
   },
   "outputs": [],
   "source": [
    "function h3(n)\n",
    "    H = 1 ./ (repmat(1:n, 1, n) + repmat((1:n)', n, 1) - 1)  \n",
    "end\n",
    "h3(5)  "
   ]
  },
  {
   "cell_type": "markdown",
   "metadata": {},
   "source": [
    "5.2 Compare their efficiencies at n = 1000."
   ]
  },
  {
   "cell_type": "code",
   "execution_count": null,
   "metadata": {},
   "outputs": [],
   "source": [
    "Pkg.add(\"BenchmarkTools\")\n",
    "using BenchmarkTools\n",
    "@benchmark h1(1000)"
   ]
  },
  {
   "cell_type": "code",
   "execution_count": null,
   "metadata": {},
   "outputs": [],
   "source": [
    "@benchmark h2(1000)"
   ]
  },
  {
   "cell_type": "code",
   "execution_count": null,
   "metadata": {},
   "outputs": [],
   "source": [
    "@benchmark h3(1000)"
   ]
  },
  {
   "cell_type": "markdown",
   "metadata": {},
   "source": [
    "* Comparing the mean run time and GC for all three methods, looping and comprehension have relatively same run time and GC, around 6.5 ms and 17% GC, which are much more efficient than vectorization method at n = 1000. The allocation times are 2 times for looping and comprehension method, but around 6000 times for vectorization method, which further indicates looping and comprehension methods are much more efficient than vectorization method. "
   ]
  },
  {
   "cell_type": "markdown",
   "metadata": {},
   "source": [
    "5.3 Try different rounding modes (use function setrounding(Float64, RoundingMode)) and report the entry inv(H)[1, 1] for n = 15."
   ]
  },
  {
   "cell_type": "markdown",
   "metadata": {},
   "source": [
    " From [julia documentation](https://docs.julialang.org/en/stable/stdlib/math/#Base.Rounding.RoundingMode), there are 7 rouding modes are curenttly supported. Here, let's try 4 different rounding modes:"
   ]
  },
  {
   "cell_type": "markdown",
   "metadata": {},
   "source": [
    "#### 1. RoundNearest(default)"
   ]
  },
  {
   "cell_type": "code",
   "execution_count": null,
   "metadata": {},
   "outputs": [],
   "source": [
    "H = h2(15)\n",
    "setrounding(Float64, RoundNearest)\n",
    "inv(H)[1, 1]"
   ]
  },
  {
   "cell_type": "markdown",
   "metadata": {},
   "source": [
    "#### 2. RoundToZero"
   ]
  },
  {
   "cell_type": "code",
   "execution_count": null,
   "metadata": {},
   "outputs": [],
   "source": [
    "setrounding(Float64, RoundToZero)\n",
    "inv(H)[1, 1]"
   ]
  },
  {
   "cell_type": "markdown",
   "metadata": {},
   "source": [
    "#### 3. RoundUp"
   ]
  },
  {
   "cell_type": "code",
   "execution_count": null,
   "metadata": {},
   "outputs": [],
   "source": [
    "setrounding(Float64, RoundUp)\n",
    "inv(H)[1, 1]"
   ]
  },
  {
   "cell_type": "markdown",
   "metadata": {},
   "source": [
    "#### 4. RoundDown"
   ]
  },
  {
   "cell_type": "code",
   "execution_count": null,
   "metadata": {},
   "outputs": [],
   "source": [
    "setrounding(Float64, RoundDown)\n",
    "inv(H)[1, 1]"
   ]
  },
  {
   "cell_type": "markdown",
   "metadata": {},
   "source": [
    "- From the results with different rounding modes, the entry (1, 1) ranges from round 149 to 157. Thus, the rounding error does affect the calculation results."
   ]
  },
  {
   "cell_type": "markdown",
   "metadata": {},
   "source": [
    "### Question 6"
   ]
  },
  {
   "cell_type": "markdown",
   "metadata": {},
   "source": [
    "Let's show proof for part 3 first:\n",
    "\n",
    "6.3 Show the **binomial inversion formula**\n",
    "$$\n",
    "\t(\\mathbf{A} + \\mathbf{U} \\mathbf{B} \\mathbf{V}^T)^{-1} = \\mathbf{A}^{-1} - \\mathbf{A}^{-1} \\mathbf{U} (\\mathbf{B}^{-1} + \\mathbf{V}^T \\mathbf{A}^{-1} \\mathbf{U})^{-1} \\mathbf{V}^T \\mathbf{A}^{-1},\n",
    "$$\n",
    "where $\\mathbf{A}$ and $\\mathbf{B}$ are nonsingular."
   ]
  },
  {
   "cell_type": "markdown",
   "metadata": {},
   "source": [
    "Proof:\n",
    "To show the **binomial inversion formula** is to show \n",
    "$$(\\mathbf{A}+\\mathbf{U} \\mathbf{B} \\mathbf{V}^T) \\big\\{ \\mathbf{A}^{-1} - \\mathbf{A}^{-1} \\mathbf{U} ( \\mathbf{B}^{-1}+ \\mathbf{V}^T \\mathbf{A}^{-1}\\mathbf{U})^{-1} \\mathbf{V}^T \\mathbf{A}^{-1}\\big\\}=\\mathbf{I}\n",
    "$$\n",
    "$$\n",
    "\\begin{align}\n",
    "& (\\mathbf{A}+\\mathbf{U} \\mathbf{B} \\mathbf{V}^T) \\big\\{ \\mathbf{A}^{-1} - \\mathbf{A}^{-1} \\mathbf{U} ( \\mathbf{B}^{-1}+ \\mathbf{V}^T \\mathbf{A}^{-1}\\mathbf{U})^{-1} \\mathbf{V}^T \\mathbf{A}^{-1}\\big\\} \\\\\n",
    "= {}& \\big\\{ \\mathbf{I}-\\mathbf{U}(\\mathbf{B}^{-1}+\\mathbf{V}^T\\mathbf{A}^{-1} \\mathbf{U})^{-1} \\mathbf{V}^T \\mathbf{A}^{-1} \\big\\} +  \\big\\{ \\mathbf{U} \\mathbf{B}\\mathbf{V}^T \\mathbf{A}^{-1} - \\mathbf{U} \\mathbf{B} \\mathbf{V}^T \\mathbf{A}^{-1} \\mathbf{U} (\\mathbf{B}^{-1}+ \\mathbf{V}^T \\mathbf{A}^{-1} \\mathbf{U} )^{-1} \\mathbf{V}^T \\mathbf{A}^{-1}\\big\\} \\\\\n",
    "= {}& \\big\\{  \\mathbf{I} + \\mathbf{U} \\mathbf{B} \\mathbf{V}^T \\mathbf{A}^{-1} \\big\\} - \\big \\{ \\mathbf{U}(\\mathbf{B}^{-1}+\\mathbf{V}^T \\mathbf{A}^{-1} \\mathbf{U})^{-1} \\mathbf{V}^T \\mathbf{A}^{-1} + \\mathbf{U}\\mathbf{B}\\mathbf{V}^T \\mathbf{A}^{-1} \\mathbf{U} (\\mathbf{B}^{-1}+\\mathbf{V}^T \\mathbf{A}^{-1}\\mathbf{U})^{-1} \\mathbf{V}^T \\mathbf{A}^{-1} \\big\\} \\\\\n",
    "= {}& \\mathbf{I} + \\mathbf{U}\\mathbf{B}\\mathbf{V}^T \\mathbf{A}^{-1} - (\\mathbf{U}+\\mathbf{U}\\mathbf{B}\\mathbf{V}^T\\mathbf{A}^{-1}\\mathbf{U}) (\\mathbf{B}^{-1} + \\mathbf{V}^T \\mathbf{A}^{-1}\\mathbf{U})^{-1}\\mathbf{V}^T \\mathbf{A}^{-1} \\\\\n",
    "= {}& \\mathbf{I} + \\mathbf{U}\\mathbf{B}\\mathbf{V}^T \\mathbf{A}^{-1} - \\mathbf{U}\\mathbf{B} (\\mathbf{B}^{-1}+ \\mathbf{V}^T\\mathbf{A}^{-1}\\mathbf{U})(\\mathbf{B}^{-1} + \\mathbf{V}^T\\mathbf{A}^{-1}\\mathbf{U})^{-1}\\mathbf{V}^T\\mathbf{A}^{-1} \\\\\n",
    "= {}& \\mathbf{I} + \\mathbf{U}\\mathbf{B}\\mathbf{V}^T\\mathbf{A}^{-1} - \\mathbf{U}\\mathbf{B}\\mathbf{V}^T\\mathbf{A}^{-1} \\\\\n",
    "= {}& \\mathbf{I}\n",
    "\\end{align}\n",
    "$$\n",
    "Therefore, $\n",
    "\t(\\mathbf{A} + \\mathbf{U} \\mathbf{B} \\mathbf{V}^T)^{-1} = \\mathbf{A}^{-1} - \\mathbf{A}^{-1} \\mathbf{U} (\\mathbf{B}^{-1} + \\mathbf{V}^T \\mathbf{A}^{-1} \\mathbf{U})^{-1} \\mathbf{V}^T \\mathbf{A}^{-1}\n",
    "$"
   ]
  },
  {
   "cell_type": "markdown",
   "metadata": {},
   "source": [
    "6.1 Show the **Sherman-Morrison formula**\n",
    "$$\n",
    "\t(\\mathbf{A} + \\mathbf{u} \\mathbf{u}^T)^{-1} = \\mathbf{A}^{-1} - \\frac{1}{1 + \\mathbf{u}^T \\mathbf{A}^{-1} \\mathbf{u}} \\mathbf{A}^{-1} \\mathbf{u} \\mathbf{u}^T \\mathbf{A}^{-1},\n",
    "$$\n",
    "where $\\mathbf{A} \\in \\mathbb{R}^{n \\times n}$ is nonsingular and $\\mathbf{u} \\in \\mathbb{R}^n$. This formula supplies the inverse of the symmetric, rank-one  perturbation of $\\mathbf{A}$."
   ]
  },
  {
   "cell_type": "markdown",
   "metadata": {},
   "source": [
    "Proof:\n",
    "\n",
    "Let $\\mathbf{B}$ be a 1 by 1 unit matrix, $\\mathbf{V}=\\mathbf{u}$ and $\\mathbf{U}=\\mathbf{u}$, \n",
    "\n",
    "\n",
    "$$\n",
    "\\begin{align}\n",
    "& \\because \\mathbf{A} \\in \\mathbb{R}^{n \\times n} \\space\\space\\space \\mathbf{u} \\in \\mathbb{R}^n \\\\\n",
    "& \\therefore \\mathbf{u}^T\\mathbf{A}^{-1}\\mathbf{u} \\text{ is a 1 by 1 unit matrix} \\\\\n",
    "\\end{align}\n",
    "$$\n",
    "By binomial inversion formula, \n",
    "$$\n",
    "\\begin{align}\n",
    "& (\\mathbf{A}+\\mathbf{u} \\mathbf{u}^T)^{-1} \\\\\n",
    "= & \\mathbf{A}^{-1} - \\mathbf{A}^{-1} \\mathbf{u} ( 1^{-1}+ \\mathbf{u}^T \\mathbf{A}^{-1}\\mathbf{u})^{-1} \\mathbf{u}^T \\mathbf{A}^{-1} \\\\\n",
    "= & \\mathbf{A}^{-1} - \\frac{1}{1 + \\mathbf{u}^T \\mathbf{A}^{-1} \\mathbf{u}} \\mathbf{A}^{-1} \\mathbf{u} \\mathbf{u}^T \\mathbf{A}^{-1}\\\\\n",
    "\\end{align}\n",
    "$$\n",
    "\n",
    "\n",
    "\n"
   ]
  },
  {
   "cell_type": "markdown",
   "metadata": {},
   "source": [
    "6.2 Show the **Woodbury formula**\n",
    "$$\n",
    "\t(\\mathbf{A} + \\mathbf{U} \\mathbf{V}^T)^{-1} = \\mathbf{A}^{-1} - \\mathbf{A}^{-1} \\mathbf{U} (\\mathbf{I}_m + \\mathbf{V}^T \\mathbf{A}^{-1} \\mathbf{U})^{-1} \\mathbf{V}^T \\mathbf{A}^{-1},\n",
    "$$\n",
    "where $\\mathbf{A} \\in \\mathbb{R}^{n \\times n}$ is nonsingular, $\\mathbf{U}, \\mathbf{V} \\in \\mathbb{R}^{n \\times m}$, and $\\mathbf{I}_m$ is the $m \\times m$ identity matrix. In many applications $m$ is much smaller than $n$. Woodbury formula generalizes Sherman-Morrison and is valuable because the smaller matrix $\\mathbf{I}_m + \\mathbf{V}^T \\mathbf{A}^{-1} \\mathbf{U}$ is cheaper to invert than the larger matrix $\\mathbf{A} + \\mathbf{U} \\mathbf{V}^T$."
   ]
  },
  {
   "cell_type": "markdown",
   "metadata": {},
   "source": [
    "Proof:\n",
    "\n",
    "Let $\\mathbf{B}=\\mathbf{I}_m $, \n",
    "\n",
    "By binomial inversion formula,\n",
    "$$\n",
    "\\begin{align}\n",
    "& (\\mathbf{A} + \\mathbf{U} \\mathbf{B} \\mathbf{V}^T)^{-1} \\\\\n",
    "= {}& (\\mathbf{A} + \\mathbf{U} \\mathbf{I}_m \\mathbf{V}^T)^{-1} \\\\\n",
    "= {}& \\mathbf{A}^{-1} - \\mathbf{A}^{-1} \\mathbf{U} (\\mathbf{I}_m^{-1} + \\mathbf{V}^T \\mathbf{A}^{-1} \\mathbf{U})^{-1} \\mathbf{V}^T \\mathbf{A}^{-1}\n",
    "\\end{align}\n",
    "$$\n",
    "\n",
    "$$\n",
    "\\begin{align}\n",
    "\\because {}& (\\mathbf{A} + \\mathbf{U} \\mathbf{V}^T)^{-1} = (\\mathbf{A} + \\mathbf{U} \\mathbf{I}_m \\mathbf{V}^T)^{-1} \\\\\n",
    "\\therefore {}& (\\mathbf{A} + \\mathbf{U} \\mathbf{V}^T)^{-1} = \\mathbf{A}^{-1} - \\mathbf{A}^{-1} \\mathbf{U} (\\mathbf{I}_m + \\mathbf{V}^T \\mathbf{A}^{-1} \\mathbf{U})^{-1} \\mathbf{V}^T \\mathbf{A}^{-1}\n",
    "\\end{align}\n",
    "$$"
   ]
  },
  {
   "cell_type": "markdown",
   "metadata": {},
   "source": [
    "6.4 Show the identity\n",
    "$$\n",
    "\t\\text{det}(\\mathbf{A} + \\mathbf{U} \\mathbf{V}^T) = \\text{det}(\\mathbf{A}) \\text{det}(\\mathbf{I}_m + \\mathbf{V}^T \\mathbf{A}^{-1} \\mathbf{U}).\n",
    "$$\n",
    "This formula is useful for evaluating the density of a multivariate normal with covariance matrix $\\mathbf{A} + \\mathbf{U} \\mathbf{V}^T$."
   ]
  },
  {
   "cell_type": "markdown",
   "metadata": {},
   "source": [
    "proof:\n",
    "\n",
    "$$\n",
    "\\begin{align}\n",
    "& \\text{det}(\\mathbf{A} + \\mathbf{U} \\mathbf{V}^T) \\\\\n",
    "= {}& \\text{det}{\\mathbf{A}} + \\text{det}{\n",
    "\\begin{pmatrix}\n",
    "\\mathbf{I_m} & \\mathbf{V}^T \\\\\n",
    "-\\mathbf{A}^{-1}\\mathbf{U} & \\mathbf{I_n}\n",
    "\\end{pmatrix} \n",
    "} \\\\\n",
    "= {}& \\text{det}(\\mathbf{A}) \\text{det}(\\mathbf{I}_m + \\mathbf{V}^T \\mathbf{A}^{-1} \\mathbf{U})\n",
    "\\end{align}\n",
    "$$"
   ]
  }
 ],
 "metadata": {
  "kernelspec": {
   "display_name": "Julia 0.6.2",
   "language": "julia",
   "name": "julia-0.6"
  },
  "language_info": {
   "file_extension": ".jl",
   "mimetype": "application/julia",
   "name": "julia",
   "version": "0.6.2"
  }
 },
 "nbformat": 4,
 "nbformat_minor": 2
}
