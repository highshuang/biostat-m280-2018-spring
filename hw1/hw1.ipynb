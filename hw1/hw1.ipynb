{
 "cells": [
  {
   "cell_type": "markdown",
   "metadata": {},
   "source": [
    "# Biostats280 Homework 1\n",
    "- Author： Shuang Gao \n",
    "- Date: 2018/04/13"
   ]
  },
  {
   "cell_type": "markdown",
   "metadata": {},
   "source": [
    "## Question 2\n",
    "2.1 Associative rule for addition says (x + y) + z == x + (y + z). Check association rule using x = 0.1, y = 0.1 and z = 1.0 in Julia. Explain what you find."
   ]
  },
  {
   "cell_type": "code",
   "execution_count": 49,
   "metadata": {},
   "outputs": [
    {
     "data": {
      "text/plain": [
       "false"
      ]
     },
     "execution_count": 49,
     "metadata": {},
     "output_type": "execute_result"
    }
   ],
   "source": [
    "x, y, z = 0.1, 0.1, 1.0\n",
    "(x + y) + z == x + (y + z)"
   ]
  },
  {
   "cell_type": "code",
   "execution_count": 9,
   "metadata": {},
   "outputs": [
    {
     "name": "stdout",
     "output_type": "stream",
     "text": [
      "(x + y) + z = 1.2\n",
      "x + (y + z) = 1.2000000000000002\n"
     ]
    },
    {
     "data": {
      "text/plain": [
       "1.2000000000000002"
      ]
     },
     "execution_count": 9,
     "metadata": {},
     "output_type": "execute_result"
    }
   ],
   "source": [
    "@show (x + y) + z\n",
    "@show x + (y + z)"
   ]
  },
  {
   "cell_type": "markdown",
   "metadata": {},
   "source": [
    "- The floating point in the left hand side is rounded to the first decimal place, but the floating point in the right hand side is arounded to 16th decimal place. Such rounding difference results in the violation of the associative rule for floating point addition."
   ]
  },
  {
   "cell_type": "markdown",
   "metadata": {},
   "source": [
    "2.2 Do floating-point numbers obey the associative rule for multiplication: (x * y) * z == x * (y * z)?"
   ]
  },
  {
   "cell_type": "code",
   "execution_count": 18,
   "metadata": {},
   "outputs": [
    {
     "data": {
      "text/plain": [
       "true"
      ]
     },
     "execution_count": 18,
     "metadata": {},
     "output_type": "execute_result"
    }
   ],
   "source": [
    "x, y, z = 0.3, 0.9, 0.4\n",
    "(x * y) * z == x * (y * z)"
   ]
  },
  {
   "cell_type": "code",
   "execution_count": 19,
   "metadata": {},
   "outputs": [
    {
     "name": "stdout",
     "output_type": "stream",
     "text": [
      "(x * y) * z = 0.10800000000000001\n",
      "x * (y * z) = 0.10800000000000001\n"
     ]
    },
    {
     "data": {
      "text/plain": [
       "0.10800000000000001"
      ]
     },
     "execution_count": 19,
     "metadata": {},
     "output_type": "execute_result"
    }
   ],
   "source": [
    "@show (x * y) * z\n",
    "@show x * (y * z)"
   ]
  },
  {
   "cell_type": "code",
   "execution_count": 21,
   "metadata": {},
   "outputs": [
    {
     "data": {
      "text/plain": [
       "false"
      ]
     },
     "execution_count": 21,
     "metadata": {},
     "output_type": "execute_result"
    }
   ],
   "source": [
    "x, y, z = 0.3, 0.1, 0.4\n",
    "(x * y) * z == x * (y * z)"
   ]
  },
  {
   "cell_type": "code",
   "execution_count": 22,
   "metadata": {},
   "outputs": [
    {
     "name": "stdout",
     "output_type": "stream",
     "text": [
      "(x * y) * z = 0.012\n",
      "x * (y * z) = 0.012000000000000002\n"
     ]
    },
    {
     "data": {
      "text/plain": [
       "0.012000000000000002"
      ]
     },
     "execution_count": 22,
     "metadata": {},
     "output_type": "execute_result"
    }
   ],
   "source": [
    "@show (x * y) * z\n",
    "@show x * (y * z)"
   ]
  },
  {
   "cell_type": "markdown",
   "metadata": {},
   "source": [
    "- Same thing happens as in part 2.1. The floating point in the left hand side is rounded to the third decimal place, but the floating point in the right hand side is arounded to 18th decimal place. Such rounding difference results in the violation of the associative rule for floating point multiplication."
   ]
  },
  {
   "cell_type": "markdown",
   "metadata": {},
   "source": [
    "2.3 Do floating-point numbers obey the distributive rule: a * (x + y) == a * x + a * y?"
   ]
  },
  {
   "cell_type": "code",
   "execution_count": 39,
   "metadata": {},
   "outputs": [
    {
     "data": {
      "text/plain": [
       "false"
      ]
     },
     "execution_count": 39,
     "metadata": {},
     "output_type": "execute_result"
    }
   ],
   "source": [
    "a, x, y = 0.4, 0.1, 0.3 \n",
    "a * (x + y) == a * x + a * y "
   ]
  },
  {
   "cell_type": "code",
   "execution_count": 28,
   "metadata": {},
   "outputs": [
    {
     "name": "stdout",
     "output_type": "stream",
     "text": [
      "a * (x + y) = 0.16000000000000003\n",
      "a * x + a * y = 0.16\n"
     ]
    },
    {
     "data": {
      "text/plain": [
       "0.16"
      ]
     },
     "execution_count": 28,
     "metadata": {},
     "output_type": "execute_result"
    }
   ],
   "source": [
    "@show a * (x + y)\n",
    "@show a * x + a * y "
   ]
  },
  {
   "cell_type": "markdown",
   "metadata": {},
   "source": [
    "- The floating point in the left hand side is rounded to the 17th  decimal place, but the floating point in the right hand side is arounded to second decimal place. Such rounding difference results in the violation of the distributive rule for floating point."
   ]
  },
  {
   "cell_type": "markdown",
   "metadata": {},
   "source": [
    "2.4 Is 0 * x == 0 true for all floating-point number x?"
   ]
  },
  {
   "cell_type": "code",
   "execution_count": 41,
   "metadata": {},
   "outputs": [
    {
     "data": {
      "text/plain": [
       "false"
      ]
     },
     "execution_count": 41,
     "metadata": {},
     "output_type": "execute_result"
    }
   ],
   "source": [
    "x = Inf\n",
    "0 * x == 0"
   ]
  },
  {
   "cell_type": "code",
   "execution_count": 43,
   "metadata": {},
   "outputs": [
    {
     "name": "stdout",
     "output_type": "stream",
     "text": [
      "0x = NaN\n"
     ]
    },
    {
     "data": {
      "text/plain": [
       "NaN"
      ]
     },
     "execution_count": 43,
     "metadata": {},
     "output_type": "execute_result"
    }
   ],
   "source": [
    "@show 0 * x"
   ]
  },
  {
   "cell_type": "markdown",
   "metadata": {},
   "source": [
    "- The result of 0 * Inf returns NaN, which means not a number. Thus the comparision between NaN and 0 is not valid, which returns a false boolean result."
   ]
  },
  {
   "cell_type": "markdown",
   "metadata": {},
   "source": [
    "2.5 Is x / a == x * (1 / a) always true? Try with x = 3.0, a = 5.0 and explain what you find."
   ]
  },
  {
   "cell_type": "code",
   "execution_count": 46,
   "metadata": {},
   "outputs": [
    {
     "data": {
      "text/plain": [
       "false"
      ]
     },
     "execution_count": 46,
     "metadata": {},
     "output_type": "execute_result"
    }
   ],
   "source": [
    "x, a = 3.0, 5.0\n",
    "x / a == x * (1 / a)"
   ]
  },
  {
   "cell_type": "code",
   "execution_count": 48,
   "metadata": {},
   "outputs": [
    {
     "name": "stdout",
     "output_type": "stream",
     "text": [
      "x / a = 0.6\n",
      "x * (1 / a) = 0.6000000000000001\n"
     ]
    },
    {
     "data": {
      "text/plain": [
       "0.6000000000000001"
      ]
     },
     "execution_count": 48,
     "metadata": {},
     "output_type": "execute_result"
    }
   ],
   "source": [
    "@show x / a \n",
    "@show x * (1 / a)"
   ]
  },
  {
   "cell_type": "markdown",
   "metadata": {},
   "source": [
    "- The left hand side result is rounded to the first decimal place, but the right hand side result is arounded to 16th decimal place. Thus, the rounding difference of division may result in the inequality of x / a == x * (1 / a)."
   ]
  },
  {
   "cell_type": "markdown",
   "metadata": {},
   "source": [
    "## Quesiton 3\n"
   ]
  },
  {
   "cell_type": "code",
   "execution_count": 74,
   "metadata": {},
   "outputs": [
    {
     "data": {
      "text/plain": [
       "g (generic function with 1 method)"
      ]
     },
     "execution_count": 74,
     "metadata": {},
     "output_type": "execute_result"
    }
   ],
   "source": [
    "function g(k)\n",
    "    for i = 1:2\n",
    "        k = 5k - 1\n",
    "    end\n",
    "    k\n",
    "end\n"
   ]
  },
  {
   "cell_type": "markdown",
   "metadata": {},
   "source": [
    "3.1 Use @code_llvm to find the LLVM bitcode of compiled g with Int64 input."
   ]
  },
  {
   "cell_type": "code",
   "execution_count": 75,
   "metadata": {},
   "outputs": [
    {
     "data": {
      "text/plain": [
       "Int64"
      ]
     },
     "execution_count": 75,
     "metadata": {},
     "output_type": "execute_result"
    }
   ],
   "source": [
    "a = 1\n",
    "typeof(a)"
   ]
  },
  {
   "cell_type": "code",
   "execution_count": 76,
   "metadata": {},
   "outputs": [
    {
     "name": "stdout",
     "output_type": "stream",
     "text": [
      "\n",
      "; Function Attrs: uwtable\n",
      "define i64 @julia_g_64081(i64) #0 !dbg !5 {\n",
      "top:\n",
      "  %1 = mul i64 %0, 25\n",
      "  %2 = add i64 %1, -6\n",
      "  ret i64 %2\n",
      "}\n"
     ]
    },
    {
     "data": {
      "text/plain": [
       "19"
      ]
     },
     "execution_count": 76,
     "metadata": {},
     "output_type": "execute_result"
    }
   ],
   "source": [
    "@code_llvm g(a)\n",
    "g(a)"
   ]
  },
  {
   "cell_type": "markdown",
   "metadata": {},
   "source": [
    "3.2 Use @code_llvm to find the LLVM bitcode of compiled g with Float64 input."
   ]
  },
  {
   "cell_type": "code",
   "execution_count": 61,
   "metadata": {},
   "outputs": [
    {
     "data": {
      "text/plain": [
       "Float64"
      ]
     },
     "execution_count": 61,
     "metadata": {},
     "output_type": "execute_result"
    }
   ],
   "source": [
    "b = 1.0\n",
    "typeof(b)"
   ]
  },
  {
   "cell_type": "code",
   "execution_count": 63,
   "metadata": {},
   "outputs": [
    {
     "name": "stdout",
     "output_type": "stream",
     "text": [
      "\n",
      "; Function Attrs: uwtable\n",
      "define double @julia_g_64073(double) #0 !dbg !5 {\n",
      "top:\n",
      "  %1 = fmul double %0, 5.000000e+00\n",
      "  %2 = fadd double %1, -1.000000e+00\n",
      "  %3 = fmul double %2, 5.000000e+00\n",
      "  %4 = fadd double %3, -1.000000e+00\n",
      "  %5 = fmul double %4, 5.000000e+00\n",
      "  %6 = fadd double %5, -1.000000e+00\n",
      "  %7 = fmul double %6, 5.000000e+00\n",
      "  %8 = fadd double %7, -1.000000e+00\n",
      "  %9 = fmul double %8, 5.000000e+00\n",
      "  %10 = fadd double %9, -1.000000e+00\n",
      "  %11 = fmul double %10, 5.000000e+00\n",
      "  %12 = fadd double %11, -1.000000e+00\n",
      "  %13 = fmul double %12, 5.000000e+00\n",
      "  %14 = fadd double %13, -1.000000e+00\n",
      "  %15 = fmul double %14, 5.000000e+00\n",
      "  %16 = fadd double %15, -1.000000e+00\n",
      "  %17 = fmul double %16, 5.000000e+00\n",
      "  %18 = fadd double %17, -1.000000e+00\n",
      "  %19 = fmul double %18, 5.000000e+00\n",
      "  %20 = fadd double %19, -1.000000e+00\n",
      "  ret double %20\n",
      "}\n"
     ]
    }
   ],
   "source": [
    "@code_llvm g(b)"
   ]
  },
  {
   "cell_type": "markdown",
   "metadata": {},
   "source": [
    "3.3 Compare the bitcode from questions 1 and 2. What do you find?"
   ]
  },
  {
   "cell_type": "markdown",
   "metadata": {},
   "source": [
    "Let's reduce the looping in g function from 10 to 3, and name it f, in order to find the way julia calculate."
   ]
  },
  {
   "cell_type": "code",
   "execution_count": 80,
   "metadata": {},
   "outputs": [
    {
     "data": {
      "text/plain": [
       "f (generic function with 1 method)"
      ]
     },
     "execution_count": 80,
     "metadata": {},
     "output_type": "execute_result"
    }
   ],
   "source": [
    "function f(k)\n",
    "    for i = 1:3\n",
    "        k = 5k - 1\n",
    "    end\n",
    "    k\n",
    "end\n"
   ]
  },
  {
   "cell_type": "code",
   "execution_count": 82,
   "metadata": {},
   "outputs": [
    {
     "name": "stdout",
     "output_type": "stream",
     "text": [
      "\n",
      "; Function Attrs: uwtable\n",
      "define i64 @julia_f_64093(i64) #0 !dbg !5 {\n",
      "top:\n",
      "  %1 = mul i64 %0, 125\n",
      "  %2 = add i64 %1, -31\n",
      "  ret i64 %2\n",
      "}\n"
     ]
    },
    {
     "data": {
      "text/plain": [
       "94"
      ]
     },
     "execution_count": 82,
     "metadata": {},
     "output_type": "execute_result"
    }
   ],
   "source": [
    "# previous int64 input a\n",
    "@code_llvm f(a)\n",
    "f(a)"
   ]
  },
  {
   "cell_type": "markdown",
   "metadata": {},
   "source": []
  }
 ],
 "metadata": {
  "kernelspec": {
   "display_name": "Julia 0.6.2",
   "language": "julia",
   "name": "julia-0.6"
  },
  "language_info": {
   "file_extension": ".jl",
   "mimetype": "application/julia",
   "name": "julia",
   "version": "0.6.2"
  }
 },
 "nbformat": 4,
 "nbformat_minor": 2
}
