{
 "cells": [
  {
   "cell_type": "markdown",
   "metadata": {},
   "source": [
    "## M280 Homework4\n",
    "* Author: Shuang Gao\n",
    "* Date: 2018/05/31"
   ]
  },
  {
   "cell_type": "markdown",
   "metadata": {},
   "source": [
    "### Question 1\n",
    "For a multivariate count vector $\\mathbf{x}=(x_1,\\ldots,x_d)$ with batch size $|\\mathbf{x}|=\\sum_{j=1}^d x_j$, show that the probability mass function for Dirichlet-multinomial distribution is\n",
    "$$\n",
    "    f(\\mathbf{x} \\mid \\alpha) \n",
    "\t= \\int_{\\Delta_d} \\binom{|\\mathbf{x}|}{\\mathbf{x}} \\prod_{j=1}^d p_j^{x_j} \\pi(\\mathbf{p}) \\, d \\mathbf{p}  \n",
    "    = \\binom{|\\mathbf{x}|}{\\mathbf{x}} \\frac{\\prod_{j=1}^d \\Gamma(\\alpha_j+x_j)}{\\prod_{j=1}^d \\Gamma(\\alpha_j)} \\frac{\\Gamma(|\\alpha|)}{\\Gamma(|\\alpha|+|\\mathbf{x}|)}\n",
    "$$\n",
    "where $\\Delta_d$ is the unit simplex in $d$ dimensions and $|\\alpha| = \\sum_{j=1}^d \\alpha_j$."
   ]
  },
  {
   "cell_type": "markdown",
   "metadata": {},
   "source": [
    "**Solution:**\n",
    "$$\n",
    "\\begin{align}\n",
    "f(\\mathbf{x} \\mid \\alpha) \n",
    "&= \\int_{\\Delta_d} \\binom{|\\mathbf{x}|}{\\mathbf{x}} \\prod_{j=1}^d p_j^{x_j} \\pi(\\mathbf{p}) \\, d \\mathbf{p} \\\\\n",
    "&= \\int_{\\Delta_d} \\binom{|\\mathbf{x}|}{\\mathbf{x}} \\prod_{j=1}^d p_j^{x_j}\\frac{\\Gamma(|\\alpha|)}{\\prod_{j=1}^d \\Gamma(\\alpha_j)} \\prod_{j=1}^d p_j^{\\alpha_j-1}\\,d \\mathbf{p}\\\\\n",
    "&= \\binom{|\\mathbf{x}|}{\\mathbf{x}} \n",
    "\\frac{\\Gamma(|\\alpha|)}{\\prod_{j=1}^d \\Gamma(\\alpha_j)} \\int_{\\Delta_d} \\prod_{j=1}^d p_j^{x_j+\\alpha_j-1}\\, d\\mathbf{p}\n",
    "\\end{align}\n",
    "$$\n",
    "\n",
    "Because $\\mathbf{p} = (p_1,\\ldots, p_d)$ follow a Dirichlet distribution with parameter vector $\\alpha = (\\alpha_1,\\ldots, \\alpha_d)$, $\\alpha_j>0$, and density\n",
    "$$\n",
    "\\begin{eqnarray*}\n",
    "\t\\pi(\\mathbf{p}) =  \\frac{\\Gamma(|\\alpha|)}{\\prod_{j=1}^d \\Gamma(\\alpha_j)} \\prod_{j=1}^d p_j^{\\alpha_j-1},\n",
    "\\end{eqnarray*} \n",
    "$$\n",
    "where $|\\alpha|=\\sum_{j=1}^d \\alpha_j$.\n",
    "We can get,\n",
    "$$\n",
    "\\begin{align}\n",
    "\\int \\pi(\\mathbf{p})\\,d\\mathbf{p} \n",
    "&= \\int \\frac{\\Gamma(|\\alpha|)}{\\prod_{j=1}^d \\Gamma(\\alpha_j)} \\prod_{j=1}^d p_j^{\\alpha_j-1} \\,d\\mathbf{p}=1\\\\\n",
    "& \\therefore \\int \\prod_{j=1}^d p_j^{\\alpha_j-1}\\,d\\mathbf{p}=\\frac{\\prod_{j=1}^d\\Gamma{(\\alpha_j})}{\\Gamma{(|\\alpha|)}}\\hspace{12mm}(1)\n",
    "\\end{align}\n",
    "$$\n",
    "In order to get the derivation of $f(\\mathbf{x} \\mid \\alpha) $, Plug $\\alpha_j=\\alpha_j+x_j$ into equation (1).\n",
    "Then we have,\n",
    "$$\n",
    "\\begin{align}\n",
    "\\int \\prod_{j=1}^d p_j^{\\alpha_j+x_j-1}\\,d\\mathbf{p}=\\frac{\\prod_{j=1}^d\\Gamma{(\\alpha_j}+x_j)}{\\Gamma{(|\\alpha|+|\\mathbf{x}|)}}\n",
    "\\end{align}\n",
    "$$\n",
    "Then\n",
    "$$\n",
    "\\begin{align}\n",
    "f(\\mathbf{x} \\mid \\alpha) \n",
    "&= \\binom{|\\mathbf{x}|}{\\mathbf{x}} \n",
    "\\frac{\\Gamma(|\\alpha|)}{\\prod_{j=1}^d \\Gamma(\\alpha_j)} \\frac{\\prod_{j=1}^d\\Gamma{(\\alpha_j}+x_j)}{\\Gamma{(|\\alpha|+|\\mathbf{x}|)}}\\\\\n",
    "&=  \\binom{|\\mathbf{x}|}{\\mathbf{x}} \\frac{\\prod_{j=1}^d \\Gamma(\\alpha_j+x_j)}{\\prod_{j=1}^d \\Gamma(\\alpha_j)} \\frac{\\Gamma(|\\alpha|)}{\\Gamma(|\\alpha|+|\\mathbf{x}|)}\n",
    "\\end{align}\n",
    "$$\n"
   ]
  },
  {
   "cell_type": "markdown",
   "metadata": {},
   "source": [
    "### Question 2\n",
    "\n",
    "Given independent data points $\\mathbf{x}_1, \\ldots, \\mathbf{x}_n$, show that the log-likelihood is\n",
    "$$\n",
    "L(\\alpha) = \\sum_{i=1}^n \\ln \\binom{|\\mathbf{x}_i|}{\\mathbf{x}_i} + \\sum_{i=1}^n \\sum_{j=1}^d [\\ln \\Gamma(\\alpha_j + x_{ij}) - \\ln \\Gamma(\\alpha_j)] - \\sum_{i=1}^n [\\ln \\Gamma(|\\alpha|+|\\mathbf{x}_i|) - \\ln \\Gamma(|\\alpha|)]\n",
    "$$\n",
    "Is the log-likelihood a concave function?"
   ]
  },
  {
   "cell_type": "markdown",
   "metadata": {},
   "source": [
    "**Solution:**\n",
    "$$\n",
    "\\begin{align}\n",
    "& \\because \\mathbf{x_1},...,\\mathbf{x_n} \\text{ are independent}\\\\ \n",
    "& \\therefore f(\\mathbf{x_1},...,\\mathbf{x_n} \\mid \\alpha) \n",
    "= f(\\mathbf{x_1}\\mid \\alpha)...f(\\mathbf{x_n\\mid \\alpha})\n",
    "\\end{align}\n",
    "$$\n",
    "$$\n",
    "\\begin{align}\n",
    "\\therefore f(\\mathbf{x_1},...,\\mathbf{x_n} \\mid \\alpha) \n",
    "= \\prod_{i=1}^n \\binom{|\\mathbf{x_i}|}{\\mathbf{x_i}} \\frac{\\prod_{j=1}^d \\Gamma(\\alpha_j+x_{ij})}{\\prod_{j=1}^d \\Gamma(\\alpha_j)} \\frac{\\Gamma(|\\alpha|)}{\\Gamma(|\\alpha|+|\\mathbf{x_i}|)}\n",
    "\\end{align}\n",
    "$$\n",
    "$$\n",
    "\\begin{align}\n",
    "\\therefore L(\\alpha) \n",
    "&= \\ln (\\prod_{i=1}^n \\binom{|\\mathbf{x_i}|}{\\mathbf{x_i}} \\frac{\\prod_{j=1}^d \\Gamma(\\alpha_j+x_{ij})}{\\prod_{j=1}^d \\Gamma(\\alpha_j)} \\frac{\\Gamma(|\\alpha|)}{\\Gamma(|\\alpha|+|\\mathbf{x_i}|)})\\\\\n",
    "&= \\sum_{i=1}^n \\ln \\binom{|\\mathbf{x}_i|}{\\mathbf{x}_i} + \\sum_{i=1}^n \\sum_{j=1}^d [\\ln \\Gamma(\\alpha_j + x_{ij}) - \\ln \\Gamma(\\alpha_j)] - \\sum_{i=1}^n [\\ln \\Gamma(|\\alpha|+|\\mathbf{x}_i|) - \\ln \\Gamma(|\\alpha|)]\n",
    "\\end{align}\n",
    "$$\n",
    "\n",
    "* The function is not concave."
   ]
  },
  {
   "cell_type": "markdown",
   "metadata": {},
   "source": [
    "### Question 3\n",
    "\n",
    "Write Julia function to compute the log-density of the Dirichlet-multinomial distribution."
   ]
  },
  {
   "cell_type": "markdown",
   "metadata": {},
   "source": [
    "The log density of the Dirichlet-multinomial distribution for one data point $\\mathbf{x}$ is shown as follow:\n",
    "$$\n",
    "\\begin{align}\n",
    "L(\\alpha) \n",
    "&= \\ln \\binom{|\\mathbf{x}|}{\\mathbf{x}} +  \\sum_{j=1}^d [\\ln \\Gamma(\\alpha_j + x_{j}) - \\ln \\Gamma(\\alpha_j)] - [\\ln \\Gamma(|\\alpha|+|\\mathbf{x}|) - \\ln \\Gamma(|\\alpha|)]\\\\\n",
    "&=  \\ln |\\mathbf{x}|! - \\ln(x_1!)-...-\\ln(x_{64}!)+ \\sum_{j=1}^{64} [\\ln \\Gamma(\\alpha_j + x_{j}) - \\ln \\Gamma(\\alpha_j)] - [\\ln \\Gamma(|\\alpha|+|\\mathbf{x}|) - \\ln \\Gamma(|\\alpha|)]\\\\\n",
    "&=  \\ln |\\mathbf{x}|! - [\\ln \\Gamma(|\\alpha|+|\\mathbf{x}|) - \\ln \\Gamma(|\\alpha|)]+ \\sum_{j=1}^{64} [\\ln \\Gamma(\\alpha_j + x_{j}) - \\ln \\Gamma(\\alpha_j)-\\ln(x_j!)]\n",
    "\\end{align}\n",
    "$$\n",
    "\n"
   ]
  },
  {
   "cell_type": "code",
   "execution_count": null,
   "metadata": {},
   "outputs": [],
   "source": [
    "\"\"\"\n",
    "    dirmult_logpdf(x::Vector, α::Vector)\n",
    "    \n",
    "Compute the log-pdf of Dirichlet-multinomial distribution with parameter `α` \n",
    "at data point `x`.\n",
    "\"\"\"\n",
    "function dirmult_logpdf(x::Vector, α::Vector)\n",
    "    # store the sum of x and α\n",
    "    sumx = sum(x)\n",
    "    sumα = sum(α)\n",
    "    \n",
    "    # store length of x\n",
    "    lengthx = size(x, 2) # input row vector or col vector?\n",
    "    \n",
    "    # part without summation\n",
    "    logden = lfact(sumx) - lgamma(sumα + sumx) + lgamma(sumα)\n",
    "    \n",
    "    # part within summation\n",
    "    for j in 1:lengthx\n",
    "       logden += lgamma(α[j] + x[j]) - lgamma(α[j]) - lfact(x[j])  \n",
    "    end\n",
    "    \n",
    "    # return log density\n",
    "    return logden\n",
    "end\n"
   ]
  },
  {
   "cell_type": "code",
   "execution_count": 4,
   "metadata": {},
   "outputs": [
    {
     "data": {
      "text/plain": [
       "3823×65 Array{Float64,2}:\n",
       " 0.0  1.0   6.0  15.0  12.0   1.0   0.0  …  14.0   7.0   1.0   0.0  0.0  0.0\n",
       " 0.0  0.0  10.0  16.0   6.0   0.0   0.0     16.0  15.0   3.0   0.0  0.0  0.0\n",
       " 0.0  0.0   8.0  15.0  16.0  13.0   0.0     14.0   0.0   0.0   0.0  0.0  7.0\n",
       " 0.0  0.0   0.0   3.0  11.0  16.0   0.0      1.0  15.0   2.0   0.0  0.0  4.0\n",
       " 0.0  0.0   5.0  14.0   4.0   0.0   0.0     12.0  14.0   7.0   0.0  0.0  6.0\n",
       " 0.0  0.0  11.0  16.0  10.0   1.0   0.0  …  16.0  16.0  16.0  16.0  6.0  2.0\n",
       " 0.0  0.0   1.0  11.0  13.0  11.0   7.0     13.0   5.0   0.0   0.0  0.0  5.0\n",
       " 0.0  0.0   8.0  10.0   8.0   7.0   2.0     13.0   8.0   0.0   0.0  0.0  5.0\n",
       " 0.0  0.0  15.0   2.0  14.0  13.0   2.0     12.0   5.0   0.0   0.0  0.0  0.0\n",
       " 0.0  0.0   3.0  13.0  13.0   2.0   0.0     15.0  11.0   6.0   0.0  0.0  8.0\n",
       " 0.0  0.0   6.0  14.0  14.0  16.0  16.0  …  12.0   0.0   0.0   0.0  0.0  7.0\n",
       " 0.0  0.0   0.0   3.0  16.0  11.0   1.0      2.0  14.0  14.0   1.0  0.0  1.0\n",
       " 0.0  0.0   0.0   4.0  13.0  16.0  16.0      5.0  15.0   4.0   0.0  0.0  9.0\n",
       " ⋮                            ⋮          ⋱         ⋮                        \n",
       " 0.0  0.0   0.0   0.0   7.0  11.0   1.0      0.0   7.0  11.0   0.0  0.0  1.0\n",
       " 0.0  0.0   0.0   6.0  13.0   0.0   0.0      6.0   9.0   0.0   0.0  0.0  4.0\n",
       " 0.0  0.0   0.0   6.0   8.0   0.0   0.0      9.0   8.0   0.0   0.0  0.0  4.0\n",
       " 0.0  0.0   9.0  16.0   6.0   0.0   0.0     13.0   1.0   0.0   0.0  0.0  8.0\n",
       " 0.0  0.0   9.0  16.0  12.0   1.0   0.0  …  16.0  16.0  16.0   8.0  0.0  9.0\n",
       " 0.0  1.0  10.0  16.0  16.0   4.0   0.0     16.0  12.0   5.0   0.0  0.0  3.0\n",
       " 0.0  0.0   6.0  16.0  11.0   0.0   0.0     14.0  16.0  12.0   1.0  0.0  9.0\n",
       " 0.0  0.0   5.0  13.0  11.0   2.0   0.0     13.0  15.0  10.0   1.0  0.0  9.0\n",
       " 0.0  0.0   0.0   1.0  12.0   1.0   0.0      4.0   9.0   0.0   0.0  0.0  4.0\n",
       " 0.0  0.0   3.0  15.0   0.0   0.0   0.0  …  14.0  16.0   9.0   0.0  0.0  6.0\n",
       " 0.0  0.0   6.0  16.0   2.0   0.0   0.0     16.0  16.0  16.0   5.0  0.0  6.0\n",
       " 0.0  0.0   2.0  15.0  16.0  13.0   1.0     14.0   1.0   0.0   0.0  0.0  7.0"
      ]
     },
     "execution_count": 4,
     "metadata": {},
     "output_type": "execute_result"
    }
   ],
   "source": [
    "#data = readcsv(\"optdigits.tra\")\n",
    "# read in train data\n",
    "path1_tra = \"http://hua-zhou.github.io/teaching/biostatm280\"\n",
    "path2_tra = \"-2018spring/hw/hw4/optdigits.tra\"\n",
    "\n",
    "train = readdlm(download(path1_tra * path2_tra), ',')\n",
    "\n",
    "\n",
    "#Hua-Zhou.github.io/teaching/biostatm280-2018spring/hw/hw4/"
   ]
  },
  {
   "cell_type": "code",
   "execution_count": null,
   "metadata": {},
   "outputs": [],
   "source": [
    "function dirmult_logpdf!(r::Vector, X::Matrix, α::Vector)\n",
    "    for j in 1:size(X, 2)\n",
    "        r[j] = dirmult_logpdf(X[:, j], α)\n",
    "    end\n",
    "    return r\n",
    "end\n",
    "\n",
    "\"\"\"\n",
    "    dirmult_logpdf(X, α)\n",
    "    \n",
    "Compute the log-pdf of Dirichlet-multinomial distribution with parameter `α` \n",
    "at each data point in `X`. Each column of `X` is one data point.\n",
    "\"\"\"\n",
    "function dirmult_logpdf(X::Matrix, α::Vector)\n",
    "    r = zeros(size(X, 2))\n",
    "    dirmult_logpdf!(r, X, α)\n",
    "end"
   ]
  }
 ],
 "metadata": {
  "kernelspec": {
   "display_name": "Julia 0.6.2",
   "language": "julia",
   "name": "julia-0.6"
  },
  "language_info": {
   "file_extension": ".jl",
   "mimetype": "application/julia",
   "name": "julia",
   "version": "0.6.2"
  }
 },
 "nbformat": 4,
 "nbformat_minor": 2
}
