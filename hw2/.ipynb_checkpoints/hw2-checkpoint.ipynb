{
 "cells": [
  {
   "cell_type": "markdown",
   "metadata": {},
   "source": [
    "# M280 Homework 2\n",
    "* Author: Shuang Gao\n",
    "* Date: 2018/05/02"
   ]
  },
  {
   "cell_type": "markdown",
   "metadata": {},
   "source": [
    "## Question 1"
   ]
  },
  {
   "cell_type": "markdown",
   "metadata": {},
   "source": [
    "1.1 Implement the algorithm with arguments:  $X$  (data, each row is a vectorized image), rank  $r$ , convergence tolerance, and optional starting point."
   ]
  },
  {
   "cell_type": "code",
   "execution_count": 46,
   "metadata": {},
   "outputs": [
    {
     "data": {
      "text/plain": [
       "nnmf (generic function with 1 method)"
      ]
     },
     "execution_count": 46,
     "metadata": {},
     "output_type": "execute_result"
    }
   ],
   "source": [
    "function nnmf(\n",
    " X::Matrix{T}, \n",
    " r::Int;\n",
    " maxiter::Int = 1000, \n",
    " tol::T = 1e-4,\n",
    " V::Matrix{T} = rand(T, size(X, 1), r),\n",
    " W::Matrix{T} = rand(T, r, size(X, 2))\n",
    " )  where T <: AbstractFloat\n",
    "\n",
    "    # store V*W\n",
    "    mul_VW = zeros(size(X))\n",
    "    \n",
    "    # initialize the denomenator and numerator for V update\n",
    "    denomenator_V = zeros(size(V))\n",
    "    numerator_V = zeros(size(V))\n",
    "    \n",
    "    # initialize the denomenator and numerator for W update\n",
    "    denomenator_W = zeros(size(W))\n",
    "    numerator_W = zeros(size(W))\n",
    "    \n",
    "    # initialize the matrix to store r by r matrix\n",
    "    out_rr = zeros(r, r)\n",
    "    \n",
    "    # store the initial norm L\n",
    "    L = sum(abs2, X - A_mul_B!(mul_VW, V, W))\n",
    "    \n",
    "    for t in 1:maxiter # stop after 1000 iterations        \n",
    "        # update v \n",
    "        # denomenator_V = V * W * W'\n",
    "        # numerator_V = X * W' \n",
    "        V .= V .* (A_mul_Bt!(numerator_V, X, W) ./ \n",
    "            A_mul_B!(denomenator_V, V, A_mul_Bt!(out_rr, W, W)))\n",
    "        \n",
    "        # update W\n",
    "        # denomenator_W = V' * V * W\n",
    "        # numerator_W = V' * X \n",
    "    \n",
    "        # update W \n",
    "        W .= W .* At_mul_B!(numerator_W, V, X) ./ \n",
    "        A_mul_B!(denomenator_W, At_mul_B!(out_rr, V, V), W)  \n",
    "        \n",
    "        # check norm difference \n",
    "        if abs(sum(abs2, X - A_mul_B!(mul_VW, V, W)) - L) / (L + 1) < tol\n",
    "            # store norm and quit the loop \n",
    "            L = sum(abs2, X - A_mul_B!(mul_VW, V, W))\n",
    "            break\n",
    "        end\n",
    "        \n",
    "        # update norm \n",
    "        L = sum(abs2, X - A_mul_B!(mul_VW, V, W))\n",
    "        \n",
    "    end  \n",
    "    \n",
    "    # Output\n",
    "    return L, V, W\n",
    "end\n",
    "    \n",
    "    "
   ]
  },
  {
   "cell_type": "markdown",
   "metadata": {},
   "source": [
    "1.2 Database 1 from the MIT Center for Biological and Computational Learning (CBCL) reduces to a matrix  $X$  containing  $m=2,429$  gray-scale face images with  $n=19×19=361$  pixels per face. Each image (row) is scaled to have mean and standard deviation 0.25.\n",
    "Read in the nnmf-2429-by-361-face.txt file, e.g., using readdlm() function, and display a couple sample images, e.g., using ImageView.jl package."
   ]
  },
  {
   "cell_type": "code",
   "execution_count": 48,
   "metadata": {},
   "outputs": [
    {
     "data": {
      "image/png": "[encoded data removed]",
      "text/plain": [
       "PyPlot.Figure(PyObject <matplotlib.figure.Figure object at 0x00000000420089E8>)"
      ]
     },
     "metadata": {},
     "output_type": "display_data"
    },
    {
     "data": {
      "text/plain": [
       "PyObject <matplotlib.image.AxesImage object at 0x000000002813D3C8>"
      ]
     },
     "execution_count": 48,
     "metadata": {},
     "output_type": "execute_result"
    }
   ],
   "source": [
    "# add package for visulizating image\n",
    "#Pkg.add(\"ImageView\")\n",
    "#Pkg.add(\"Images\")\n",
    "#Pkg.add(\"TestImages\")\n",
    "#Pkg.build(\"Cairo\")\n",
    "#Pkg.pin(\"Cairo\", v\"0.4.0\")\n",
    "#Pkg.update()\n",
    "#Pkg.add(\"PyPlot\")\n",
    "using ImageView, Images, PyPlot\n",
    "\n",
    "# readin matrix file\n",
    "path_X_1 = \"http://Hua-Zhou.github.io/teaching/biostatm280-2018spring/\"\n",
    "path_X_2 = \"hw/hw2/nnmf-2429-by-361-face.txt\"\n",
    "X = readdlm(download(path_X_1*path_X_2), ' ')\n",
    "\n",
    "# randomly show six face images\n",
    "# extract one row pixels to form one face image\n",
    "img1 = reshape(X[10, :], 19, 19)\n",
    "img2 = reshape(X[20, :], 19, 19)\n",
    "img3 = reshape(X[9, :], 19, 19)\n",
    "img4 = reshape(X[75, :], 19, 19)\n",
    "img5 = reshape(X[321, :], 19, 19)\n",
    "img6 = reshape(X[99, :], 19, 19)\n",
    "\n",
    "# allgn multiple plots \n",
    "subplot(231)\n",
    "PyPlot.imshow(img1)\n",
    "\n",
    "subplot(232)\n",
    "PyPlot.imshow(img2)\n",
    "\n",
    "subplot(233)\n",
    "PyPlot.imshow(img3)\n",
    "\n",
    "subplot(234)\n",
    "PyPlot.imshow(img4)\n",
    "\n",
    "subplot(235)\n",
    "PyPlot.imshow(img5)\n",
    "\n",
    "subplot(236)\n",
    "PyPlot.imshow(img6)\n",
    "    \n"
   ]
  },
  {
   "cell_type": "markdown",
   "metadata": {},
   "source": [
    "1.3 Report the run times, using `@time`, of your function for fitting NNMF on the MIT CBCL face data set at ranks $r=10, 20, 30, 40, 50$. For ease of comparison (and grading), please start your algorithm with the provided $\\mathbf{V}^{(0)}$ (first $r$ columns of [`V0.txt`](http://hua-zhou.github.io/teaching/biostatm280-2018spring/hw/hw2/V0.txt)) and $\\mathbf{W}^{(0)}$ (first $r$ rows of [`W0.txt`](http://hua-zhou.github.io/teaching/biostatm280-2018spring/hw/hw2/W0.txt)) and stopping criterion\n",
    "$$\n",
    "\t\\frac{|L^{(t+1)} - L^{(t)}|}{|L^{(t)}| + 1} \\le 10^{-4}.\n",
    "$$\n"
   ]
  },
  {
   "cell_type": "markdown",
   "metadata": {},
   "source": [
    "* ** Because the first time running code will include compile time, in the results below, all the functions ran twice with `@time`. **"
   ]
  },
  {
   "cell_type": "code",
   "execution_count": 49,
   "metadata": {},
   "outputs": [],
   "source": [
    "# readin matrix V0\n",
    "path_V0_1 = \"http://Hua-Zhou.github.io/teaching/biostatm280-\"\n",
    "path_V0_2 = \"2018spring/hw/hw2/V0.txt\"\n",
    "\n",
    "V0 = readdlm(download(path_V0_1*path_V0_2), ' ')\n",
    "\n",
    "# readin matrix W0\n",
    "path_W0_1 = \"http://Hua-Zhou.github.io/teaching/biostatm280-\"\n",
    "path_W0_2 = \"2018spring/hw/hw2/W0.txt\"\n",
    "\n",
    "W0 = readdlm(download(path_W0_1*path_W0_2), ' ')\n",
    "\n",
    "# readin matrix file\n",
    "path_X_1 = \"http://Hua-Zhou.github.io/teaching/biostatm280-2018spring/\"\n",
    "path_X_2 = \"hw/hw2/nnmf-2429-by-361-face.txt\"\n",
    "\n",
    "X = readdlm(download(path_X_1*path_X_2), ' ');"
   ]
  },
  {
   "cell_type": "markdown",
   "metadata": {},
   "source": [
    "* when Rank = 10"
   ]
  },
  {
   "cell_type": "code",
   "execution_count": 50,
   "metadata": {},
   "outputs": [
    {
     "name": "stdout",
     "output_type": "stream",
     "text": [
      "  4.908382 seconds (982 allocations: 3.136 GiB, 12.54% gc time)\n",
      "  0.077358 seconds (30 allocations: 27.188 MiB, 10.09% gc time)\n"
     ]
    }
   ],
   "source": [
    "# when r = 10\n",
    "V = V0[:, 1:10]\n",
    "W = W0[1:10, :]\n",
    "\n",
    "#@time nnmf(X, 10, maxiter = 1000, tol = 1e-4, V = V0, W = W0)\n",
    "@time L1, V1, W1 = nnmf(X, 10, maxiter = 1000, tol = 1e-4, V = V, W = W);\n",
    "@time L1, V1, W1 = nnmf(X, 10, maxiter = 1000, tol = 1e-4, V = V, W = W);\n"
   ]
  },
  {
   "cell_type": "markdown",
   "metadata": {},
   "source": [
    "* when Rank = 20"
   ]
  },
  {
   "cell_type": "code",
   "execution_count": 51,
   "metadata": {},
   "outputs": [
    {
     "name": "stdout",
     "output_type": "stream",
     "text": [
      "  8.483413 seconds (1.60 k allocations: 5.162 GiB, 9.85% gc time)\n",
      "  0.062667 seconds (30 allocations: 27.616 MiB, 22.46% gc time)\n"
     ]
    }
   ],
   "source": [
    "# when r = 20\n",
    "V = V0[:, 1:20]\n",
    "W = W0[1:20, :]\n",
    "\n",
    "@time L2, V2, W2 = nnmf(X, 20, maxiter = 1000, tol = 1e-4, V = V, W = W);\n",
    "@time L2, V2, W2 = nnmf(X, 20, maxiter = 1000, tol = 1e-4, V = V, W = W);\n"
   ]
  },
  {
   "cell_type": "markdown",
   "metadata": {},
   "source": [
    "* when Rank = 30"
   ]
  },
  {
   "cell_type": "code",
   "execution_count": 6,
   "metadata": {},
   "outputs": [
    {
     "data": {
      "text/plain": [
       "216.16966877462207"
      ]
     },
     "metadata": {},
     "output_type": "display_data"
    },
    {
     "name": "stdout",
     "output_type": "stream",
     "text": [
      " 12.410618 seconds (1.96 k allocations: 6.312 GiB, 7.84% gc time)\n",
      "  0.038009 seconds (30 allocations: 28.045 MiB, 10.60% gc time)\n"
     ]
    },
    {
     "data": {
      "text/plain": [
       "6620.970037755855"
      ]
     },
     "execution_count": 6,
     "metadata": {},
     "output_type": "execute_result"
    }
   ],
   "source": [
    "# when r = 30\n",
    "V = V0[:, 1:30]\n",
    "W = W0[1:30, :]\n",
    "\n",
    "@time L3, V3, W3 = nnmf(X, 30, maxiter = 1000, tol = 1e-4, V = V, W = W);\n",
    "@time L3, V3, W3 = nnmf(X, 30, maxiter = 1000, tol = 1e-4, V = V, W = W);\n"
   ]
  },
  {
   "cell_type": "markdown",
   "metadata": {},
   "source": [
    "* when Rank = 40"
   ]
  },
  {
   "cell_type": "code",
   "execution_count": 9,
   "metadata": {},
   "outputs": [
    {
     "data": {
      "text/plain": [
       "142.86635568547197"
      ]
     },
     "metadata": {},
     "output_type": "display_data"
    },
    {
     "name": "stdout",
     "output_type": "stream",
     "text": [
      " 16.921407 seconds (2.35 k allocations: 7.606 GiB, 6.64% gc time)\n",
      "  0.040456 seconds (30 allocations: 28.476 MiB, 10.10% gc time)\n"
     ]
    },
    {
     "data": {
      "text/plain": [
       "5256.143033035294"
      ]
     },
     "execution_count": 9,
     "metadata": {},
     "output_type": "execute_result"
    }
   ],
   "source": [
    "# when r = 40\n",
    "V = V0[:, 1:40]\n",
    "W = W0[1:40, :]\n",
    "\n",
    "@time L4, V4, W4 = nnmf(X, 40, maxiter = 1000, tol = 1e-4, V = V, W = W);\n",
    "@time L4, V4, W4 = nnmf(X, 40, maxiter = 1000, tol = 1e-4, V = V, W = W);\n"
   ]
  },
  {
   "cell_type": "markdown",
   "metadata": {},
   "source": [
    "* When Rank = 50"
   ]
  },
  {
   "cell_type": "code",
   "execution_count": 52,
   "metadata": {},
   "outputs": [
    {
     "name": "stdout",
     "output_type": "stream",
     "text": [
      " 22.567471 seconds (2.82 k allocations: 9.136 GiB, 6.79% gc time)\n",
      "  0.070430 seconds (31 allocations: 28.909 MiB, 13.66% gc time)\n"
     ]
    }
   ],
   "source": [
    "# when r = 50\n",
    "V = V0[:, 1:50]\n",
    "W = W0[1:50, :]\n",
    "\n",
    "@time L5, V5, W5 = nnmf(X, 50, maxiter = 1000, tol = 1e-4, V = V, W = W);\n",
    "@time L5, V5, W5 = nnmf(X, 50, maxiter = 1000, tol = 1e-4, V = V, W = W);"
   ]
  },
  {
   "cell_type": "markdown",
   "metadata": {},
   "source": [
    "1.4 Choose an $r∈{10,20,30,40,50}$  and start your algorithm from a different $V(0)$  and  $W(0)$ . Do you obtain the same objective value and  $(V,W)$ ? Explain what you find."
   ]
  },
  {
   "cell_type": "markdown",
   "metadata": {},
   "source": [
    "* **Choose $r = 10$**"
   ]
  },
  {
   "cell_type": "code",
   "execution_count": 39,
   "metadata": {},
   "outputs": [
    {
     "data": {
      "text/plain": [
       "11610.785163588704"
      ]
     },
     "metadata": {},
     "output_type": "display_data"
    },
    {
     "data": {
      "text/plain": [
       "11729.228557363946"
      ]
     },
     "metadata": {},
     "output_type": "display_data"
    },
    {
     "data": {
      "text/plain": [
       "44.19009954357648"
      ]
     },
     "metadata": {},
     "output_type": "display_data"
    },
    {
     "data": {
      "text/plain": [
       "10.960218593674151"
      ]
     },
     "metadata": {},
     "output_type": "display_data"
    },
    {
     "data": {
      "text/plain": [
       "60.64420821390958"
      ]
     },
     "metadata": {},
     "output_type": "display_data"
    }
   ],
   "source": [
    "V = V0[:, 40:49]\n",
    "W = W0[41:50, :]\n",
    "\n",
    "L6, V6, W6 = nnmf(X, 10, maxiter = 1000, tol = 1e-4, V = V, W = W);\n",
    "\n",
    "# compare norm\n",
    "display(L6)\n",
    "display(L1)\n",
    "\n",
    "# compare (V, W) set\n",
    "display(sqrt(sum(abs2, V1*W1 - V6*W6)))\n",
    "\n",
    "# compare V1 and V6\n",
    "display(sqrt(sum(abs2, V1 - V6)))\n",
    "\n",
    "# compare W1 and W6\n",
    "display(sqrt(sum(abs2, W1 - W6)))"
   ]
  },
  {
   "cell_type": "markdown",
   "metadata": {},
   "source": [
    "* I randomly choose 10 columns in $V0$ and 10 rows in $W0$ to get norm $L6$, approximating matrices set $(V6, W6)$, instead of using first 10 rows in $V0$ and first 10 rows in $W0$ to get norm $L1$, approximating matrices set $(V1, W1)$. After applying the `nnmf()` to the two set of starting point matrices, the Frobenius norm difference is less than 200. The Frobenius norm of the $(V, W)$ set difference (shown as the difference of the $V*W$ to compare the difference of the approximated original matrix $X$)is around 44. The Frobenius norm difference between $V1$ and $V6$ is around 10 and the Frobenius norm difference between $W1$ and $W6$ is around 60. \n",
    "* Considering the large size of the matrix, all the difference mentioned are moderate. The set of $(V, W)$ is calculated to approximate matrix $X$. Since both $(V6, W6)$ and $(V1, W1)$ are used to approximate the same matrix, the Frobenius norm difference should be close for these two set. \n",
    "* From different starting points, different solution $(V, W)$ returns. This indicates the solution of approximating $X$ by two product is not unique. However, the different solutions are close to each other. The small difference on Frobenius norm indicates, although the iterative method to approximate $X$ depends on the starting point, `nnmf()` is very robust to return similar solutions. "
   ]
  },
  {
   "cell_type": "markdown",
   "metadata": {},
   "source": [
    "1.5 For the same  $r$ , start your algorithm from  $v(0)_{ik}=w(0)_{kj}=1$  for all  $i,j,k$ . Do you obtain the same objective value and  $(V,W)$ ? Explain what you find."
   ]
  },
  {
   "cell_type": "code",
   "execution_count": 37,
   "metadata": {},
   "outputs": [
    {
     "data": {
      "text/plain": [
       "25297.016511081845"
      ]
     },
     "metadata": {},
     "output_type": "display_data"
    },
    {
     "data": {
      "text/plain": [
       "11729.228557363946"
      ]
     },
     "metadata": {},
     "output_type": "display_data"
    },
    {
     "data": {
      "text/plain": [
       "108.46176768891634"
      ]
     },
     "metadata": {},
     "output_type": "display_data"
    },
    {
     "data": {
      "text/plain": [
       "8.641657001427083"
      ]
     },
     "metadata": {},
     "output_type": "display_data"
    },
    {
     "data": {
      "text/plain": [
       "52.754838138632394"
      ]
     },
     "metadata": {},
     "output_type": "display_data"
    }
   ],
   "source": [
    "# set matrices with elements 1\n",
    "V = ones(2429, 10)\n",
    "W = ones(10, 361)\n",
    "\n",
    "L7, V7, W7 = nnmf(X, 10, maxiter = 1000, tol = 1e-4, V = V, W = W);\n",
    "\n",
    "# compare norm\n",
    "display(L7)\n",
    "display(L1)\n",
    "\n",
    "# compare (V, W) set\n",
    "display(sqrt(sum(abs2, V1*W1 - V7*W7)))\n",
    "\n",
    "# compare V1 and V7\n",
    "display(sqrt(sum(abs2, V1 - V7)))\n",
    "\n",
    "# compare W1 and W7\n",
    "display(sqrt(sum(abs2, W1 - W7)))"
   ]
  },
  {
   "cell_type": "markdown",
   "metadata": {},
   "source": [
    "* WIth the starting matrices with all 1 entries, the Frobenius norm difference is much larger than in part 4. The $V*W$ product difference is around 100, also larger than results in part 4. However, the performance on $V$s and $W$s comparision is similar with the results in part 4. In part 4, the starting points are from the same matrices, and have similar range for each entry. Also, the elements are far less than 1, which are closer to elements in $X$ (Each image (row) is scaled to have mean and standard deviation 0.25.). But here, all the entries are 1, which are 3 standard deviation away from the mean of elements in X. Thus, this initial guess is not as good as in part 4, leading to the large discrepency in norm. \n",
    "* The small difference on Frobenius norm further indicates, although the iterative method to approximate $X$ depends on the starting point, `nnmf()` is very robust to return similar solutions. "
   ]
  },
  {
   "cell_type": "markdown",
   "metadata": {},
   "source": [
    "1.6 Plot the basis images (rows of  $W$ ) at rank  $r=50$ . What do you find?"
   ]
  },
  {
   "cell_type": "code",
   "execution_count": 45,
   "metadata": {},
   "outputs": [
    {
     "data": {
      "image/png": "[encoded data removed]",
      "text/plain": [
       "PyPlot.Figure(PyObject <matplotlib.figure.Figure object at 0x0000000041C92438>)"
      ]
     },
     "metadata": {},
     "output_type": "display_data"
    }
   ],
   "source": [
    "for i in 1:50\n",
    "    subplot(8,8,i)\n",
    "    # extract one row pixels in Wto form one face image\n",
    "    img = reshape(W5[i, :], 19, 19)\n",
    "    PyPlot.imshow(img, cmap = \"gray\")\n",
    "end  \n"
   ]
  },
  {
   "cell_type": "markdown",
   "metadata": {},
   "source": [
    "* The images of the rows in W(rank = 50)shows the parts of the faces."
   ]
  },
  {
   "cell_type": "markdown",
   "metadata": {},
   "source": [
    "### Question 2 Linear Mixed Models\n",
    "\n",
    "Consider a linear mixed effects model\n",
    "$$\n",
    "\ty_i = \\mathbf{x}_i^T \\beta + \\mathbf{z}_i^T \\gamma + \\epsilon_i, \\quad i=1,\\ldots,n,\n",
    "$$\n",
    "where $\\epsilon_i$ are independent normal errors $N(0,\\sigma_0^2)$, $\\beta \\in \\mathbb{R}^p$ are fixed effects, and $\\gamma \\in \\mathbb{R}^q$ are random effects assumed to be $N(\\mathbf{0}_q, \\sigma_1^2 \\mathbf{I}_q$) independent of $\\epsilon_i$. \n",
    "\n",
    "2.1 Show that \n",
    "$$\n",
    "    \\mathbf{y} \\sim N \\left( \\mathbf{X} \\beta, \\sigma_0^2 \\mathbf{I}_n + \\sigma_1^2 \\mathbf{Z} \\mathbf{Z}^T \\right),\n",
    "$$\n",
    "where $\\mathbf{y} = (y_1, \\ldots, y_n)^T \\in \\mathbb{R}^n$, $\\mathbf{X} = (\\mathbf{x}_1, \\ldots, \\mathbf{x}_n)^T \\in \\mathbb{R}^{n \\times p}$, and $\\mathbf{Z} = (\\mathbf{z}_1, \\ldots, \\mathbf{z}_n)^T \\in \\mathbb{R}^{n \\times q}$. "
   ]
  },
  {
   "cell_type": "markdown",
   "metadata": {},
   "source": [
    "$$\n",
    "\\begin{align}\n",
    "\\because \\mathbf{y} = \\mathbf{X} \\beta + \\mathbf{Z} \\gamma + \\epsilon \\\\\n",
    "\\mathbf{\\epsilon} \\sim N(\\mathbf{0}_n,\\sigma_0^2 \\mathbf{I}_n) \\\\\n",
    "\\gamma \\sim N(\\mathbf{0}_q, \\sigma_1^2 \\mathbf{I}_q) \\\\\n",
    "\\epsilon \\perp \\gamma \\\\\n",
    "\\end{align}\n",
    "$$  \n",
    "\n",
    "$$\n",
    "\\begin{align}\n",
    "\\therefore\n",
    "E(\\mathbf{y}) &= E(\\mathbf{X} \\beta + \\mathbf{Z} \\gamma + \\mathbf{\\epsilon})\\\\\n",
    "&= E(\\mathbf{X} \\beta) + E(\\mathbf{Z} \\gamma) + E(\\mathbf{\\epsilon}) \\\\\n",
    "&= \\mathbf{X} \\beta + \\mathbf{Z} E(\\gamma) + \\mathbf{0} \\\\\n",
    "&= \\mathbf{X} \\beta + \\mathbf{0} + \\mathbf{0} \\\\\n",
    "&= \\mathbf{X} \\beta\n",
    "\\end{align}\n",
    "$$\n",
    "\n",
    "$$\n",
    "\\begin{align}\n",
    "Var(\\mathbf{y}) &= Var(\\mathbf{X} \\beta + \\mathbf{Z} \\gamma + \\epsilon) \\\\\n",
    "&= Var(\\mathbf{X} \\beta) + Var(\\mathbf{Z} \\gamma) + Var(\\epsilon) \\\\\n",
    "&= \\mathbf{0}+ Var(\\mathbf{Z} \\gamma) + Var(\\epsilon) \\\\\n",
    "&= \\mathbf{Z} Var(\\gamma) \\mathbf{Z}^T + \\sigma_0^2 \\mathbf{I}_n\\\\\n",
    "&= \\mathbf{Z} \\sigma_1^2 \\mathbf{I}_q \\mathbf{Z}^T + \\sigma_0^2 \\mathbf{I}_n\\\\\n",
    "&= \\sigma_1^2 \\mathbf{Z} \\mathbf{Z}^T + \\sigma_0^2 \\mathbf{I}_n\n",
    "\\end{align}\n",
    "$$\n",
    "\n",
    "Therefore $\\mathbf{y} \\sim N \\left( \\mathbf{X} \\beta, \\sigma_0^2 \\mathbf{I}_n + \\sigma_1^2 \\mathbf{Z} \\mathbf{Z}^T \\right)$"
   ]
  },
  {
   "cell_type": "markdown",
   "metadata": {},
   "source": [
    "2.  Write a function, with interface \n",
    "    ```julia\n",
    "    logpdf_mvn(y::Vector, Z::Matrix, σ0::Number, σ1::Number),\n",
    "    ```\n",
    "that evaluates the log-density of a multivariate normal with mean $\\mathbf{0}$ and covariance $\\sigma_0^2 \\mathbf{I} + \\sigma_1^2 \\mathbf{Z} \\mathbf{Z}^T$ at $\\mathbf{y}$. Make your code efficient in the $n \\gg q$ case. "
   ]
  },
  {
   "cell_type": "markdown",
   "metadata": {},
   "source": [
    "With determinant identity and Woodnury formula,\n",
    "$$\n",
    "\\begin{align}\n",
    "det\\Sigma =& det(\\sigma_0^2 \\mathbf{I} + \\sigma_1^2 \\mathbf{Z} \\mathbf{Z}^T)\\\\\n",
    "= & det(\\sigma_0^2 \\mathbf{I})  *det(\\mathbf{I}+\\sigma_1^2\\mathbf{Z}^T\\mathbf{I}^{-1}\\mathbf{Z})\\\\\n",
    "= & \\sigma_0^{2n} * det((\\mathbf{I}+\\frac{\\sigma_1^2}{\\sigma_0^2}\\mathbf{Z}^T\\mathbf{Z})\n",
    "\\end{align}\n",
    "$$\n",
    "\n",
    "$$\n",
    "\\begin{align}\n",
    "\\Sigma^{-1} =& (\\sigma_0^2 \\mathbf{I} + \\sigma_1^2 \\mathbf{Z} \\mathbf{Z}^T)^{-1}\\\\\n",
    "=& (\\sigma_0^2 \\mathbf{I})^{-1}-(\\sigma_0^2 \\mathbf{I})^{-1}\\sigma_1^2\\mathbf{Z}(I+\\mathbf{Z}^T(\\sigma_0^2 \\mathbf{I})^{-1}\\mathbf{Z})^{-1}\\mathbf{Z}^T(\\sigma_0^2 \\mathbf{I})^{-1}\\\\\n",
    "=&\\frac{1}{\\sigma_0^2}\\mathbf{I}-\\frac{\\sigma_1^2}{\\sigma_0^4}\\mathbf{Z}(I+\\frac{\\sigma_1^2}{\\sigma_0^2}\\mathbf{Z}^T\\mathbf{Z})^{-1}\\mathbf{Z}^T\n",
    "\\end{align}\n",
    "$$\n"
   ]
  },
  {
   "cell_type": "code",
   "execution_count": 113,
   "metadata": {},
   "outputs": [
    {
     "data": {
      "text/plain": [
       "logpdf_mvn_3 (generic function with 1 method)"
      ]
     },
     "execution_count": 113,
     "metadata": {},
     "output_type": "execute_result"
    }
   ],
   "source": [
    "function logpdf_mvn_3(\n",
    " y::Vector,\n",
    " Z::Matrix,\n",
    " σ0::Number,\n",
    " σ1::Number\n",
    ") \n",
    "    n = length(y)\n",
    "    # using Cholesky decomposition  Σ\n",
    "    Σchol = cholfact(Symmetric(I + σ1^2 / σ0^2 * Z'Z))\n",
    "    \n",
    "    # logdetΣ\n",
    "    logdetΣ = 2 * n * log(σ0) + logdet(Σchol)\n",
    "\n",
    "    # log density\n",
    "    - (n / 2) * log(2π) - (1 / 2) * logdetΣ - 1 / (2 * σ0^2) * dot(y, y) + \n",
    "    1/2 * sum(abs2, Σchol[:L]\\((Z'y) * (σ1 / σ0^2)))\n",
    "end\n",
    "   \n",
    "\n"
   ]
  },
  {
   "cell_type": "markdown",
   "metadata": {},
   "source": [
    "2. Compare your result (both accuracy and timing) to the [Distributions.jl](http://distributionsjl.readthedocs.io/en/latest/multivariate.html#multivariate-normal-distribution) package using following data.  \n",
    "    ```julia\n",
    "    using BenchmarkTools, Distributions\n",
    "\n",
    "    srand(280)\n",
    "    n, q = 2000, 10\n",
    "    Z = randn(n, q)\n",
    "    σ0, σ1 = 0.5, 2.0\n",
    "    Σ = σ1^2 * Z * Z.' + σ0^2 * I\n",
    "    mvn = MvNormal(Σ) # MVN(0, Σ)\n",
    "    y = rand(mvn) # generate one instance from MNV(0, Σ)\n",
    "\n",
    "    # check you answer matches that from Distributions.jl\n",
    "    @show logpdf_mvn(y, Z, σ0, σ1)\n",
    "    @show logpdf(mvn, y)\n",
    "\n",
    "    # benchmark\n",
    "    @benchmark logpdf_mvn(y, Z, σ0, σ1)\n",
    "    @benchmark logpdf(mvn, y)\n",
    "    ```"
   ]
  },
  {
   "cell_type": "code",
   "execution_count": 117,
   "metadata": {},
   "outputs": [
    {
     "data": {
      "text/plain": [
       "-1571.573673465493"
      ]
     },
     "metadata": {},
     "output_type": "display_data"
    },
    {
     "data": {
      "text/plain": [
       "-1571.5736734654135"
      ]
     },
     "metadata": {},
     "output_type": "display_data"
    },
    {
     "data": {
      "text/plain": [
       "BenchmarkTools.Trial: \n",
       "  memory estimate:  5.05 KiB\n",
       "  allocs estimate:  17\n",
       "  --------------\n",
       "  minimum time:     50.051 μs (0.00% GC)\n",
       "  median time:      55.795 μs (0.00% GC)\n",
       "  mean time:        60.342 μs (0.43% GC)\n",
       "  maximum time:     1.426 ms (92.15% GC)\n",
       "  --------------\n",
       "  samples:          10000\n",
       "  evals/sample:     1"
      ]
     },
     "metadata": {},
     "output_type": "display_data"
    },
    {
     "data": {
      "text/plain": [
       "BenchmarkTools.Trial: \n",
       "  memory estimate:  15.78 KiB\n",
       "  allocs estimate:  3\n",
       "  --------------\n",
       "  minimum time:     3.592 ms (0.00% GC)\n",
       "  median time:      4.231 ms (0.00% GC)\n",
       "  mean time:        4.432 ms (0.00% GC)\n",
       "  maximum time:     25.654 ms (0.00% GC)\n",
       "  --------------\n",
       "  samples:          1125\n",
       "  evals/sample:     1"
      ]
     },
     "metadata": {},
     "output_type": "display_data"
    }
   ],
   "source": [
    "#Pkg.add(\"Distribution\")\n",
    "using Distributions, BenchmarkTools\n",
    "    srand(280)\n",
    "    n, q = 2000, 10\n",
    "    Z = randn(n, q)\n",
    "    σ0, σ1 = 0.5, 2.0\n",
    "    Σ = σ1^2 * Z * Z' + σ0^2 * I\n",
    "    mvn = MvNormal(Σ) # MVN(0, Σ)\n",
    "    y = rand(mvn) # generate one instance from MNV(0, Σ)\n",
    "\n",
    "    # check you answer matches that from Distributions.jl\n",
    "    display(logpdf_mvn_3(y, Z, σ0, σ1))\n",
    "    display(logpdf(mvn, y))\n",
    "\n",
    "    # benchmark\n",
    "    display(@benchmark logpdf_mvn_3(y, Z, σ0, σ1))\n",
    "    display(@benchmark logpdf(mvn, y))"
   ]
  },
  {
   "cell_type": "markdown",
   "metadata": {},
   "source": [
    "* The new method is much faster the function provided by Distribution package and the accuracy is the same to 10th decimal places."
   ]
  }
 ],
 "metadata": {
  "kernelspec": {
   "display_name": "Julia 0.6.2",
   "language": "julia",
   "name": "julia-0.6"
  },
  "language_info": {
   "file_extension": ".jl",
   "mimetype": "application/julia",
   "name": "julia",
   "version": "0.6.2"
  }
 },
 "nbformat": 4,
 "nbformat_minor": 2
}
