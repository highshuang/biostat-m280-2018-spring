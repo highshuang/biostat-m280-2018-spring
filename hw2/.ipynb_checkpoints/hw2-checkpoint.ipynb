{
 "cells": [
  {
   "cell_type": "markdown",
   "metadata": {},
   "source": [
    "# M280 Homework 2\n",
    "* Author: Shuang Gao\n",
    "* Date: 2018/05/02"
   ]
  },
  {
   "cell_type": "markdown",
   "metadata": {},
   "source": [
    "## Question 1"
   ]
  },
  {
   "cell_type": "markdown",
   "metadata": {},
   "source": [
    "1.1 Implement the algorithm with arguments:  $X$  (data, each row is a vectorized image), rank  $r$ , convergence tolerance, and optional starting point."
   ]
  },
  {
   "cell_type": "code",
   "execution_count": 191,
   "metadata": {},
   "outputs": [
    {
     "data": {
      "text/plain": [
       "nnmf (generic function with 2 methods)"
      ]
     },
     "execution_count": 191,
     "metadata": {},
     "output_type": "execute_result"
    }
   ],
   "source": [
    "function nnmf(\n",
    " X::Matrix{T}, \n",
    " r::Int;\n",
    " maxiter::Int = 1000, \n",
    " tol::T = 1e-4,\n",
    " V::Matrix{T} = rand(T, size(X, 1), r),\n",
    " W::Matrix{T} = rand(T, r, size(X, 2))\n",
    " )  where T <: AbstractFloat\n",
    "\n",
    "    # store V*W\n",
    "    mul_VW = zeros(size(X))\n",
    "    \n",
    "    # initialize the denomenator and numerator for V update\n",
    "    denomenator_V = zeros(size(V))\n",
    "    numerator_V = zeros(size(V))\n",
    "    \n",
    "    # initialize the denomenator and numerator for W update\n",
    "    denomenator_W = zeros(size(W))\n",
    "    numerator_W = zeros(size(W))\n",
    "    \n",
    "    # initialize the matrix to store r by r matrix\n",
    "    out_rr = zeros(r, r)\n",
    "    \n",
    "    # store the initial norm L\n",
    "    # norm() is default to be Frobenius norm\n",
    "    L = sum(abs2, X - A_mul_B!(mul_VW, V, W))\n",
    "    \n",
    "    for t in 1:maxiter # stop after 1000 iterations        \n",
    "        # update v \n",
    "        # denomenator_V = V * W * W'\n",
    "        # numerator_V = X * W' \n",
    "        V .= V .* (A_mul_Bt!(numerator_V, X, W) ./ A_mul_B!(denomenator_V, V, A_mul_Bt!(out_rr, W, W)))\n",
    "        \n",
    "        # update denomenator \n",
    "        # denomenator_W = V' * V * W\n",
    "        # numerator_W = V' * X \n",
    "    \n",
    "        # update W \n",
    "        W .= W .* At_mul_B!(numerator_W, V, X) ./ A_mul_B!(denomenator_W, At_mul_B!(out_rr, V, V), W)  \n",
    "        \n",
    "        if (sum(abs2, X - A_mul_B!(mul_VW, V, W)) - L) / (L + 1) < tol\n",
    "            break\n",
    "        end\n",
    "        # update norm \n",
    "        L = sum(abs2, X - A_mul_B!(mul_VW, V, W))\n",
    "    end  \n",
    "    \n",
    "    # Output\n",
    "    return L, V, W\n",
    "end\n",
    "    \n",
    "    "
   ]
  },
  {
   "cell_type": "markdown",
   "metadata": {},
   "source": [
    "1.2 Database 1 from the MIT Center for Biological and Computational Learning (CBCL) reduces to a matrix  $X$  containing  $m=2,429$  gray-scale face images with  $n=19×19=361$  pixels per face. Each image (row) is scaled to have mean and standard deviation 0.25.\n",
    "Read in the nnmf-2429-by-361-face.txt file, e.g., using readdlm() function, and display a couple sample images, e.g., using ImageView.jl package."
   ]
  },
  {
   "cell_type": "code",
   "execution_count": 3,
   "metadata": {},
   "outputs": [
    {
     "name": "stderr",
     "output_type": "stream",
     "text": [
      "\u001b[1m\u001b[36mINFO: \u001b[39m\u001b[22m\u001b[36mPackage Cairo is already pinned to the selected commit\n",
      "\u001b[39m"
     ]
    },
    {
     "data": {
      "text/plain": [
       "Dict{String,Any} with 4 entries:\n",
       "  \"gui\"         => Dict{String,Any}(Pair{String,Any}(\"window\", Gtk.GtkWindowLea…\n",
       "  \"roi\"         => Dict{String,Any}(Pair{String,Any}(\"redraw\", 145: \"map(clim-m…\n",
       "  \"annotations\" => 111: \"input-38\" = Dict{UInt64,Any}() Dict{UInt64,Any} \n",
       "  \"clim\"        => 110: \"CLim\" = ImageView.CLim{Float64}(0.0, 0.93656) ImageVie…"
      ]
     },
     "execution_count": 3,
     "metadata": {},
     "output_type": "execute_result"
    },
    {
     "name": "stderr",
     "output_type": "stream",
     "text": [
      "\u001b[1m\u001b[33mWARNING: \u001b[39m\u001b[22m\u001b[33mError in @guarded callback\u001b[39m\n",
      "\u001b[1m\u001b[91mERROR: \u001b[39m\u001b[22m\u001b[91mCairo.CairoContext must implement reset_transform\u001b[39m\n"
     ]
    }
   ],
   "source": [
    "# add package for visulizating image\n",
    "#Pkg.add(\"ImageView\")\n",
    "#Pkg.add(\"Images\")\n",
    "#Pkg.add(\"TestImages\")\n",
    "#Pkg.build(\"Cairo\")\n",
    "Pkg.pin(\"Cairo\", v\"0.4.0\")\n",
    "#Pkg.update()\n",
    "using ImageView, Images\n",
    "\n",
    "# readin matrix file\n",
    "path_X = \"http://Hua-Zhou.github.io/teaching/biostatm280-2018spring/hw/hw2/nnmf-2429-by-361-face.txt\"\n",
    "\n",
    "X = readdlm(download(path_X), ' ')\n",
    "\n",
    "# show first three face images\n",
    "for i in 1:3\n",
    "    # extract one row pixels to form one face image\n",
    "    img = reshape(X[i, :], 19, 19)\n",
    "    imshow(img)\n",
    "end\n",
    "    \n"
   ]
  },
  {
   "cell_type": "markdown",
   "metadata": {},
   "source": [
    "1.3 Report the run times, using `@time`, of your function for fitting NNMF on the MIT CBCL face data set at ranks $r=10, 20, 30, 40, 50$. For ease of comparison (and grading), please start your algorithm with the provided $\\mathbf{V}^{(0)}$ (first $r$ columns of [`V0.txt`](http://hua-zhou.github.io/teaching/biostatm280-2018spring/hw/hw2/V0.txt)) and $\\mathbf{W}^{(0)}$ (first $r$ rows of [`W0.txt`](http://hua-zhou.github.io/teaching/biostatm280-2018spring/hw/hw2/W0.txt)) and stopping criterion\n",
    "$$\n",
    "\t\\frac{|L^{(t+1)} - L^{(t)}|}{|L^{(t)}| + 1} \\le 10^{-4}.\n",
    "$$\n"
   ]
  },
  {
   "cell_type": "code",
   "execution_count": 231,
   "metadata": {},
   "outputs": [],
   "source": [
    "# readin matrix V0\n",
    "path_V0 = \"http://Hua-Zhou.github.io/teaching/biostatm280-2018spring/hw/hw2/V0.txt\"\n",
    "V0 = readdlm(download(path_V0), ' ')\n",
    "\n",
    "# readin matrix W0\n",
    "path_W0 = \"http://Hua-Zhou.github.io/teaching/biostatm280-2018spring/hw/hw2/W0.txt\"\n",
    "W0 = readdlm(download(path_W0), ' ');"
   ]
  },
  {
   "cell_type": "code",
   "execution_count": 232,
   "metadata": {},
   "outputs": [
    {
     "name": "stdout",
     "output_type": "stream",
     "text": [
      "  0.023588 seconds (28 allocations: 20.498 MiB, 15.56% gc time)\n"
     ]
    },
    {
     "data": {
      "text/plain": [
       "4373.222942555233"
      ]
     },
     "metadata": {},
     "output_type": "display_data"
    },
    {
     "name": "stdout",
     "output_type": "stream",
     "text": [
      "  0.020758 seconds (28 allocations: 20.498 MiB, 14.37% gc time)\n"
     ]
    },
    {
     "data": {
      "text/plain": [
       "25984.087469554805"
      ]
     },
     "execution_count": 232,
     "metadata": {},
     "output_type": "execute_result"
    }
   ],
   "source": [
    "# when r = 10\n",
    "V = V0[:, 1:10]\n",
    "W = W0[1:10, :]\n",
    "\n",
    "#@time nnmf(X, 10, maxiter = 1000, tol = 1e-4, V = V0, W = W0)\n",
    "@time L1, V1, W1 = nnmf(X, 10, maxiter = 1000, tol = 1e-4, V = V, W = W);\n",
    "@time L1, V1, W1 = nnmf(X, 10, maxiter = 1000, tol = 1e-4, V = V, W = W);\n",
    "display(norm(X -V1*W1)^2)\n",
    "sum(abs2, X - V1*W1)"
   ]
  },
  {
   "cell_type": "code",
   "execution_count": 224,
   "metadata": {},
   "outputs": [
    {
     "name": "stdout",
     "output_type": "stream",
     "text": [
      "  0.026094 seconds (28 allocations: 20.926 MiB, 7.92% gc time)\n",
      "  0.019562 seconds (28 allocations: 20.926 MiB)\n"
     ]
    },
    {
     "data": {
      "text/plain": [
       "(25972.978219913504, [0.026235 0.00840296 … 0.000773278 0.0166631; 0.0172162 0.0369199 … 0.0237215 0.0540669; … ; 0.0442507 0.03454 … 0.0247681 0.0445606; 0.0647005 0.0572303 … 0.0169553 0.0167893], [0.217152 0.143706 … 0.0853306 0.0802639; 0.264248 0.117936 … 0.199054 0.22674; … ; 0.296288 0.022844 … 0.177512 0.0583022; 0.0948447 0.340494 … 0.528967 0.496611])"
      ]
     },
     "execution_count": 224,
     "metadata": {},
     "output_type": "execute_result"
    }
   ],
   "source": [
    "# when r = 20\n",
    "V = V0[:, 1:20]\n",
    "W = W0[1:20, :]\n",
    "\n",
    "@time L2, V2, W2 = nnmf(X, 20, maxiter = 1000, tol = 1e-4, V = V, W = W);\n",
    "@time L2, V2, W2 = nnmf(X, 20, maxiter = 1000, tol = 1e-4, V = V, W = W);"
   ]
  },
  {
   "cell_type": "code",
   "execution_count": 225,
   "metadata": {},
   "outputs": [
    {
     "name": "stdout",
     "output_type": "stream",
     "text": [
      "  0.023951 seconds (30 allocations: 21.355 MiB)\n",
      "  0.026132 seconds (28 allocations: 21.355 MiB, 10.53% gc time)\n"
     ]
    },
    {
     "data": {
      "text/plain": [
       "(25814.48855301628, [0.0145679 0.00461891 … 0.0161403 0.0171608; 0.00972804 0.0212213 … 0.0361668 0.0274302; … ; 0.0338241 0.0262808 … 0.0108637 0.00929017; 0.0425496 0.037601 … 0.009469 0.0261076], [0.201701 0.138523 … 0.0782096 0.0715622; 0.247924 0.113551 … 0.18437 0.204461; … ; 0.203624 0.323004 … 0.433071 0.352977; 0.101783 0.396704 … 0.0257833 0.308873])"
      ]
     },
     "execution_count": 225,
     "metadata": {},
     "output_type": "execute_result"
    }
   ],
   "source": [
    "# when r = 30\n",
    "V = V0[:, 1:30]\n",
    "W = W0[1:30, :]\n",
    "\n",
    "@time L3, V3, W3 = nnmf(X, 30, maxiter = 1000, tol = 1e-4, V = V, W = W);\n",
    "@time L3, V3, W3 = nnmf(X, 30, maxiter = 1000, tol = 1e-4, V = V, W = W);"
   ]
  },
  {
   "cell_type": "code",
   "execution_count": 226,
   "metadata": {},
   "outputs": [
    {
     "name": "stdout",
     "output_type": "stream",
     "text": [
      "  0.036453 seconds (30 allocations: 21.786 MiB, 8.83% gc time)\n",
      "  0.037870 seconds (28 allocations: 21.786 MiB, 9.35% gc time)\n"
     ]
    },
    {
     "data": {
      "text/plain": [
       "(25741.1476501773, [0.0103469 0.00329137 … 0.0182347 0.0150921; 0.00650711 0.0143488 … 0.0151821 0.0195918; … ; 0.024719 0.0191942 … 0.0230535 0.0237375; 0.0312498 0.0276981 … 0.0248688 0.0178634], [0.201975 0.146122 … 0.0749296 0.067184; 0.24913 0.11991 … 0.177454 0.192579; … ; 0.114866 0.193995 … 0.300217 0.321304; 0.350474 0.354001 … 0.174428 0.349087])"
      ]
     },
     "execution_count": 226,
     "metadata": {},
     "output_type": "execute_result"
    }
   ],
   "source": [
    "# when r = 40\n",
    "V = V0[:, 1:40]\n",
    "W = W0[1:40, :]\n",
    "\n",
    "@time L4, V4, W4 = nnmf(X, 40, maxiter = 1000, tol = 1e-4, V = V, W = W);\n",
    "@time L4, V4, W4 = nnmf(X, 40, maxiter = 1000, tol = 1e-4, V = V, W = W);"
   ]
  },
  {
   "cell_type": "code",
   "execution_count": 227,
   "metadata": {},
   "outputs": [
    {
     "name": "stdout",
     "output_type": "stream",
     "text": [
      "  0.042476 seconds (31 allocations: 22.219 MiB, 5.50% gc time)\n",
      "  0.034823 seconds (29 allocations: 22.219 MiB, 7.96% gc time)\n"
     ]
    },
    {
     "data": {
      "text/plain": [
       "(25695.410456671187, [0.00821825 0.00261463 … 0.0020364 0.00530706; 0.00527247 0.0116847 … 0.0108773 0.0114925; … ; 0.0204536 0.0158467 … 0.000357354 0.015003; 0.0264848 0.0234965 … 0.0129759 0.0188127], [0.204076 0.145368 … 0.0760536 0.0677729; 0.253038 0.119716 … 0.180403 0.194996; … ; 0.193366 0.0721458 … 0.0259301 0.022218; 0.0102262 0.37407 … 0.0837782 0.325932])"
      ]
     },
     "execution_count": 227,
     "metadata": {},
     "output_type": "execute_result"
    }
   ],
   "source": [
    "# when r = 50\n",
    "V = V0[:, 1:50]\n",
    "W = W0[1:50, :]\n",
    "\n",
    "@time L5, V5, W5 = nnmf(X, 50, maxiter = 1000, tol = 1e-4, V = V, W = W);\n",
    "@time L5, V5, W5 = nnmf(X, 50, maxiter = 1000, tol = 1e-4, V = V, W = W);\n"
   ]
  },
  {
   "cell_type": "markdown",
   "metadata": {},
   "source": [
    "1.4 Choose an $r∈{10,20,30,40,50}$  and start your algorithm from a different $V(0)$  and  $W(0)$ . Do you obtain the same objective value and  $(V,W)$ ? Explain what you find."
   ]
  },
  {
   "cell_type": "markdown",
   "metadata": {},
   "source": [
    "* **Choose $r = 10$**"
   ]
  },
  {
   "cell_type": "code",
   "execution_count": 230,
   "metadata": {},
   "outputs": [
    {
     "data": {
      "text/plain": [
       "4.920191925301103e6"
      ]
     },
     "metadata": {},
     "output_type": "display_data"
    }
   ],
   "source": [
    "V = V0[:, 41:50]\n",
    "W = W0[41:50, :]\n",
    "\n",
    "L6, M6, N6 = nnmf(X, 10, maxiter = 1000, tol = 1e-4, V = V, W = W);\n",
    "display(L6)\n"
   ]
  },
  {
   "cell_type": "markdown",
   "metadata": {},
   "source": [
    "1.5 For the same  $r$ , start your algorithm from  $v(0)_{ik}=w(0)_{kj}=1$  for all  $i,j,k$ . Do you obtain the same objective value and  $(V,W)$ ? Explain what you find."
   ]
  },
  {
   "cell_type": "code",
   "execution_count": null,
   "metadata": {},
   "outputs": [],
   "source": [
    "V = ones(2429, 10)\n",
    "W = ones(10, 361)\n",
    "L7, M7, N7 = nnmf(X, 10, maxiter = 1000, tol = 1e-4, V = V, W = W)"
   ]
  },
  {
   "cell_type": "markdown",
   "metadata": {},
   "source": [
    "1.6 Plot the basis images (rows of  $W$ ) at rank  $r=50$ . What do you find?"
   ]
  },
  {
   "cell_type": "code",
   "execution_count": null,
   "metadata": {},
   "outputs": [],
   "source": [
    "for i in 1:50\n",
    "    # extract one row pixels in Wto form one face image\n",
    "    img = reshape(W[i, :], 19, 19)\n",
    "    imshow(img)\n",
    "end   "
   ]
  },
  {
   "cell_type": "code",
   "execution_count": 173,
   "metadata": {},
   "outputs": [
    {
     "data": {
      "text/plain": [
       "24.0"
      ]
     },
     "execution_count": 173,
     "metadata": {},
     "output_type": "execute_result"
    }
   ],
   "source": [
    "A = ones(2,3)*2\n",
    "sum(abs2, A)"
   ]
  },
  {
   "cell_type": "markdown",
   "metadata": {},
   "source": [
    "### Question 2 Linear Mixed Models\n",
    "Consider a linear mixed effects model $yi=xTiβ+zTiγ+ϵi,i=1,…,n,$\n",
    "where  $ϵi$  are independent normal errors  $N(0,σ20)$,  $β∈R_{p}$  are fixed effects, and  $γ∈R_{q}$  are random effects assumed to be  $N(0_{q},σ21Iq )$ independent of  $ϵi$ ."
   ]
  },
  {
   "cell_type": "markdown",
   "metadata": {},
   "source": [
    "2.1 "
   ]
  }
 ],
 "metadata": {
  "kernelspec": {
   "display_name": "Julia 0.6.2",
   "language": "julia",
   "name": "julia-0.6"
  },
  "language_info": {
   "file_extension": ".jl",
   "mimetype": "application/julia",
   "name": "julia",
   "version": "0.6.2"
  }
 },
 "nbformat": 4,
 "nbformat_minor": 2
}
