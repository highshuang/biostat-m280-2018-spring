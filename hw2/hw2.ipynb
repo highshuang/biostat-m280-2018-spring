{
 "cells": [
  {
   "cell_type": "markdown",
   "metadata": {},
   "source": [
    "Question 1"
   ]
  },
  {
   "cell_type": "markdown",
   "metadata": {},
   "source": [
    "1.1 Implement the algorithm with arguments:  $X$  (data, each row is a vectorized image), rank  $r$ , convergence tolerance, and optional starting point."
   ]
  },
  {
   "cell_type": "code",
   "execution_count": null,
   "metadata": {},
   "outputs": [],
   "source": [
    "function nnmf(\n",
    " X::Matrix, \n",
    " r::Int;\n",
    " maxiter::Int=1000, \n",
    " tol::eltype(X)=1e-4,\n",
    " V::Matrix{eltype(X)}=rand(size(X, 1), r),\n",
    " W::Matrix{eltype(X)}=rand(r, size(X, 2))\n",
    " )  \n",
    "    # implementation\n",
    "    for i in 1:1000 # stop after 1000 iterations\n",
    "    # update v by row\n",
    "        \n",
    "        \n",
    "    end\n",
    "    \n",
    "    # Output\n",
    "    return V, W\n",
    "    end\n",
    "\n",
    "\n",
    "    \n",
    "    "
   ]
  },
  {
   "cell_type": "code",
   "execution_count": null,
   "metadata": {},
   "outputs": [],
   "source": []
  }
 ],
 "metadata": {
  "kernelspec": {
   "display_name": "Julia 0.6.2",
   "language": "julia",
   "name": "julia-0.6"
  },
  "language_info": {
   "file_extension": ".jl",
   "mimetype": "application/julia",
   "name": "julia",
   "version": "0.6.2"
  }
 },
 "nbformat": 4,
 "nbformat_minor": 2
}
