{
 "cells": [
  {
   "cell_type": "markdown",
   "metadata": {},
   "source": [
    "# M280 Homework 2\n",
    "* Author: Shuang Gao\n",
    "* Date: 2018/05/02"
   ]
  },
  {
   "cell_type": "markdown",
   "metadata": {},
   "source": [
    "## Question 1"
   ]
  },
  {
   "cell_type": "markdown",
   "metadata": {},
   "source": [
    "1.1 Implement the algorithm with arguments:  $X$  (data, each row is a vectorized image), rank  $r$ , convergence tolerance, and optional starting point."
   ]
  },
  {
   "cell_type": "code",
   "execution_count": 180,
   "metadata": {},
   "outputs": [
    {
     "data": {
      "text/plain": [
       "nnmf (generic function with 2 methods)"
      ]
     },
     "execution_count": 180,
     "metadata": {},
     "output_type": "execute_result"
    }
   ],
   "source": [
    "function nnmf(\n",
    " X::Matrix{T}, \n",
    " r::Int;\n",
    " maxiter::Int = 1000, \n",
    " tol::T = 1e-4,\n",
    " V::Matrix{T} = rand(T, size(X, 1), r),\n",
    " W::Matrix{T} = rand(T, r, size(X, 2))\n",
    " )  where T <: AbstractFloat\n",
    "\n",
    "    # store V*W\n",
    "    mul_VW = zeros(size(X))\n",
    "    \n",
    "    # initialize the denomenator for V update\n",
    "    denomenator_V = zeros(size(X, 1), r)\n",
    "    numerator_V = zeros(size(X, 1), r)\n",
    "    \n",
    "    denomenator_W = zeros(r, size(X, 2))\n",
    "    numerator_W = zeros(r, size(X, 2))\n",
    "    \n",
    "    out_rr = zeros(r, r)\n",
    "    \n",
    "    # store the initial norm L\n",
    "    # norm() is default to be Frobenius norm\n",
    "    L = (norm((X - A_mul_B!(mul_VW, V, W))))^2\n",
    "    #L = sum(abs2, X - A_mul_B!(mul_VW, V, W))\n",
    "    for t in 1:maxiter # stop after 1000 iterations        \n",
    "        # update v \n",
    "        #denomenator_V = V * W * W'\n",
    "        #numerator_V = X * W' \n",
    "        V .= V .* (A_mul_Bt!(numerator_V, X, W) ./ A_mul_B!(denomenator_V, V, A_mul_Bt!(out_rr, W, W)))\n",
    "        \n",
    "        # update denomenator \n",
    "        #denomenator_W = V' * V * W\n",
    "        #numerator_W = V' * X \n",
    "        \n",
    "        # update W \n",
    "        W .= W .* At_mul_B!(numerator_W, V, X) ./ A_mul_B!(denomenator_W, At_mul_B!(out_rr, V, V), W)  \n",
    "    \n",
    "        # exit loop if criterion in part 3 less than tolerance\n",
    "        if abs((norm(X - A_mul_B!(mul_VW, V, W))^2 - L)) / (L + 1) < tol\n",
    "            break\n",
    "        end\n",
    "        \n",
    "        #if (sum(abs2, X - A_mul_B!(mul_VW, V, W)) - L) / (L + 1) < tol\n",
    "        #    break\n",
    "        #end\n",
    "        # update norm \n",
    "        #L = sum(abs2, X - A_mul_B!(mul_VW, V, W))\n",
    "        L = (norm((X - A_mul_B!(mul_VW, V, W))))^2\n",
    "    end  \n",
    "    \n",
    "    # Output\n",
    "    return L, V, W\n",
    "end\n",
    "    \n",
    "    "
   ]
  },
  {
   "cell_type": "markdown",
   "metadata": {},
   "source": [
    "1.2 Database 1 from the MIT Center for Biological and Computational Learning (CBCL) reduces to a matrix  $X$  containing  $m=2,429$  gray-scale face images with  $n=19×19=361$  pixels per face. Each image (row) is scaled to have mean and standard deviation 0.25.\n",
    "Read in the nnmf-2429-by-361-face.txt file, e.g., using readdlm() function, and display a couple sample images, e.g., using ImageView.jl package."
   ]
  },
  {
   "cell_type": "code",
   "execution_count": 3,
   "metadata": {},
   "outputs": [
    {
     "name": "stderr",
     "output_type": "stream",
     "text": [
      "\u001b[1m\u001b[36mINFO: \u001b[39m\u001b[22m\u001b[36mPackage Cairo is already pinned to the selected commit\n",
      "\u001b[39m"
     ]
    },
    {
     "data": {
      "text/plain": [
       "Dict{String,Any} with 4 entries:\n",
       "  \"gui\"         => Dict{String,Any}(Pair{String,Any}(\"window\", Gtk.GtkWindowLea…\n",
       "  \"roi\"         => Dict{String,Any}(Pair{String,Any}(\"redraw\", 145: \"map(clim-m…\n",
       "  \"annotations\" => 111: \"input-38\" = Dict{UInt64,Any}() Dict{UInt64,Any} \n",
       "  \"clim\"        => 110: \"CLim\" = ImageView.CLim{Float64}(0.0, 0.93656) ImageVie…"
      ]
     },
     "execution_count": 3,
     "metadata": {},
     "output_type": "execute_result"
    },
    {
     "name": "stderr",
     "output_type": "stream",
     "text": [
      "\u001b[1m\u001b[33mWARNING: \u001b[39m\u001b[22m\u001b[33mError in @guarded callback\u001b[39m\n",
      "\u001b[1m\u001b[91mERROR: \u001b[39m\u001b[22m\u001b[91mCairo.CairoContext must implement reset_transform\u001b[39m\n"
     ]
    }
   ],
   "source": [
    "# add package for visulizating image\n",
    "#Pkg.add(\"ImageView\")\n",
    "#Pkg.add(\"Images\")\n",
    "#Pkg.add(\"TestImages\")\n",
    "#Pkg.build(\"Cairo\")\n",
    "Pkg.pin(\"Cairo\", v\"0.4.0\")\n",
    "#Pkg.update()\n",
    "using ImageView, Images\n",
    "\n",
    "# readin matrix file\n",
    "path_X = \"http://Hua-Zhou.github.io/teaching/biostatm280-2018spring/hw/hw2/nnmf-2429-by-361-face.txt\"\n",
    "\n",
    "X = readdlm(download(path_X), ' ')\n",
    "\n",
    "# show first three face images\n",
    "for i in 1:3\n",
    "    # extract one row pixels to form one face image\n",
    "    img = reshape(X[i, :], 19, 19)\n",
    "    imshow(img)\n",
    "end\n",
    "    \n"
   ]
  },
  {
   "cell_type": "markdown",
   "metadata": {},
   "source": [
    "1.3  "
   ]
  },
  {
   "cell_type": "code",
   "execution_count": 102,
   "metadata": {},
   "outputs": [],
   "source": [
    "# readin matrix X\n",
    "path_X = \"http://Hua-Zhou.github.io/teaching/biostatm280-2018spring/hw/hw2/nnmf-2429-by-361-face.txt\"\n",
    "X = readdlm(download(path_X), ' ')\n",
    "\n",
    "# readin matrix V0\n",
    "path_V0 = \"http://Hua-Zhou.github.io/teaching/biostatm280-2018spring/hw/hw2/V0.txt\"\n",
    "V0 = readdlm(download(path_V0), ' ')\n",
    "\n",
    "# readin matrix W0\n",
    "path_W0 = \"http://Hua-Zhou.github.io/teaching/biostatm280-2018spring/hw/hw2/W0.txt\"\n",
    "W0 = readdlm(download(path_W0), ' ');"
   ]
  },
  {
   "cell_type": "code",
   "execution_count": 179,
   "metadata": {},
   "outputs": [
    {
     "ename": "LoadError",
     "evalue": "\u001b[91mDimensionMismatch(\"A has dimensions (10,2429) but B has dimensions (10,2429)\")\u001b[39m",
     "output_type": "error",
     "traceback": [
      "\u001b[91mDimensionMismatch(\"A has dimensions (10,2429) but B has dimensions (10,2429)\")\u001b[39m",
      "",
      "Stacktrace:",
      " [1] \u001b[1mgemm_wrapper!\u001b[22m\u001b[22m\u001b[1m(\u001b[22m\u001b[22m::Array{Float64,2}, ::Char, ::Char, ::Array{Float64,2}, ::Array{Float64,2}\u001b[1m)\u001b[22m\u001b[22m at \u001b[1m.\\linalg\\matmul.jl:345\u001b[22m\u001b[22m",
      " [2] \u001b[1m#nnmf#167\u001b[22m\u001b[22m\u001b[1m(\u001b[22m\u001b[22m::Int64, ::Float64, ::Array{Float64,2}, ::Array{Float64,2}, ::Function, ::Array{Float64,2}, ::Int64\u001b[1m)\u001b[22m\u001b[22m at \u001b[1m.\\In[178]:37\u001b[22m\u001b[22m",
      " [3] \u001b[1m(::#kw##nnmf)\u001b[22m\u001b[22m\u001b[1m(\u001b[22m\u001b[22m::Array{Any,1}, ::#nnmf, ::Array{Float64,2}, ::Int64\u001b[1m)\u001b[22m\u001b[22m at \u001b[1m.\\<missing>:0\u001b[22m\u001b[22m",
      " [4] \u001b[1minclude_string\u001b[22m\u001b[22m\u001b[1m(\u001b[22m\u001b[22m::String, ::String\u001b[1m)\u001b[22m\u001b[22m at \u001b[1m.\\loading.jl:522\u001b[22m\u001b[22m"
     ]
    }
   ],
   "source": [
    "# when r = 10\n",
    "V = V0[:, 1:10]\n",
    "W = W0[1:10, :]\n",
    "\n",
    "#@time nnmf(X, 10, maxiter = 1000, tol = 1e-4, V = V0, W = W0)\n",
    "@time L1, M1, N1 = nnmf(X, 10, maxiter = 1000, tol = 1e-4, V = V, W = W)"
   ]
  },
  {
   "cell_type": "code",
   "execution_count": 66,
   "metadata": {},
   "outputs": [
    {
     "name": "stdout",
     "output_type": "stream",
     "text": [
      "588.103967 seconds (552.03 M allocations: 1.099 TiB, 19.28% gc time)\n"
     ]
    },
    {
     "data": {
      "text/plain": [
       "(301.9385909799504, [0.0537538 0.000115933 … 0.0191886 0.0115352; 0.062314 2.32999e-43 … 1.64578e-6 2.89839e-9; … ; 0.0205894 0.0346531 … 0.0330413 0.000193273; 0.0968727 0.0126619 … 0.00803643 0.0227024], [4.55305e-95 1.41062e-88 … 1.80198e-58 9.06297e-96; 1.09527e-27 2.06675e-42 … 1.06604e-52 1.40829e-38; … ; 3.23104e-113 4.70014e-79 … 1.79699e-60 1.33491e-110; 2.45311e-58 5.6305e-42 … 9.7796e-21 1.97882e-10])"
      ]
     },
     "execution_count": 66,
     "metadata": {},
     "output_type": "execute_result"
    }
   ],
   "source": [
    "# when r = 20\n",
    "V = V0[:, 1:20]\n",
    "W = W0[1:20, :]\n",
    "\n",
    "@time L2, M2, N2 = nnmf(X, 20, maxiter = 1000, tol = 1e-4, V = V, W = W)\n",
    "# @time nnmf(X, 20, maxiter = 1000, tol = 1e-4, V = V0, W = W0)"
   ]
  },
  {
   "cell_type": "code",
   "execution_count": null,
   "metadata": {},
   "outputs": [],
   "source": [
    "# when r = 30\n",
    "V = V0[:, 1:30]\n",
    "W = W0[1:30, :]\n",
    "\n",
    "@time L3, M3, N3 = nnmf(X, 30, maxiter = 1000, tol = 1e-4, V = V, W = W)\n",
    "# @time nnmf(X, 30, maxiter = 1000, tol = 1e-4, V = V0, W = W0)"
   ]
  },
  {
   "cell_type": "code",
   "execution_count": null,
   "metadata": {},
   "outputs": [],
   "source": [
    "# when r = 40\n",
    "V = V0[:, 1:40]\n",
    "W = W0[1:40, :]\n",
    "\n",
    "@time L4, M4, N4 = nnmf(X, 40, maxiter = 1000, tol = 1e-4, V = V, W = W)\n",
    "# @time nnmf(X, 40, maxiter = 1000, tol = 1e-4, V = V0, W = W0)"
   ]
  },
  {
   "cell_type": "code",
   "execution_count": null,
   "metadata": {},
   "outputs": [],
   "source": [
    "# when r = 50\n",
    "V = V0[:, 1:50]\n",
    "W = W0[1:50, :]\n",
    "\n",
    "@time L5, M5, N5 = nnmf(X, 50, maxiter = 1000, tol = 1e-4, V = V, W = W)\n",
    "# @time nnmf(X, 50, maxiter = 1000, tol = 1e-4, V = V0, W = W0)"
   ]
  },
  {
   "cell_type": "markdown",
   "metadata": {},
   "source": [
    "1.4 Choose an $r∈{10,20,30,40,50}$  and start your algorithm from a different $V(0)$  and  $W(0)$ . Do you obtain the same objective value and  $(V,W)$ ? Explain what you find."
   ]
  },
  {
   "cell_type": "markdown",
   "metadata": {},
   "source": [
    "* **Choose $r = 10$**"
   ]
  },
  {
   "cell_type": "code",
   "execution_count": null,
   "metadata": {},
   "outputs": [],
   "source": [
    "V = V0[:, 41:50]\n",
    "W = W0[41:50, :]\n",
    "\n",
    "L6, M6, N6 = nnmf(X, 10, maxiter = 1000, tol = 1e-4, V = V, W = W)\n"
   ]
  },
  {
   "cell_type": "markdown",
   "metadata": {},
   "source": [
    "1.5 For the same  $r$ , start your algorithm from  $v(0)_{ik}=w(0)_{kj}=1$  for all  $i,j,k$ . Do you obtain the same objective value and  $(V,W)$ ? Explain what you find."
   ]
  },
  {
   "cell_type": "code",
   "execution_count": null,
   "metadata": {},
   "outputs": [],
   "source": [
    "V = ones(2429, 10)\n",
    "W = ones(10, 361)\n",
    "L7, M7, N7 = nnmf(X, 10, maxiter = 1000, tol = 1e-4, V = V, W = W)"
   ]
  },
  {
   "cell_type": "markdown",
   "metadata": {},
   "source": [
    "1.6 Plot the basis images (rows of  $W$ ) at rank  $r=50$ . What do you find?"
   ]
  },
  {
   "cell_type": "code",
   "execution_count": null,
   "metadata": {},
   "outputs": [],
   "source": [
    "for i in 1:50\n",
    "    # extract one row pixels in Wto form one face image\n",
    "    img = reshape(W[i, :], 19, 19)\n",
    "    imshow(img)\n",
    "end   "
   ]
  },
  {
   "cell_type": "code",
   "execution_count": 173,
   "metadata": {},
   "outputs": [
    {
     "data": {
      "text/plain": [
       "24.0"
      ]
     },
     "execution_count": 173,
     "metadata": {},
     "output_type": "execute_result"
    }
   ],
   "source": [
    "A = ones(2,3)*2\n",
    "sum(abs2, A)"
   ]
  },
  {
   "cell_type": "markdown",
   "metadata": {},
   "source": [
    "### Question 2 Linear Mixed Models\n",
    "Consider a linear mixed effects model $yi=xTiβ+zTiγ+ϵi,i=1,…,n,$\n",
    "where  $ϵi$  are independent normal errors  $N(0,σ20)$,  $β∈R_{p}$  are fixed effects, and  $γ∈R_{q}$  are random effects assumed to be  $N(0_{q},σ21Iq )$ independent of  $ϵi$ ."
   ]
  },
  {
   "cell_type": "markdown",
   "metadata": {},
   "source": [
    "2.1 "
   ]
  }
 ],
 "metadata": {
  "kernelspec": {
   "display_name": "Julia 0.6.2",
   "language": "julia",
   "name": "julia-0.6"
  },
  "language_info": {
   "file_extension": ".jl",
   "mimetype": "application/julia",
   "name": "julia",
   "version": "0.6.2"
  }
 },
 "nbformat": 4,
 "nbformat_minor": 2
}
