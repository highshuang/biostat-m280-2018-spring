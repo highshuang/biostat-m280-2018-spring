{
 "cells": [
  {
   "cell_type": "markdown",
   "metadata": {},
   "source": [
    "# M280 Homework 2\n",
    "* Author: Shuang Gao\n",
    "* Date: 2018/05/02"
   ]
  },
  {
   "cell_type": "markdown",
   "metadata": {},
   "source": [
    "## Question 1"
   ]
  },
  {
   "cell_type": "markdown",
   "metadata": {},
   "source": [
    "1.1 Implement the algorithm with arguments:  $X$  (data, each row is a vectorized image), rank  $r$ , convergence tolerance, and optional starting point."
   ]
  },
  {
   "cell_type": "code",
   "execution_count": 5,
   "metadata": {},
   "outputs": [
    {
     "data": {
      "text/plain": [
       "nnmf (generic function with 1 method)"
      ]
     },
     "execution_count": 5,
     "metadata": {},
     "output_type": "execute_result"
    }
   ],
   "source": [
    "function nnmf(\n",
    " X::Matrix, \n",
    " r::Int;\n",
    " maxiter::Int = 1000, # change iteration from 1000 to 2\n",
    " tol::Float64 = 1e-4\n",
    " )  \n",
    "    # readin matrix V0\n",
    "    path_V0 = \"http://Hua-Zhou.github.io/teaching/biostatm280-2018spring/hw/hw2/V0.txt\"\n",
    "    V0 = readdlm(download(path_V0), ' ')\n",
    "\n",
    "    # readin matrix W0\n",
    "    path_W0 = \"http://Hua-Zhou.github.io/teaching/biostatm280-2018spring/hw/hw2/W0.txt\"\n",
    "    W0 = readdlm(download(path_W0), ' ')\n",
    "\n",
    "    V = V0[:, 1:r]\n",
    "    W = W0[1:r, :]\n",
    "    \n",
    "    \n",
    "    # input V W \n",
    "    #V = rand(size(X, 1), r)\n",
    "    W = rand(r, size(X, 2))\n",
    "    \n",
    "    # initilize two matrices \n",
    "    V_new = zeros(size(V))\n",
    "    W_new = zeros(size(W))\n",
    "    \n",
    "    for t in 1:maxiter # stop after 1000 iterations\n",
    "        # update v by element\n",
    "        for k in 1:r, i in 1:size(X, 1)\n",
    "            # initialize float number for denomenator\n",
    "            denomenator = 0.0\n",
    "            # update denomenator \n",
    "            for j in 1:size(X, 2)\n",
    "                denomenator += dot(V[i, :], W[:, j]) * W[k, j]\n",
    "            end\n",
    "            # update element V_ik\n",
    "            V_new[i, k] = V[i, k] * dot(X[i, :], W[k, :]) / denomenator \n",
    "        end\n",
    "\n",
    "\n",
    "        \n",
    "        # update W by element\n",
    "        for j in 1:size(X, 2), k in 1:r\n",
    "            # initialize float number for denomenator\n",
    "            denomenator = 0.0\n",
    "            # update denomenator \n",
    "            for i in 1:size(X, 1)\n",
    "                denomenator += dot(V_new[i, :], W[:, j]) * V_new[i, k]\n",
    "            end\n",
    "            # update element W_kj\n",
    "            W_new[k, j] = W[k, j] * dot(X[:, j], V_new[:, k]) / denomenator \n",
    "        end\n",
    "        \n",
    "        # update V W \n",
    "        V = copy(V_new)\n",
    "        W = copy(W_new) \n",
    "        \n",
    "        # calculate Frobenius norm after each iteration\n",
    "        norm = 0.0\n",
    "        for j = 1:size(X, 2), i = 1:size(X, 1)\n",
    "            norm += (X[i, j] - dot(V[i, :], W[:, j]))^2 \n",
    "        end\n",
    "    \n",
    "        # exit loop if norm less than tolerance\n",
    "        if norm <= tol\n",
    "            exit \n",
    "        end\n",
    "    end      \n",
    "    \n",
    "    # Output\n",
    "    return V, W\n",
    "end\n",
    "    \n",
    "    "
   ]
  },
  {
   "cell_type": "markdown",
   "metadata": {},
   "source": [
    "1.2 Database 1 from the MIT Center for Biological and Computational Learning (CBCL) reduces to a matrix  $X$  containing  $m=2,429$  gray-scale face images with  $n=19×19=361$  pixels per face. Each image (row) is scaled to have mean and standard deviation 0.25.\n",
    "Read in the nnmf-2429-by-361-face.txt file, e.g., using readdlm() function, and display a couple sample images, e.g., using ImageView.jl package."
   ]
  },
  {
   "cell_type": "code",
   "execution_count": 3,
   "metadata": {},
   "outputs": [
    {
     "name": "stderr",
     "output_type": "stream",
     "text": [
      "\u001b[1m\u001b[36mINFO: \u001b[39m\u001b[22m\u001b[36mPackage Cairo is already pinned to the selected commit\n",
      "\u001b[39m"
     ]
    },
    {
     "data": {
      "text/plain": [
       "Dict{String,Any} with 4 entries:\n",
       "  \"gui\"         => Dict{String,Any}(Pair{String,Any}(\"window\", Gtk.GtkWindowLea…\n",
       "  \"roi\"         => Dict{String,Any}(Pair{String,Any}(\"redraw\", 145: \"map(clim-m…\n",
       "  \"annotations\" => 111: \"input-38\" = Dict{UInt64,Any}() Dict{UInt64,Any} \n",
       "  \"clim\"        => 110: \"CLim\" = ImageView.CLim{Float64}(0.0, 0.93656) ImageVie…"
      ]
     },
     "execution_count": 3,
     "metadata": {},
     "output_type": "execute_result"
    },
    {
     "name": "stderr",
     "output_type": "stream",
     "text": [
      "\u001b[1m\u001b[33mWARNING: \u001b[39m\u001b[22m\u001b[33mError in @guarded callback\u001b[39m\n",
      "\u001b[1m\u001b[91mERROR: \u001b[39m\u001b[22m\u001b[91mCairo.CairoContext must implement reset_transform\u001b[39m\n"
     ]
    }
   ],
   "source": [
    "# add package for visulizating image\n",
    "#Pkg.add(\"ImageView\")\n",
    "#Pkg.add(\"Images\")\n",
    "#Pkg.add(\"TestImages\")\n",
    "#Pkg.build(\"Cairo\")\n",
    "Pkg.pin(\"Cairo\", v\"0.4.0\")\n",
    "#Pkg.update()\n",
    "using ImageView, Images\n",
    "\n",
    "# readin matrix file\n",
    "path_X = \"http://Hua-Zhou.github.io/teaching/biostatm280-2018spring/hw/hw2/nnmf-2429-by-361-face.txt\"\n",
    "\n",
    "X = readdlm(download(path_X), ' ')\n",
    "\n",
    "# show first three face images\n",
    "#for i in 1:3\n",
    "    # extract one row pixels to form one face image\n",
    "    img = reshape(X[1, :], 19, 19)\n",
    "    imshow(img)\n",
    "#end\n",
    "    \n"
   ]
  },
  {
   "cell_type": "markdown",
   "metadata": {},
   "source": [
    "1.3  "
   ]
  },
  {
   "cell_type": "code",
   "execution_count": 14,
   "metadata": {},
   "outputs": [],
   "source": [
    "# readin matrix X\n",
    "path_X = \"http://Hua-Zhou.github.io/teaching/biostatm280-2018spring/hw/hw2/nnmf-2429-by-361-face.txt\"\n",
    "X = readdlm(download(path_X), ' ')\n",
    "\n",
    "# readin matrix V0\n",
    "path_V0 = \"http://Hua-Zhou.github.io/teaching/biostatm280-2018spring/hw/hw2/V0.txt\"\n",
    "V0 = readdlm(download(path_V0), ' ')\n",
    "\n",
    "# readin matrix W0\n",
    "path_W0 = \"http://Hua-Zhou.github.io/teaching/biostatm280-2018spring/hw/hw2/W0.txt\"\n",
    "W0 = readdlm(download(path_W0), ' ');\n"
   ]
  },
  {
   "cell_type": "code",
   "execution_count": null,
   "metadata": {},
   "outputs": [],
   "source": [
    "# when r = 10\n",
    "@time nnmf(X, 10, maxiter = 1000, tol = 1e-4)\n",
    "@time nnmf(X, 10, maxiter = 1000, tol = 1e-4)"
   ]
  },
  {
   "cell_type": "code",
   "execution_count": null,
   "metadata": {},
   "outputs": [],
   "source": [
    "# when r = 20\n",
    "@time nnmf(X, 20, maxiter = 1000, tol = 1e-4)\n",
    "@time nnmf(X, 20, maxiter = 1000, tol = 1e-4)"
   ]
  },
  {
   "cell_type": "code",
   "execution_count": null,
   "metadata": {},
   "outputs": [],
   "source": [
    "# when r = 30\n",
    "@time nnmf(X, 30, maxiter = 1000, tol = 1e-4)\n",
    "@time nnmf(X, 30, maxiter = 1000, tol = 1e-4)"
   ]
  },
  {
   "cell_type": "code",
   "execution_count": null,
   "metadata": {},
   "outputs": [],
   "source": [
    "# when r = 40\n",
    "@time nnmf(X, 40, maxiter = 1000, tol = 1e-4)\n",
    "@time nnmf(X, 40, maxiter = 1000, tol = 1e-4)"
   ]
  },
  {
   "cell_type": "code",
   "execution_count": null,
   "metadata": {},
   "outputs": [],
   "source": [
    "##### when r = 50\n",
    "@time nnmf(X, 50, maxiter = 1000, tol = 1e-4)\n",
    "@time nnmf(X, 50, maxiter = 1000, tol = 1e-4)"
   ]
  },
  {
   "cell_type": "code",
   "execution_count": null,
   "metadata": {},
   "outputs": [],
   "source": [
    "function nnmf(\n",
    " X::Matrix, \n",
    " r::Int;\n",
    " maxiter::Int = 1000, # change iteration from 1000 to 2\n",
    " tol::Float64 = 1e-4\n",
    " )  "
   ]
  },
  {
   "cell_type": "code",
   "execution_count": 32,
   "metadata": {},
   "outputs": [
    {
     "data": {
      "text/plain": [
       "0.25"
      ]
     },
     "execution_count": 32,
     "metadata": {},
     "output_type": "execute_result"
    }
   ],
   "source": [
    "2.0^(-2)"
   ]
  },
  {
   "cell_type": "code",
   "execution_count": 11,
   "metadata": {},
   "outputs": [
    {
     "data": {
      "text/plain": [
       "2429×361 Array{Float64,2}:\n",
       " 0.14815    0.018294   0.027569   0.0        …  0.0       0.0       0.0      \n",
       " 0.20667    0.095859   0.0020948  0.10438       0.0       0.0       0.0      \n",
       " 0.020835   0.0        0.13617    0.0030917     0.0       0.0       0.0      \n",
       " 0.0        0.25467    0.0        0.076619      0.14222   0.020391  0.0      \n",
       " 0.0082034  0.0        0.16066    0.0           0.089516  0.059024  0.0      \n",
       " 0.0        0.0        0.0        0.32852    …  0.21551   0.11192   0.027156 \n",
       " 0.0        0.0        0.0        0.027593      0.28612   0.26544   0.14135  \n",
       " 0.16249    0.15444    0.0095702  0.0           0.33151   0.33956   0.35566  \n",
       " 0.090691   0.11932    0.1408     0.04774       0.34839   0.32692   0.29828  \n",
       " 0.0        0.069167   0.098722   0.1135        0.34994   0.36472   0.32778  \n",
       " 0.1602     0.0060618  0.0        0.0        …  0.42994   0.42994   0.37214  \n",
       " 0.02756    0.0        0.11518    0.0           0.045083  0.018798  0.0012747\n",
       " 0.22345    0.0021421  0.0        0.044701      0.044701  0.027678  0.019166 \n",
       " ⋮                                           ⋱                      ⋮        \n",
       " 0.15922    0.17035    0.064602   0.0089446     0.11469   0.086866  0.0033788\n",
       " 0.0        0.0        0.037896   0.043361      0.0       0.0       0.0      \n",
       " 0.15336    0.11318    0.079692   0.0           0.046206  0.026114  0.0      \n",
       " 0.2064     0.13341    0.04714    0.0        …  0.086955  0.067048  0.0      \n",
       " 0.0        0.0        0.0        0.0           0.0       0.0       0.0      \n",
       " 0.02175    0.16895    0.19282    0.10927       0.1411    0.12519   0.10529  \n",
       " 0.053085   0.14702    0.22053    0.11026       0.14293   0.11843   0.049001 \n",
       " 0.0        0.21869    0.27531    0.14588       0.085213  0.073079  0.0      \n",
       " 0.0        0.040962   0.13268    0.14066    …  0.12072   0.076853  0.021023 \n",
       " 0.0        0.010794   0.15355    0.11277       0.125     0.088292  0.018951 \n",
       " 0.0        0.067969   0.2094     0.20132       0.16899   0.11646   0.0      \n",
       " 0.0        0.0        0.0        0.0           0.2962    0.2268    0.17908  "
      ]
     },
     "execution_count": 11,
     "metadata": {},
     "output_type": "execute_result"
    }
   ],
   "source": [
    "# readin matrix file\n",
    "path_X = \"http://Hua-Zhou.github.io/teaching/biostatm280-2018spring/hw/hw2/nnmf-2429-by-361-face.txt\"\n",
    "\n",
    "X = readdlm(download(path_X), ' ')"
   ]
  },
  {
   "cell_type": "code",
   "execution_count": 36,
   "metadata": {},
   "outputs": [
    {
     "data": {
      "text/plain": [
       "5×5 Array{Float64,2}:\n",
       " 0.208376   0.992082  0.597698   0.350974    0.0549897\n",
       " 0.980541   0.231828  0.10002    0.872671    0.0455036\n",
       " 0.0200053  0.357273  0.057088   0.908363    0.639969 \n",
       " 0.996505   0.75005   0.171043   0.405864    0.526456 \n",
       " 0.449994   0.53021   0.0568716  0.00637239  0.17208  "
      ]
     },
     "metadata": {},
     "output_type": "display_data"
    },
    {
     "data": {
      "text/plain": [
       "5×5 Array{Float64,2}:\n",
       " 10.0        0.992082  0.597698   0.350974    0.0549897\n",
       "  0.980541   0.231828  0.10002    0.872671    0.0455036\n",
       "  0.0200053  0.357273  0.057088   0.908363    0.639969 \n",
       "  0.996505   0.75005   0.171043   0.405864    0.526456 \n",
       "  0.449994   0.53021   0.0568716  0.00637239  0.17208  "
      ]
     },
     "metadata": {},
     "output_type": "display_data"
    }
   ],
   "source": [
    "A = rand(5,5)\n",
    "display(A)\n",
    "A[1, 1] = 10\n",
    "display(A)"
   ]
  }
 ],
 "metadata": {
  "kernelspec": {
   "display_name": "Julia 0.6.2",
   "language": "julia",
   "name": "julia-0.6"
  },
  "language_info": {
   "file_extension": ".jl",
   "mimetype": "application/julia",
   "name": "julia",
   "version": "0.6.2"
  }
 },
 "nbformat": 4,
 "nbformat_minor": 2
}
