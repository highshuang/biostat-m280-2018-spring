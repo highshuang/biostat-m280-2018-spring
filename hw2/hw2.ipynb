{
 "cells": [
  {
   "cell_type": "markdown",
   "metadata": {},
   "source": [
    "# M280 Homework 2\n",
    "* Author: Shuang Gao\n",
    "* Date: 2018/05/02"
   ]
  },
  {
   "cell_type": "markdown",
   "metadata": {},
   "source": [
    "## Question 1"
   ]
  },
  {
   "cell_type": "markdown",
   "metadata": {},
   "source": [
    "1.1 Implement the algorithm with arguments:  $X$  (data, each row is a vectorized image), rank  $r$ , convergence tolerance, and optional starting point."
   ]
  },
  {
   "cell_type": "code",
   "execution_count": null,
   "metadata": {},
   "outputs": [],
   "source": [
    "function nnmf(\n",
    " X::Matrix, \n",
    " r::Int;\n",
    " maxiter::Int=1000, \n",
    " tol::eltype(X)=1e-4,\n",
    " V::Matrix{eltype(X)}=rand(size(X, 1), r),\n",
    " W::Matrix{eltype(X)}=rand(r, size(X, 2))\n",
    " )  \n",
    "     \n",
    "    for t in 1:maxiter # stop after 1000 iterations\n",
    "        # update v by element\n",
    "        for k in 1:r, i in 1:size(X, 1)\n",
    "            # initialize float number for denomenator\n",
    "            denomenator = 0.0\n",
    "            # update denomenator \n",
    "            for j in 1:size(X, 2)\n",
    "                denomenator += dot(V[i, :], W[:, j]) * W[k, j]\n",
    "            end\n",
    "            # update element V_ik\n",
    "            V[i, k] = V[i, k] * dot(X[i, :], W[k, :]) / denomenator \n",
    "        end\n",
    "        \n",
    "        # update W by element\n",
    "        for j in 1:size(X, 2), k in 1:r\n",
    "            # initialize float number for denomenator\n",
    "            denomenator = 0.0\n",
    "            # update denomenator \n",
    "            for i in 1:size(X, 1)\n",
    "                denomenator += dot(V[i, :], W[:, j]) * V[i, k]\n",
    "            end\n",
    "            # update element W_kj\n",
    "            W[k, j] = W[k, j] * dot(X[:, j], V[:, k]) / denomenator \n",
    "        end\n",
    "        \n",
    "        # calculate Frobenius norm after each iteration\n",
    "        norm = 0.0\n",
    "        for j = 1:size(X, 2), i = 1:size(X, 1)\n",
    "            norm += (X[i, j] - dot(V[i, :], W[:, j]))^2\n",
    "        end\n",
    "    \n",
    "        # exit loop if norm less than tolerance\n",
    "        if norm <= tol\n",
    "            exit \n",
    "        end\n",
    "    end      \n",
    "    \n",
    "    # Output\n",
    "    return V, W\n",
    "    end\n",
    "    \n",
    "    "
   ]
  },
  {
   "cell_type": "markdown",
   "metadata": {},
   "source": [
    "1.2 Database 1 from the MIT Center for Biological and Computational Learning (CBCL) reduces to a matrix  $X$  containing  $m=2,429$  gray-scale face images with  $n=19×19=361$  pixels per face. Each image (row) is scaled to have mean and standard deviation 0.25.\n",
    "Read in the nnmf-2429-by-361-face.txt file, e.g., using readdlm() function, and display a couple sample images, e.g., using ImageView.jl package."
   ]
  },
  {
   "cell_type": "code",
   "execution_count": 15,
   "metadata": {},
   "outputs": [
    {
     "name": "stderr",
     "output_type": "stream",
     "text": [
      "\u001b[1m\u001b[36mINFO: \u001b[39m\u001b[22m\u001b[36mPrecompiling module ImageMagick.\n",
      "\u001b[39m"
     ]
    },
    {
     "data": {
      "text/plain": [
       "Dict{String,Any} with 4 entries:\n",
       "  \"gui\"         => Dict{String,Any}(Pair{String,Any}(\"window\", Gtk.GtkWindowLea…\n",
       "  \"roi\"         => Dict{String,Any}(Pair{String,Any}(\"redraw\", 32: \"map(f-mappe…\n",
       "  \"annotations\" => 2: \"input-2\" = Dict{UInt64,Any}() Dict{UInt64,Any} \n",
       "  \"clim\"        => nothing"
      ]
     },
     "execution_count": 15,
     "metadata": {},
     "output_type": "execute_result"
    },
    {
     "name": "stderr",
     "output_type": "stream",
     "text": [
      "\u001b[1m\u001b[33mWARNING: \u001b[39m\u001b[22m\u001b[33mError in @guarded callback\u001b[39m\n",
      "\u001b[1m\u001b[91mERROR: \u001b[39m\u001b[22m\u001b[91mCairo.CairoContext must implement reset_transform\u001b[39m\n",
      "\u001b[1m\u001b[33mWARNING: \u001b[39m\u001b[22m\u001b[33mError in @guarded callback\u001b[39m\n",
      "\u001b[1m\u001b[91mERROR: \u001b[39m\u001b[22m\u001b[91mCairo.CairoContext must implement reset_transform\u001b[39m\n",
      "\u001b[1m\u001b[33mWARNING: \u001b[39m\u001b[22m\u001b[33mError in @guarded callback\u001b[39m\n",
      "\u001b[1m\u001b[91mERROR: \u001b[39m\u001b[22m\u001b[91mCairo.CairoContext must implement reset_transform\u001b[39m\n"
     ]
    }
   ],
   "source": [
    "# add package for visulizating image\n",
    "#Pkg.add(\"ImageView\")\n",
    "#Pkg.add(\"Images\")\n",
    "#Pkg.add(\"TestImages\")\n",
    "#Pkg.build(\"Cairo\")\n",
    "using ImageView, Images, TestImages\n",
    "img = testimage(\"mandrill\")\n",
    "imshow(img)\n",
    "\n"
   ]
  },
  {
   "cell_type": "code",
   "execution_count": null,
   "metadata": {},
   "outputs": [],
   "source": [
    "# readin matrix file\n",
    "path_X = \"Hua-Zhou.github.io/teaching/biostatm280-2018spring/\n",
    "    hw/hw2/nnmf-2429-by-361-face.txt\"\n",
    "\n",
    "X = readdlm(download(path_X), ' ')\n",
    "\n",
    "# extract one row pixels to form one face image\n",
    "img = face_matrix[1. :]\n",
    "img = reshape(img, 19, 19)\n",
    "imshow(img)\n",
    "\n",
    "# readin matrix V0\n",
    "path_V0 = \"Hua-Zhou.github.io/teaching/biostatm280-2018spring/\n",
    "    hw/hw2/V0.txt\"\n",
    "# readin matrix W0\n",
    "path_W0 = \"Hua-Zhou.github.io/teaching/biostatm280-2018spring/\n",
    "    hw/hw2/W0.txt\""
   ]
  }
 ],
 "metadata": {
  "kernelspec": {
   "display_name": "Julia 0.6.2",
   "language": "julia",
   "name": "julia-0.6"
  },
  "language_info": {
   "file_extension": ".jl",
   "mimetype": "application/julia",
   "name": "julia",
   "version": "0.6.2"
  }
 },
 "nbformat": 4,
 "nbformat_minor": 2
}
