{
 "cells": [
  {
   "cell_type": "code",
   "execution_count": 1,
   "metadata": {},
   "outputs": [
    {
     "ename": "LoadError",
     "evalue": "\u001b[91mUndefVarError: X not defined\u001b[39m",
     "output_type": "error",
     "traceback": [
      "\u001b[91mUndefVarError: X not defined\u001b[39m",
      "",
      "Stacktrace:",
      " [1] \u001b[1minclude_string\u001b[22m\u001b[22m\u001b[1m(\u001b[22m\u001b[22m::String, ::String\u001b[1m)\u001b[22m\u001b[22m at \u001b[1m.\\loading.jl:522\u001b[22m\u001b[22m"
     ]
    }
   ],
   "source": [
    "function nnmf(\n",
    " X::Matrix{Float64}, \n",
    " r::Int;\n",
    " maxiter::Int=2, # change iteration from 1000 to 2\n",
    " tol::eltype(X)=1e-4,\n",
    " V::Matrix{eltype(X)}=rand(size(X, 1), r),\n",
    " W::Matrix{eltype(X)}=rand(r, size(X, 2))\n",
    " )  \n",
    "    # initilize two matrices \n",
    "    V_new = zeros(size(V))\n",
    "    W_new = zeros(size(W))\n",
    "    \n",
    "    for t in 1:maxiter # stop after 1000 iterations\n",
    "        # update v by element\n",
    "        for k in 1:r, i in 1:size(X, 1)\n",
    "            # initialize float number for denomenator\n",
    "            denomenator = 0.0\n",
    "            # update denomenator \n",
    "            for j in 1:size(X, 2)\n",
    "                denomenator += dot(V[i, :], W[:, j]) * W[k, j]\n",
    "            end\n",
    "            # update element V_ik\n",
    "            V_new[i, k] = V[i, k] * dot(X[i, :], W[k, :]) / denomenator \n",
    "        end\n",
    "\n",
    "\n",
    "        \n",
    "        # update W by element\n",
    "        for j in 1:size(X, 2), k in 1:r\n",
    "            # initialize float number for denomenator\n",
    "            denomenator = 0.0\n",
    "            # update denomenator \n",
    "            for i in 1:size(X, 1)\n",
    "                denomenator += dot(V_new[i, :], W[:, j]) * V_new[i, k]\n",
    "            end\n",
    "            # update element W_kj\n",
    "            W_new[k, j] = W[k, j] * dot(X[:, j], V_new[:, k]) / denomenator \n",
    "        end\n",
    "        \n",
    "        # update V W \n",
    "        V = copy(V_new)\n",
    "        W = copy(W_new) \n",
    "        \n",
    "        # calculate Frobenius norm after each iteration\n",
    "        norm = 0.0\n",
    "        for j = 1:size(X, 2), i = 1:size(X, 1)\n",
    "            norm += (X[i, j] - dot(V[i, :], W[:, j]))^2 \n",
    "        end\n",
    "    \n",
    "        # exit loop if norm less than tolerance\n",
    "        if norm <= tol\n",
    "            exit \n",
    "        end\n",
    "    end      \n",
    "    \n",
    "    # Output\n",
    "    return V, W\n",
    "end\n",
    "    \n",
    "    "
   ]
  },
  {
   "cell_type": "code",
   "execution_count": null,
   "metadata": {},
   "outputs": [],
   "source": [
    "path_X = \"http://Hua-Zhou.github.io/teaching/biostatm280-2018spring/hw/hw2/nnmf-2429-by-361-face.txt\"\n",
    "\n",
    "X = readdlm(download(path_X), ' ')\n",
    "# readin matrix V0\n",
    "path_V0 = \"http://Hua-Zhou.github.io/teaching/biostatm280-2018spring/hw/hw2/V0.txt\"\n",
    "V0 = readdlm(download(path_V0), ' ')\n",
    "\n",
    "# readin matrix W0\n",
    "path_W0 = \"http://Hua-Zhou.github.io/teaching/biostatm280-2018spring/hw/hw2/W0.txt\"\n",
    "W0 = readdlm(download(path_W0), ' ')\n",
    "\n",
    "V = V0[:, 1:10]\n",
    "W = W0[1:10, :]\n",
    "\n",
    "nnmf(X,10)"
   ]
  }
 ],
 "metadata": {
  "kernelspec": {
   "display_name": "Julia 0.6.2",
   "language": "julia",
   "name": "julia-0.6"
  },
  "language_info": {
   "file_extension": ".jl",
   "mimetype": "application/julia",
   "name": "julia",
   "version": "0.6.2"
  }
 },
 "nbformat": 4,
 "nbformat_minor": 2
}
