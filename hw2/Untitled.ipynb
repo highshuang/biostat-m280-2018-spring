{
 "cells": [
  {
   "cell_type": "code",
   "execution_count": 4,
   "metadata": {},
   "outputs": [
    {
     "name": "stdout",
     "output_type": "stream",
     "text": [
      " 10.519170 seconds (323.13 M allocations: 14.771 GiB, 5.46% gc time)\n"
     ]
    },
    {
     "data": {
      "text/plain": [
       "([0.0612512 0.0200807 … 0.0466631 0.058435; 0.0300346 0.0638489 … 0.013308 0.077346; … ; 0.0838228 0.0660934 … 0.0141304 0.0272105; 0.103985 0.0926212 … 0.0830227 0.0494537], [0.221319 0.16758 … 0.101537 0.0825558; 0.265562 0.138101 … 0.23274 0.227002; … ; 0.299134 0.172603 … 0.479491 0.291251; 0.140716 0.312547 … 0.0520511 0.0108949])"
      ]
     },
     "execution_count": 4,
     "metadata": {},
     "output_type": "execute_result"
    }
   ],
   "source": [
    "function nnmf_1(\n",
    " X::Matrix, \n",
    " r::Int;\n",
    " maxiter::Int = 1000, \n",
    " tol::Float64 = 1e-4\n",
    " )  \n",
    "    # readin matrix V0\n",
    "    path_V0 = \"http://Hua-Zhou.github.io/teaching/biostatm280-2018spring/hw/hw2/V0.txt\"\n",
    "    V0 = readdlm(download(path_V0), ' ')\n",
    "\n",
    "    # readin matrix W0\n",
    "    path_W0 = \"http://Hua-Zhou.github.io/teaching/biostatm280-2018spring/hw/hw2/W0.txt\"\n",
    "    W0 = readdlm(download(path_W0), ' ')\n",
    "\n",
    "    V = V0[:, 1:r]\n",
    "    W = W0[1:r, :]\n",
    "    \n",
    "    \n",
    "    # input V W \n",
    "    #V = rand(size(X, 1), r)\n",
    "    #W = rand(r, size(X, 2))\n",
    "    \n",
    "    # initilize two matrices \n",
    "    V_new = zeros(size(V))\n",
    "    W_new = zeros(size(W))\n",
    "    \n",
    "    for t in 1:maxiter # stop after 1000 iterations\n",
    "        # update v by element\n",
    "        for k in 1:r, i in 1:size(X, 1)\n",
    "            # initialize float number for denomenator\n",
    "            denomenator = 0.0\n",
    "            # update denomenator \n",
    "            for j in 1:size(X, 2)\n",
    "                denomenator += vecdot(V[i, :], W[:, j]) * W[k, j]\n",
    "            end\n",
    "            # update element V_ik\n",
    "            V_new[i, k] = V[i, k] * vecdot(X[i, :], W[k, :]) / denomenator \n",
    "        end\n",
    "\n",
    "\n",
    "        \n",
    "        # update W by element\n",
    "        for j in 1:size(X, 2), k in 1:r\n",
    "            # initialize float number for denomenator\n",
    "            denomenator = 0.0\n",
    "            # update denomenator \n",
    "            for i in 1:size(X, 1)\n",
    "                denomenator += vecdot(V_new[i, :], W[:, j]) * V_new[i, k]\n",
    "            end\n",
    "            # update element W_kj\n",
    "            W_new[k, j] = W[k, j] * vecdot(X[:, j], V_new[:, k]) / denomenator \n",
    "        end\n",
    "        \n",
    "        # update V W \n",
    "        V = copy(V_new)\n",
    "        W = copy(W_new) \n",
    "        \n",
    "        # calculate Frobenius norm after each iteration\n",
    "        norm = 0.0\n",
    "        for j = 1:size(X, 2), i = 1:size(X, 1)\n",
    "            norm += (X[i, j] - vecdot(V[i, :], W[:, j]))^2 \n",
    "        end\n",
    "    \n",
    "        # exit loop if norm less than tolerance\n",
    "        if norm <= tol\n",
    "            exit \n",
    "        end\n",
    "    end      \n",
    "    \n",
    "    # Output\n",
    "    return V, W\n",
    "end\n",
    "\n",
    "# readin matrix X\n",
    "path_X = \"http://Hua-Zhou.github.io/teaching/biostatm280-2018spring/hw/hw2/nnmf-2429-by-361-face.txt\"\n",
    "X = readdlm(download(path_X), ' ')\n",
    "\n",
    "@time nnmf_1(X,10, maxiter = 2, tol = 10.0^(-4))\n",
    "    "
   ]
  }
 ],
 "metadata": {
  "kernelspec": {
   "display_name": "Julia 0.6.2",
   "language": "julia",
   "name": "julia-0.6"
  },
  "language_info": {
   "file_extension": ".jl",
   "mimetype": "application/julia",
   "name": "julia",
   "version": "0.6.2"
  }
 },
 "nbformat": 4,
 "nbformat_minor": 2
}
